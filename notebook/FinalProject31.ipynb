{
  "nbformat": 4,
  "nbformat_minor": 0,
  "metadata": {
    "colab": {
      "name": "FinalProject31.ipynb",
      "provenance": [],
      "collapsed_sections": [],
      "toc_visible": true,
      "machine_shape": "hm",
      "include_colab_link": true
    },
    "kernelspec": {
      "name": "python3",
      "display_name": "Python 3"
    },
    "accelerator": "GPU"
  },
  "cells": [
    {
      "cell_type": "markdown",
      "metadata": {
        "id": "view-in-github",
        "colab_type": "text"
      },
      "source": [
        "<a href=\"https://colab.research.google.com/github/asanneh/CS109A_2019_GR31_FINAL_PROJECT/blob/master/notebook/FinalProject31.ipynb\" target=\"_parent\"><img src=\"https://colab.research.google.com/assets/colab-badge.svg\" alt=\"Open In Colab\"/></a>"
      ]
    },
    {
      "cell_type": "code",
      "metadata": {
        "id": "93NQZ_wGQYSa",
        "colab_type": "code",
        "colab": {}
      },
      "source": [
        "import pandas as pd\n",
        "import numpy as np\n",
        "import scipy.sparse as sparse"
      ],
      "execution_count": 0,
      "outputs": []
    },
    {
      "cell_type": "markdown",
      "metadata": {
        "id": "frbDSklJBOrD",
        "colab_type": "text"
      },
      "source": [
        "Helpful guide: https://towardsdatascience.com/getting-started-with-google-colab-f2fff97f594c. I mounted my google drive and then unzipped the Spotify Data. I think I got everything (CSVs from 0-999). Each CSV is 11 MB, so the unzipped size of the data is 11 GB (not too terrible?). We can always run things on the GPU by going to Runtime > change runtime type > GPU. That should give more space. "
      ]
    },
    {
      "cell_type": "code",
      "metadata": {
        "id": "G3StzX8MIves",
        "colab_type": "code",
        "outputId": "ba3b745e-ca91-41e7-a5c6-830bc1f268db",
        "colab": {
          "base_uri": "https://localhost:8080/",
          "height": 34
        }
      },
      "source": [
        "from google.colab import drive\n",
        "drive.mount('/content/drive')# force_remount=True)"
      ],
      "execution_count": 3,
      "outputs": [
        {
          "output_type": "stream",
          "text": [
            "Drive already mounted at /content/drive; to attempt to forcibly remount, call drive.mount(\"/content/drive\", force_remount=True).\n"
          ],
          "name": "stdout"
        }
      ]
    },
    {
      "cell_type": "code",
      "metadata": {
        "id": "ehMR48ojQWt_",
        "colab_type": "code",
        "outputId": "b0fd44bb-47c2-4b73-b0c8-0799c4c81111",
        "colab": {
          "base_uri": "https://localhost:8080/",
          "height": 360
        }
      },
      "source": [
        "#load entire playlist to dataframe, note there is a performance hit here since I/O can't be parallelized\n",
        "#You can limit how many rows you read in by including nrows\n",
        "songs = pd.read_csv('/content/drive/My Drive/Spotify/combined_playlist.csv') #nrows = 10000000\n",
        "print(f'dataset shape: {songs.shape}')\n",
        "len(songs['pid'].unique())\n",
        "print(f'unique playlists: {len(songs.pid.unique())}')\n",
        "print(f'unique songs: {len(songs.track_uri.unique())}')\n",
        "songs.head()"
      ],
      "execution_count": 4,
      "outputs": [
        {
          "output_type": "stream",
          "text": [
            "dataset shape: (66346428, 10)\n",
            "unique playlists: 1000\n",
            "unique songs: 2262292\n"
          ],
          "name": "stdout"
        },
        {
          "output_type": "execute_result",
          "data": {
            "text/html": [
              "<div>\n",
              "<style scoped>\n",
              "    .dataframe tbody tr th:only-of-type {\n",
              "        vertical-align: middle;\n",
              "    }\n",
              "\n",
              "    .dataframe tbody tr th {\n",
              "        vertical-align: top;\n",
              "    }\n",
              "\n",
              "    .dataframe thead th {\n",
              "        text-align: right;\n",
              "    }\n",
              "</style>\n",
              "<table border=\"1\" class=\"dataframe\">\n",
              "  <thead>\n",
              "    <tr style=\"text-align: right;\">\n",
              "      <th></th>\n",
              "      <th>pid</th>\n",
              "      <th>pos</th>\n",
              "      <th>artist_name</th>\n",
              "      <th>track_uri</th>\n",
              "      <th>artist_uri</th>\n",
              "      <th>track_name</th>\n",
              "      <th>album_uri</th>\n",
              "      <th>duration_ms</th>\n",
              "      <th>album_name</th>\n",
              "      <th>file_name</th>\n",
              "    </tr>\n",
              "  </thead>\n",
              "  <tbody>\n",
              "    <tr>\n",
              "      <th>0</th>\n",
              "      <td>0</td>\n",
              "      <td>0</td>\n",
              "      <td>Sleeping At Last</td>\n",
              "      <td>spotify:track:2d7LPtieXdIYzf7yHPooWd</td>\n",
              "      <td>spotify:artist:0MeLMJJcouYXCymQSHPn8g</td>\n",
              "      <td>Chasing Cars</td>\n",
              "      <td>spotify:album:0UIIvTTWNB3gRQWFoxoEDh</td>\n",
              "      <td>242564</td>\n",
              "      <td>Covers, Vol. 2</td>\n",
              "      <td>songs284</td>\n",
              "    </tr>\n",
              "    <tr>\n",
              "      <th>1</th>\n",
              "      <td>0</td>\n",
              "      <td>1</td>\n",
              "      <td>Rachael Yamagata</td>\n",
              "      <td>spotify:track:0y4TKcc7p2H6P0GJlt01EI</td>\n",
              "      <td>spotify:artist:7w0qj2HiAPIeUcoPogvOZ6</td>\n",
              "      <td>Elephants</td>\n",
              "      <td>spotify:album:6KzK9fDNmj7GHFbcE4gVJD</td>\n",
              "      <td>253701</td>\n",
              "      <td>Elephants...Teeth Sinking Into Heart</td>\n",
              "      <td>songs284</td>\n",
              "    </tr>\n",
              "    <tr>\n",
              "      <th>2</th>\n",
              "      <td>0</td>\n",
              "      <td>2</td>\n",
              "      <td>The Cinematic Orchestra</td>\n",
              "      <td>spotify:track:6q4c1vPRZREh7nw3wG7Ixz</td>\n",
              "      <td>spotify:artist:32ogthv0BdaSMPml02X9YB</td>\n",
              "      <td>That Home</td>\n",
              "      <td>spotify:album:5cPHT4yMCfETLRYAoBFcOZ</td>\n",
              "      <td>103920</td>\n",
              "      <td>Ma Fleur</td>\n",
              "      <td>songs284</td>\n",
              "    </tr>\n",
              "    <tr>\n",
              "      <th>3</th>\n",
              "      <td>0</td>\n",
              "      <td>3</td>\n",
              "      <td>The Cinematic Orchestra</td>\n",
              "      <td>spotify:track:54KFQB6N4pn926IUUYZGzK</td>\n",
              "      <td>spotify:artist:32ogthv0BdaSMPml02X9YB</td>\n",
              "      <td>To Build A Home</td>\n",
              "      <td>spotify:album:5cPHT4yMCfETLRYAoBFcOZ</td>\n",
              "      <td>371320</td>\n",
              "      <td>Ma Fleur</td>\n",
              "      <td>songs284</td>\n",
              "    </tr>\n",
              "    <tr>\n",
              "      <th>4</th>\n",
              "      <td>0</td>\n",
              "      <td>4</td>\n",
              "      <td>Leon Bridges</td>\n",
              "      <td>spotify:track:0NeJjNlprGfZpeX2LQuN6c</td>\n",
              "      <td>spotify:artist:3qnGvpP8Yth1AqSBMqON5x</td>\n",
              "      <td>River</td>\n",
              "      <td>spotify:album:4svLfrPPk2npPVuI4kXPYg</td>\n",
              "      <td>238560</td>\n",
              "      <td>Coming Home</td>\n",
              "      <td>songs284</td>\n",
              "    </tr>\n",
              "  </tbody>\n",
              "</table>\n",
              "</div>"
            ],
            "text/plain": [
              "   pid  pos  ...                            album_name file_name\n",
              "0    0    0  ...                        Covers, Vol. 2  songs284\n",
              "1    0    1  ...  Elephants...Teeth Sinking Into Heart  songs284\n",
              "2    0    2  ...                              Ma Fleur  songs284\n",
              "3    0    3  ...                              Ma Fleur  songs284\n",
              "4    0    4  ...                           Coming Home  songs284\n",
              "\n",
              "[5 rows x 10 columns]"
            ]
          },
          "metadata": {
            "tags": []
          },
          "execution_count": 4
        }
      ]
    },
    {
      "cell_type": "code",
      "metadata": {
        "id": "-YguQnSDTyn8",
        "colab_type": "code",
        "outputId": "fe2d7b35-23a4-45b7-9b72-f9357dd3f106",
        "colab": {
          "base_uri": "https://localhost:8080/",
          "height": 289
        }
      },
      "source": [
        "#what identifier should we use\n",
        "print(f'unique songs by uri: {len(songs.track_uri.unique())}')\n",
        "print(f'unique songs by name: {len(songs.track_name.unique())}')\n",
        "print('unique artist+track combos (uri):', len(songs.groupby(['track_uri', 'artist_uri'])))\n",
        "print('unique artist+track combos (name):', len(songs.groupby(['track_name', 'artist_name'])))\n",
        "songs.isnull().sum()\n",
        "songs_nodup = songs.drop_duplicates(subset = 'track_uri') #drop all duplicated songs\n",
        "\n",
        "counts = songs_nodup['track_name'].value_counts() #count up occurences of song names\n",
        "counts\n"
      ],
      "execution_count": 5,
      "outputs": [
        {
          "output_type": "stream",
          "text": [
            "unique songs by uri: 2262292\n",
            "unique songs by name: 1483760\n",
            "unique artist+track combos (uri): 2262292\n",
            "unique artist+track combos (name): 2189699\n"
          ],
          "name": "stdout"
        },
        {
          "output_type": "execute_result",
          "data": {
            "text/plain": [
              "Intro                     1559\n",
              "Silent Night               946\n",
              "Home                       843\n",
              "White Christmas            617\n",
              "O Holy Night               554\n",
              "                          ... \n",
              "Einaim Tseva Sheket          1\n",
              "Broken heart                 1\n",
              "Dejame Escapar               1\n",
              "Burn (feat. Rick Ross)       1\n",
              "Мы просто любили так         1\n",
              "Name: track_name, Length: 1483759, dtype: int64"
            ]
          },
          "metadata": {
            "tags": []
          },
          "execution_count": 5
        }
      ]
    },
    {
      "cell_type": "code",
      "metadata": {
        "id": "8M08694jgEci",
        "colab_type": "code",
        "outputId": "67e71b68-ff39-4281-e040-549999f193bd",
        "colab": {
          "base_uri": "https://localhost:8080/",
          "height": 377
        }
      },
      "source": [
        "# look at the first 5 unique songs named 'Home' - we have different uris for each of them. \n",
        "songs_nodup.loc[songs_nodup['track_name']=='Home'][0:5]\n"
      ],
      "execution_count": 6,
      "outputs": [
        {
          "output_type": "execute_result",
          "data": {
            "text/html": [
              "<div>\n",
              "<style scoped>\n",
              "    .dataframe tbody tr th:only-of-type {\n",
              "        vertical-align: middle;\n",
              "    }\n",
              "\n",
              "    .dataframe tbody tr th {\n",
              "        vertical-align: top;\n",
              "    }\n",
              "\n",
              "    .dataframe thead th {\n",
              "        text-align: right;\n",
              "    }\n",
              "</style>\n",
              "<table border=\"1\" class=\"dataframe\">\n",
              "  <thead>\n",
              "    <tr style=\"text-align: right;\">\n",
              "      <th></th>\n",
              "      <th>pid</th>\n",
              "      <th>pos</th>\n",
              "      <th>artist_name</th>\n",
              "      <th>track_uri</th>\n",
              "      <th>artist_uri</th>\n",
              "      <th>track_name</th>\n",
              "      <th>album_uri</th>\n",
              "      <th>duration_ms</th>\n",
              "      <th>album_name</th>\n",
              "      <th>file_name</th>\n",
              "    </tr>\n",
              "  </thead>\n",
              "  <tbody>\n",
              "    <tr>\n",
              "      <th>797</th>\n",
              "      <td>11</td>\n",
              "      <td>27</td>\n",
              "      <td>Susan Egan</td>\n",
              "      <td>spotify:track:66GzaMmr8iiRLOfaejUzuY</td>\n",
              "      <td>spotify:artist:7CckquWatDQSr3PFKkjM8M</td>\n",
              "      <td>Home</td>\n",
              "      <td>spotify:album:6DnTzVKb79zEtICWeIB2El</td>\n",
              "      <td>231000</td>\n",
              "      <td>Beauty And The Beast: The Broadway Musical</td>\n",
              "      <td>songs284</td>\n",
              "    </tr>\n",
              "    <tr>\n",
              "      <th>8325</th>\n",
              "      <td>129</td>\n",
              "      <td>149</td>\n",
              "      <td>Chris Tomlin</td>\n",
              "      <td>spotify:track:2aMb1asq5acm7cDYlFsYhY</td>\n",
              "      <td>spotify:artist:6pRi6EIPXz4QJEOEsBaA0m</td>\n",
              "      <td>Home</td>\n",
              "      <td>spotify:album:7BK26n0Gkw7bvAlAUdU53F</td>\n",
              "      <td>219720</td>\n",
              "      <td>Never Lose Sight</td>\n",
              "      <td>songs284</td>\n",
              "    </tr>\n",
              "    <tr>\n",
              "      <th>9235</th>\n",
              "      <td>143</td>\n",
              "      <td>33</td>\n",
              "      <td>Edward Sharpe &amp; The Magnetic Zeros</td>\n",
              "      <td>spotify:track:7w5cxTEzp1rfV3KCy0Bd5N</td>\n",
              "      <td>spotify:artist:7giUHu5pv6YTZgSkxxCcgh</td>\n",
              "      <td>Home</td>\n",
              "      <td>spotify:album:39xrkt8RILtwa9DMyLkv32</td>\n",
              "      <td>303200</td>\n",
              "      <td>Up from Below</td>\n",
              "      <td>songs284</td>\n",
              "    </tr>\n",
              "    <tr>\n",
              "      <th>11036</th>\n",
              "      <td>172</td>\n",
              "      <td>0</td>\n",
              "      <td>Lady Antebellum</td>\n",
              "      <td>spotify:track:32zF5eXrb8QrUu5qNdYmIO</td>\n",
              "      <td>spotify:artist:32WkQRZEVKSzVAAYqukAEA</td>\n",
              "      <td>Home</td>\n",
              "      <td>spotify:album:4WZZDzGqjvw4bRwrp56U24</td>\n",
              "      <td>177200</td>\n",
              "      <td>Heart Break</td>\n",
              "      <td>songs284</td>\n",
              "    </tr>\n",
              "    <tr>\n",
              "      <th>13181</th>\n",
              "      <td>198</td>\n",
              "      <td>11</td>\n",
              "      <td>Rudimental</td>\n",
              "      <td>spotify:track:5oU43a9DI3tfV3VHwQBSQC</td>\n",
              "      <td>spotify:artist:4WN5naL3ofxrVBgFpguzKo</td>\n",
              "      <td>Home</td>\n",
              "      <td>spotify:album:2O7R7SK5zDsGeI1JpNihNE</td>\n",
              "      <td>232440</td>\n",
              "      <td>Home</td>\n",
              "      <td>songs284</td>\n",
              "    </tr>\n",
              "  </tbody>\n",
              "</table>\n",
              "</div>"
            ],
            "text/plain": [
              "       pid  pos  ...                                  album_name file_name\n",
              "797     11   27  ...  Beauty And The Beast: The Broadway Musical  songs284\n",
              "8325   129  149  ...                            Never Lose Sight  songs284\n",
              "9235   143   33  ...                               Up from Below  songs284\n",
              "11036  172    0  ...                                 Heart Break  songs284\n",
              "13181  198   11  ...                                        Home  songs284\n",
              "\n",
              "[5 rows x 10 columns]"
            ]
          },
          "metadata": {
            "tags": []
          },
          "execution_count": 6
        }
      ]
    },
    {
      "cell_type": "markdown",
      "metadata": {
        "id": "4h5QSvVJhjVC",
        "colab_type": "text"
      },
      "source": [
        "I think URIs are a better way to go here - unique to each song and artist, regardless of name overlaps. Especially with cover songs - could be entirely different styles and belong in different playlists. "
      ]
    },
    {
      "cell_type": "code",
      "metadata": {
        "id": "hPeHKAurlCwP",
        "colab_type": "code",
        "outputId": "772fcf71-e4a5-4ee0-9f94-d05db3762a83",
        "colab": {
          "base_uri": "https://localhost:8080/",
          "height": 418
        }
      },
      "source": [
        "#what is the average length of a playlist\n",
        "num_songs_in_pl = songs.groupby(by='pid').count()['track_uri']\n",
        "num_songs_in_pl.plot(kind = 'hist');\n",
        "\n",
        "num_songs_in_pl.describe()"
      ],
      "execution_count": 7,
      "outputs": [
        {
          "output_type": "execute_result",
          "data": {
            "text/plain": [
              "count     1000.00000\n",
              "mean     66346.42800\n",
              "std       1677.70028\n",
              "min      60532.00000\n",
              "25%      65205.75000\n",
              "50%      66345.00000\n",
              "75%      67470.25000\n",
              "max      72138.00000\n",
              "Name: track_uri, dtype: float64"
            ]
          },
          "metadata": {
            "tags": []
          },
          "execution_count": 7
        },
        {
          "output_type": "display_data",
          "data": {
            "image/png": "[encoded data removed]",
            "text/plain": [
              "<Figure size 432x288 with 1 Axes>"
            ]
          },
          "metadata": {
            "tags": []
          }
        }
      ]
    },
    {
      "cell_type": "markdown",
      "metadata": {
        "id": "W492gam3dW6o",
        "colab_type": "text"
      },
      "source": [
        "I am using the two websites here to figure out how to make a recommender from a sparse matrix:\n",
        "https://www.ethanrosenthal.com/2016/10/19/implicit-mf-part-1/\n",
        "https://jessesw.com/Rec-System/\n"
      ]
    },
    {
      "cell_type": "code",
      "metadata": {
        "id": "6oPimOn5Svg3",
        "colab_type": "code",
        "outputId": "1e364c11-36a2-40ad-d125-78f33b9c27f3",
        "colab": {
          "base_uri": "https://localhost:8080/",
          "height": 68
        }
      },
      "source": [
        "#make sparse binary matrix of playlist x uniq song? 0 if song not in playlist, 1 if it is\n",
        "#play_song_mat = np.zeros([len(songs0.pid.unique()), len(songs0.track_uri.unique())])\n",
        "#play_song_mat.shape\n",
        "\n",
        "n_pls = songs.pid.unique().shape[0]\n",
        "n_songs = songs.track_uri.unique().shape[0]\n",
        "\n",
        "#calculate matrix sparsity\n",
        "print(f'Num playlists: {n_pls}')\n",
        "print(f'Num unique songs: {n_songs}')\n",
        "print(f'Sparsity: {float(songs.shape[0]) /float(n_pls*n_songs) * 100:0.3f}%')\n",
        "\n",
        "#make sparse matrix\n",
        "rows = songs.pid.astype('category').cat.codes # make category codes/indices for each playlist\n",
        "cols = songs.track_uri.astype('category').cat.codes # make category codes/indices for each song\n",
        "likes = np.ones(rows.shape[0]) #1s if song is in playlist\n",
        "\n",
        "likes = sparse.csr_matrix((likes, (rows, cols)), dtype=np.float64) #make sparse matrix\n",
        "print(songs.groupby(by=['pid', 'track_uri']).count()['track_name'].shape)\n",
        "likes"
      ],
      "execution_count": 0,
      "outputs": [
        {
          "output_type": "stream",
          "text": [
            "Num playlists: 1000\n",
            "Num unique songs: 2262292\n",
            "Sparsity: 2.933%\n"
          ],
          "name": "stdout"
        }
      ]
    }
  ]
}