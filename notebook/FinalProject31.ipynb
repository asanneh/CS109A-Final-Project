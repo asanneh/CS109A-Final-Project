{
  "nbformat": 4,
  "nbformat_minor": 0,
  "metadata": {
    "colab": {
      "name": "FinalProject31.ipynb",
      "provenance": [],
      "collapsed_sections": [],
      "toc_visible": true,
      "machine_shape": "hm",
      "include_colab_link": true
    },
    "kernelspec": {
      "name": "python3",
      "display_name": "Python 3"
    },
    "accelerator": "GPU"
  },
  "cells": [
    {
      "cell_type": "markdown",
      "metadata": {
        "id": "view-in-github",
        "colab_type": "text"
      },
      "source": [
        "<a href=\"https://colab.research.google.com/github/asanneh/CS109A_2019_GR31_FINAL_PROJECT/blob/master/notebook/FinalProject31.ipynb\" target=\"_parent\"><img src=\"https://colab.research.google.com/assets/colab-badge.svg\" alt=\"Open In Colab\"/></a>"
      ]
    },
    {
      "cell_type": "markdown",
      "metadata": {
        "id": "8XCHHz75h1v9",
        "colab_type": "text"
      },
      "source": [
        "# Loading Libraries and Million Playlist Data"
      ]
    },
    {
      "cell_type": "code",
      "metadata": {
        "id": "93NQZ_wGQYSa",
        "colab_type": "code",
        "colab": {}
      },
      "source": [
        "#Import the relevant libraries\n",
        "import pandas as pd\n",
        "import numpy as np\n",
        "import scipy.sparse as sparse\n",
        "import random"
      ],
      "execution_count": 0,
      "outputs": []
    },
    {
      "cell_type": "markdown",
      "metadata": {
        "id": "frbDSklJBOrD",
        "colab_type": "text"
      },
      "source": [
        "Helpful guide to using Google Colab: https://towardsdatascience.com/getting-started-with-google-colab-f2fff97f594c. \n",
        "\n",
        "The Million Playlist Data (MPD) in its raw format is made up of CSVs 0 through 999, each with 1000 playlists. Each CSV is 11 MB, so the unzipped size of the data is 11 GB. For processing in a reasonable time frame, code can be run on the GPU (TPU) by going to Runtime > change runtime type > GPU (TPU). That should give more space. \n",
        "\n",
        "To get access to the data, first the Google Drive holding the dataset must be mounted. The raw MPD was merged into a single CSV file called 'combined_playlist.csv'. This CSV file has an extra row denoting what CSV file the playlists came from. "
      ]
    },
    {
      "cell_type": "code",
      "metadata": {
        "id": "G3StzX8MIves",
        "colab_type": "code",
        "outputId": "5f297b7f-24c7-459f-8bb0-0d83c7a51da0",
        "colab": {
          "base_uri": "https://localhost:8080/",
          "height": 122
        }
      },
      "source": [
        "from google.colab import drive\n",
        "drive.mount('/content/drive')# force_remount=True)"
      ],
      "execution_count": 2,
      "outputs": [
        {
          "output_type": "stream",
          "text": [
            "Go to this URL in a browser: https://accounts.google.com/o/oauth2/auth?client_id=947318989803-6bn6qk8qdgf4n4g3pfee6491hc0brc4i.apps.googleusercontent.com&redirect_uri=urn%3aietf%3awg%3aoauth%3a2.0%3aoob&response_type=code&scope=email%20https%3a%2f%2fwww.googleapis.com%2fauth%2fdocs.test%20https%3a%2f%2fwww.googleapis.com%2fauth%2fdrive%20https%3a%2f%2fwww.googleapis.com%2fauth%2fdrive.photos.readonly%20https%3a%2f%2fwww.googleapis.com%2fauth%2fpeopleapi.readonly\n",
            "\n",
            "Enter your authorization code:\n",
            "··········\n",
            "Mounted at /content/drive\n"
          ],
          "name": "stdout"
        }
      ]
    },
    {
      "cell_type": "code",
      "metadata": {
        "id": "ehMR48ojQWt_",
        "colab_type": "code",
        "outputId": "81764a0d-dd4e-47dd-bdd7-8f144aa633d6",
        "colab": {
          "base_uri": "https://localhost:8080/",
          "height": 34
        }
      },
      "source": [
        "#load entire playlist to dataframe, note there is a performance hit here since I/O can't be parallelized\n",
        "#You can limit how many rows you read in by including nrows\n",
        "#songs = pd.read_csv('/content/drive/My Drive/Spotify/combined_playlist_v2.csv') #nrows = 10000000\n",
        "songs = pd.read_csv('/content/drive/My Drive/CS109A project/Spotify/combined_playlist_v2.csv')\n",
        "print(f'dataset shape: {songs.shape}')"
      ],
      "execution_count": 2,
      "outputs": [
        {
          "output_type": "stream",
          "text": [
            "dataset shape: (66346428, 11)\n"
          ],
          "name": "stdout"
        }
      ]
    },
    {
      "cell_type": "code",
      "metadata": {
        "id": "LaL--bWnhdhY",
        "colab_type": "code",
        "outputId": "c0dc3b66-c88f-438e-814c-a559ece2cb88",
        "colab": {
          "base_uri": "https://localhost:8080/",
          "height": 360
        }
      },
      "source": [
        "print(f'unique CSV files: {len(songs.file_name.unique())}')\n",
        "print(f'number of playlists: {songs.groupby(\"file_name\").pid.nunique().sum()}')\n",
        "print(f'unique songs: {len(songs.track_uri.unique())}')\n",
        "songs.head()"
      ],
      "execution_count": 4,
      "outputs": [
        {
          "output_type": "stream",
          "text": [
            "unique CSV files: 1000\n",
            "number of playlists: 1000000\n",
            "unique songs: 2262292\n"
          ],
          "name": "stdout"
        },
        {
          "output_type": "execute_result",
          "data": {
            "text/html": [
              "<div>\n",
              "<style scoped>\n",
              "    .dataframe tbody tr th:only-of-type {\n",
              "        vertical-align: middle;\n",
              "    }\n",
              "\n",
              "    .dataframe tbody tr th {\n",
              "        vertical-align: top;\n",
              "    }\n",
              "\n",
              "    .dataframe thead th {\n",
              "        text-align: right;\n",
              "    }\n",
              "</style>\n",
              "<table border=\"1\" class=\"dataframe\">\n",
              "  <thead>\n",
              "    <tr style=\"text-align: right;\">\n",
              "      <th></th>\n",
              "      <th>pid</th>\n",
              "      <th>pos</th>\n",
              "      <th>artist_name</th>\n",
              "      <th>track_uri</th>\n",
              "      <th>artist_uri</th>\n",
              "      <th>track_name</th>\n",
              "      <th>album_uri</th>\n",
              "      <th>duration_ms</th>\n",
              "      <th>album_name</th>\n",
              "      <th>file_name</th>\n",
              "      <th>pidfile_name</th>\n",
              "    </tr>\n",
              "  </thead>\n",
              "  <tbody>\n",
              "    <tr>\n",
              "      <th>0</th>\n",
              "      <td>0</td>\n",
              "      <td>0</td>\n",
              "      <td>Sleeping At Last</td>\n",
              "      <td>spotify:track:2d7LPtieXdIYzf7yHPooWd</td>\n",
              "      <td>spotify:artist:0MeLMJJcouYXCymQSHPn8g</td>\n",
              "      <td>Chasing Cars</td>\n",
              "      <td>spotify:album:0UIIvTTWNB3gRQWFoxoEDh</td>\n",
              "      <td>242564</td>\n",
              "      <td>Covers, Vol. 2</td>\n",
              "      <td>songs284</td>\n",
              "      <td>0songs284</td>\n",
              "    </tr>\n",
              "    <tr>\n",
              "      <th>1</th>\n",
              "      <td>0</td>\n",
              "      <td>1</td>\n",
              "      <td>Rachael Yamagata</td>\n",
              "      <td>spotify:track:0y4TKcc7p2H6P0GJlt01EI</td>\n",
              "      <td>spotify:artist:7w0qj2HiAPIeUcoPogvOZ6</td>\n",
              "      <td>Elephants</td>\n",
              "      <td>spotify:album:6KzK9fDNmj7GHFbcE4gVJD</td>\n",
              "      <td>253701</td>\n",
              "      <td>Elephants...Teeth Sinking Into Heart</td>\n",
              "      <td>songs284</td>\n",
              "      <td>0songs284</td>\n",
              "    </tr>\n",
              "    <tr>\n",
              "      <th>2</th>\n",
              "      <td>0</td>\n",
              "      <td>2</td>\n",
              "      <td>The Cinematic Orchestra</td>\n",
              "      <td>spotify:track:6q4c1vPRZREh7nw3wG7Ixz</td>\n",
              "      <td>spotify:artist:32ogthv0BdaSMPml02X9YB</td>\n",
              "      <td>That Home</td>\n",
              "      <td>spotify:album:5cPHT4yMCfETLRYAoBFcOZ</td>\n",
              "      <td>103920</td>\n",
              "      <td>Ma Fleur</td>\n",
              "      <td>songs284</td>\n",
              "      <td>0songs284</td>\n",
              "    </tr>\n",
              "    <tr>\n",
              "      <th>3</th>\n",
              "      <td>0</td>\n",
              "      <td>3</td>\n",
              "      <td>The Cinematic Orchestra</td>\n",
              "      <td>spotify:track:54KFQB6N4pn926IUUYZGzK</td>\n",
              "      <td>spotify:artist:32ogthv0BdaSMPml02X9YB</td>\n",
              "      <td>To Build A Home</td>\n",
              "      <td>spotify:album:5cPHT4yMCfETLRYAoBFcOZ</td>\n",
              "      <td>371320</td>\n",
              "      <td>Ma Fleur</td>\n",
              "      <td>songs284</td>\n",
              "      <td>0songs284</td>\n",
              "    </tr>\n",
              "    <tr>\n",
              "      <th>4</th>\n",
              "      <td>0</td>\n",
              "      <td>4</td>\n",
              "      <td>Leon Bridges</td>\n",
              "      <td>spotify:track:0NeJjNlprGfZpeX2LQuN6c</td>\n",
              "      <td>spotify:artist:3qnGvpP8Yth1AqSBMqON5x</td>\n",
              "      <td>River</td>\n",
              "      <td>spotify:album:4svLfrPPk2npPVuI4kXPYg</td>\n",
              "      <td>238560</td>\n",
              "      <td>Coming Home</td>\n",
              "      <td>songs284</td>\n",
              "      <td>0songs284</td>\n",
              "    </tr>\n",
              "  </tbody>\n",
              "</table>\n",
              "</div>"
            ],
            "text/plain": [
              "   pid  pos  ... file_name pidfile_name\n",
              "0    0    0  ...  songs284    0songs284\n",
              "1    0    1  ...  songs284    0songs284\n",
              "2    0    2  ...  songs284    0songs284\n",
              "3    0    3  ...  songs284    0songs284\n",
              "4    0    4  ...  songs284    0songs284\n",
              "\n",
              "[5 rows x 11 columns]"
            ]
          },
          "metadata": {
            "tags": []
          },
          "execution_count": 4
        }
      ]
    },
    {
      "cell_type": "markdown",
      "metadata": {
        "id": "cr8tonx2nWVE",
        "colab_type": "text"
      },
      "source": [
        "The columns of the MPD are as follows:\n",
        "\n",
        "1.   **pid:** playlist ID within the original CSV\n",
        "2.   **pos:** position of song within the playlist\n",
        "3.   **artist_name:** name of the artist (string)\n",
        "4.   **track_uri:** unique track Spotify Identifier\n",
        "5.   **artist_uri:** unique artist Spotify Identifier\n",
        "6.   **track_name:** name of the track (string)\n",
        "7.   **album_uri:** unique album Spotify Identifier\n",
        "8.   **duration_ms:** track duration in ms\n",
        "9.   **album_name:** name of album\n",
        "10.  **file_name:** identifier of CSV where playlists came from \n",
        "11.  **pidfile_name:** unique playlist identifier\n",
        "\n",
        "In order to make recommendations for songs for a particular playlist, we will eventually need to create a matrix of playlists by all the unique songs in the MPD. For this, we will need to pick the appropriate song identifier to make sure we are capturing all the unique songs. We will compare **track_name** vs **track_uri** labels to see what is better. \n",
        "\n"
      ]
    },
    {
      "cell_type": "code",
      "metadata": {
        "id": "-YguQnSDTyn8",
        "colab_type": "code",
        "outputId": "43f924b6-855c-40c3-d21f-b0203e97547a",
        "colab": {
          "base_uri": "https://localhost:8080/",
          "height": 68
        }
      },
      "source": [
        "#what identifier should we use\n",
        "print(f'unique songs by uri: {len(songs.track_uri.unique())}')\n",
        "print(f'unique songs by name: {len(songs.track_name.unique())}\\n')\n",
        "#print(f'unique artist+track combos (uri):{len(songs.groupby([\"track_uri\", \"artist_uri\"]))}')\n",
        "#print(f'unique artist+track combos (name):{len(songs.groupby([\"track_name\", \"artist_name\"]))}\\n')\n"
      ],
      "execution_count": 0,
      "outputs": [
        {
          "output_type": "stream",
          "text": [
            "unique songs by uri: 2262292\n",
            "unique songs by name: 1483760\n",
            "\n"
          ],
          "name": "stdout"
        }
      ]
    },
    {
      "cell_type": "markdown",
      "metadata": {
        "id": "F4zovFVXqYg2",
        "colab_type": "text"
      },
      "source": [
        "We see here that the number of unique songs by **track_uri** is larger than what is given when using **track_name**. This fits well with our understanding that song names can repeated, but that Spotify has unique identifiers for the songs that can disambiguate songs of the same name. Let's take a look at several songs with the same name. "
      ]
    },
    {
      "cell_type": "code",
      "metadata": {
        "id": "woviHwvSpzvZ",
        "colab_type": "code",
        "outputId": "8905dace-8cf3-4632-82fa-eb11b8a83789",
        "colab": {
          "base_uri": "https://localhost:8080/",
          "height": 221
        }
      },
      "source": [
        "#drop duplicated songs and count occurences of song names\n",
        "songs.drop_duplicates(subset = 'track_uri')['track_name'].value_counts()"
      ],
      "execution_count": 0,
      "outputs": [
        {
          "output_type": "execute_result",
          "data": {
            "text/plain": [
              "Intro                                                1559\n",
              "Silent Night                                          946\n",
              "Home                                                  843\n",
              "White Christmas                                       617\n",
              "O Holy Night                                          554\n",
              "                                                     ... \n",
              "Burro Amarrado                                          1\n",
              "Appalachian Spring (Original Version): Meno mosso       1\n",
              "Messa da Requiem: 2. Lacrymosa                          1\n",
              "The Painters Portrait, Pt. 1                            1\n",
              "Show Me What You Got (feat. Trina)                      1\n",
              "Name: track_name, Length: 1483759, dtype: int64"
            ]
          },
          "metadata": {
            "tags": []
          },
          "execution_count": 7
        }
      ]
    },
    {
      "cell_type": "markdown",
      "metadata": {
        "id": "4h5QSvVJhjVC",
        "colab_type": "text"
      },
      "source": [
        "It seems that **track_uris** are a better way to go here - unique to each song and artist, regardless of name overlaps. Especially with cover songs - could be entirely different styles and belong in different playlists. "
      ]
    },
    {
      "cell_type": "markdown",
      "metadata": {
        "id": "zNpyXvdNbTPK",
        "colab_type": "text"
      },
      "source": [
        "# Data Wrangling"
      ]
    },
    {
      "cell_type": "markdown",
      "metadata": {
        "id": "PLX4bWHFaYqf",
        "colab_type": "text"
      },
      "source": [
        "Google Colab cannot do EDA on the whole file without running out of RAM on the GPU. To try and ameliorate this and to allow us enough RAM to do model building as well, we are choosing to randomly drop 50% of the playlists from our original file, leaving us with 500K playlists to work with. While we would like to be able to work with the whole dataset, we do not have nearly enough compute power available to us to effectively analyze it. "
      ]
    },
    {
      "cell_type": "code",
      "metadata": {
        "id": "XK06OWzVbpqn",
        "colab_type": "code",
        "colab": {
          "base_uri": "https://localhost:8080/",
          "height": 198
        },
        "outputId": "ef7ff5b8-6f00-443d-d78c-95cb31166cdf"
      },
      "source": [
        "random.seed(0)\n",
        "pid_to_keep = np.random.choice(songs['pidfile_name'], 500000, replace = False)\n",
        "drop_idx = songs.loc[songs.pidfile_name.isin(pid_to_keep)].index"
      ],
      "execution_count": 3,
      "outputs": [
        {
          "output_type": "error",
          "ename": "NameError",
          "evalue": "ignored",
          "traceback": [
            "\u001b[0;31m---------------------------------------------------------------------------\u001b[0m",
            "\u001b[0;31mNameError\u001b[0m                                 Traceback (most recent call last)",
            "\u001b[0;32m<ipython-input-3-f2dcf070bad5>\u001b[0m in \u001b[0;36m<module>\u001b[0;34m()\u001b[0m\n\u001b[0;32m----> 1\u001b[0;31m \u001b[0mrandom\u001b[0m\u001b[0;34m.\u001b[0m\u001b[0mseed\u001b[0m\u001b[0;34m(\u001b[0m\u001b[0;36m0\u001b[0m\u001b[0;34m)\u001b[0m\u001b[0;34m\u001b[0m\u001b[0;34m\u001b[0m\u001b[0m\n\u001b[0m\u001b[1;32m      2\u001b[0m \u001b[0mpid_to_keep\u001b[0m \u001b[0;34m=\u001b[0m \u001b[0mnp\u001b[0m\u001b[0;34m.\u001b[0m\u001b[0mrandom\u001b[0m\u001b[0;34m.\u001b[0m\u001b[0mchoice\u001b[0m\u001b[0;34m(\u001b[0m\u001b[0msongs\u001b[0m\u001b[0;34m[\u001b[0m\u001b[0;34m'pidfile_name'\u001b[0m\u001b[0;34m]\u001b[0m\u001b[0;34m,\u001b[0m \u001b[0;36m500000\u001b[0m\u001b[0;34m,\u001b[0m \u001b[0mreplace\u001b[0m \u001b[0;34m=\u001b[0m \u001b[0;32mFalse\u001b[0m\u001b[0;34m)\u001b[0m\u001b[0;34m\u001b[0m\u001b[0;34m\u001b[0m\u001b[0m\n\u001b[1;32m      3\u001b[0m \u001b[0mdrop_idx\u001b[0m \u001b[0;34m=\u001b[0m \u001b[0msongs\u001b[0m\u001b[0;34m.\u001b[0m\u001b[0mloc\u001b[0m\u001b[0;34m[\u001b[0m\u001b[0msongs\u001b[0m\u001b[0;34m.\u001b[0m\u001b[0mpidfile_name\u001b[0m\u001b[0;34m.\u001b[0m\u001b[0misin\u001b[0m\u001b[0;34m(\u001b[0m\u001b[0mpid_to_keep\u001b[0m\u001b[0;34m)\u001b[0m\u001b[0;34m]\u001b[0m\u001b[0;34m.\u001b[0m\u001b[0mindex\u001b[0m\u001b[0;34m\u001b[0m\u001b[0;34m\u001b[0m\u001b[0m\n",
            "\u001b[0;31mNameError\u001b[0m: name 'random' is not defined"
          ]
        }
      ]
    },
    {
      "cell_type": "code",
      "metadata": {
        "id": "ZS7ixbXofEX4",
        "colab_type": "code",
        "colab": {}
      },
      "source": [
        "songs.drop(drop_idx, inplace = True)\n",
        "print(f'number of playlists: {songs.pidfile_name.value_counts().sum()}')"
      ],
      "execution_count": 0,
      "outputs": []
    },
    {
      "cell_type": "code",
      "metadata": {
        "id": "gN7XjFZhXKch",
        "colab_type": "code",
        "colab": {}
      },
      "source": [
        "#let's drop the unneeded columns pid and file_name and just keep pidfile_name\n",
        "songs.drop(columns = ['pid', 'file_name'], inplace=True)\n",
        "songs.shape"
      ],
      "execution_count": 0,
      "outputs": []
    },
    {
      "cell_type": "code",
      "metadata": {
        "id": "NOqatbzudNbE",
        "colab_type": "code",
        "colab": {}
      },
      "source": [
        "songs.to_csv('500k_playlists.csv')"
      ],
      "execution_count": 0,
      "outputs": []
    },
    {
      "cell_type": "code",
      "metadata": {
        "id": "EFnbscBOeBWR",
        "colab_type": "code",
        "colab": {}
      },
      "source": [
        "!cp 500k_playlists.csv /content/drive/My\\ Drive/CS109A\\ project/Spotify"
      ],
      "execution_count": 0,
      "outputs": []
    },
    {
      "cell_type": "markdown",
      "metadata": {
        "id": "Iooirp-S_qkW",
        "colab_type": "text"
      },
      "source": [
        "# Data Cleaning"
      ]
    },
    {
      "cell_type": "markdown",
      "metadata": {
        "id": "Oug2j3c3r5Tu",
        "colab_type": "text"
      },
      "source": [
        "Before we proceed with further data analysis, we should make sure that our data is clean - no missingness, consistent types, etc. "
      ]
    },
    {
      "cell_type": "code",
      "metadata": {
        "id": "s2Lj_oywr4ZU",
        "colab_type": "code",
        "outputId": "b0937d41-b115-4c36-d551-0e0d7d7f533b",
        "colab": {
          "base_uri": "https://localhost:8080/",
          "height": 204
        }
      },
      "source": [
        "#are there any missing values?\n",
        "songs.isnull().sum()"
      ],
      "execution_count": 0,
      "outputs": [
        {
          "output_type": "execute_result",
          "data": {
            "text/plain": [
              "pid             0\n",
              "pos             0\n",
              "artist_name    13\n",
              "track_uri       0\n",
              "artist_uri      0\n",
              "track_name      2\n",
              "album_uri       0\n",
              "duration_ms     0\n",
              "album_name     15\n",
              "file_name       0\n",
              "dtype: int64"
            ]
          },
          "metadata": {
            "tags": []
          },
          "execution_count": 8
        }
      ]
    },
    {
      "cell_type": "code",
      "metadata": {
        "id": "cfZ0K6aE7C5j",
        "colab_type": "code",
        "outputId": "83484aeb-27a1-4a9a-84b0-3928034df4a3",
        "colab": {
          "base_uri": "https://localhost:8080/",
          "height": 204
        }
      },
      "source": [
        "#what are the data types?\n",
        "songs.dtypes"
      ],
      "execution_count": 0,
      "outputs": [
        {
          "output_type": "execute_result",
          "data": {
            "text/plain": [
              "pid             int64\n",
              "pos             int64\n",
              "artist_name    object\n",
              "track_uri      object\n",
              "artist_uri     object\n",
              "track_name     object\n",
              "album_uri      object\n",
              "duration_ms     int64\n",
              "album_name     object\n",
              "file_name      object\n",
              "dtype: object"
            ]
          },
          "metadata": {
            "tags": []
          },
          "execution_count": 13
        }
      ]
    },
    {
      "cell_type": "code",
      "metadata": {
        "id": "sxZCnEtDscKU",
        "colab_type": "code",
        "outputId": "8ce3dbe4-b2ed-42a2-8854-9510f30955e8",
        "colab": {
          "base_uri": "https://localhost:8080/",
          "height": 824
        }
      },
      "source": [
        "#we have some missing values in artist_name, album_name, and track_name\n",
        "#Let's take a look at them, maybe we can fill them in by hand using the uri info\n",
        "\n",
        "songs.loc[songs.artist_name.isnull()]"
      ],
      "execution_count": 0,
      "outputs": [
        {
          "output_type": "execute_result",
          "data": {
            "text/html": [
              "<div>\n",
              "<style scoped>\n",
              "    .dataframe tbody tr th:only-of-type {\n",
              "        vertical-align: middle;\n",
              "    }\n",
              "\n",
              "    .dataframe tbody tr th {\n",
              "        vertical-align: top;\n",
              "    }\n",
              "\n",
              "    .dataframe thead th {\n",
              "        text-align: right;\n",
              "    }\n",
              "</style>\n",
              "<table border=\"1\" class=\"dataframe\">\n",
              "  <thead>\n",
              "    <tr style=\"text-align: right;\">\n",
              "      <th></th>\n",
              "      <th>pid</th>\n",
              "      <th>pos</th>\n",
              "      <th>artist_name</th>\n",
              "      <th>track_uri</th>\n",
              "      <th>artist_uri</th>\n",
              "      <th>track_name</th>\n",
              "      <th>album_uri</th>\n",
              "      <th>duration_ms</th>\n",
              "      <th>album_name</th>\n",
              "      <th>file_name</th>\n",
              "    </tr>\n",
              "  </thead>\n",
              "  <tbody>\n",
              "    <tr>\n",
              "      <th>4293081</th>\n",
              "      <td>591</td>\n",
              "      <td>4</td>\n",
              "      <td>NaN</td>\n",
              "      <td>spotify:track:4eUsRojrbcfPsdUD7qZZo7</td>\n",
              "      <td>NaN</td>\n",
              "      <td>Brindisi Ver. 1</td>\n",
              "      <td>spotify:album:5iVF4oYu6lVTOQj2iu6b2b</td>\n",
              "      <td>194386</td>\n",
              "      <td>Opera Greatest Hits</td>\n",
              "      <td>songs246</td>\n",
              "    </tr>\n",
              "    <tr>\n",
              "      <th>5572453</th>\n",
              "      <td>888</td>\n",
              "      <td>72</td>\n",
              "      <td>NaN</td>\n",
              "      <td>spotify:track:6e7I9PmXBHHmNzoHILhY5e</td>\n",
              "      <td>NaN</td>\n",
              "      <td>The Music of the Night - Track by Track</td>\n",
              "      <td>spotify:album:2ozA83nQINAfGWduklekFp</td>\n",
              "      <td>211080</td>\n",
              "      <td>A Musical Affair (Track by Track)</td>\n",
              "      <td>songs708</td>\n",
              "    </tr>\n",
              "    <tr>\n",
              "      <th>5572454</th>\n",
              "      <td>888</td>\n",
              "      <td>73</td>\n",
              "      <td>NaN</td>\n",
              "      <td>spotify:track:0VffYn4XPllw50b5t8eyU9</td>\n",
              "      <td>NaN</td>\n",
              "      <td>Love Changes Everything - Track by Track</td>\n",
              "      <td>spotify:album:2ozA83nQINAfGWduklekFp</td>\n",
              "      <td>186786</td>\n",
              "      <td>A Musical Affair (Track by Track)</td>\n",
              "      <td>songs708</td>\n",
              "    </tr>\n",
              "    <tr>\n",
              "      <th>8820322</th>\n",
              "      <td>885</td>\n",
              "      <td>128</td>\n",
              "      <td>NaN</td>\n",
              "      <td>spotify:track:14sdk4mdW6KzKfa8tk0hnn</td>\n",
              "      <td>NaN</td>\n",
              "      <td>Hello</td>\n",
              "      <td>spotify:album:2CnxsT3zuHV2rDSVqpKxde</td>\n",
              "      <td>18706</td>\n",
              "      <td>Anticon Label Sampler 1999 - 2004</td>\n",
              "      <td>songs286</td>\n",
              "    </tr>\n",
              "    <tr>\n",
              "      <th>8820337</th>\n",
              "      <td>885</td>\n",
              "      <td>143</td>\n",
              "      <td>NaN</td>\n",
              "      <td>spotify:track:0zyLruNSGOBFsYvVKIrhHo</td>\n",
              "      <td>NaN</td>\n",
              "      <td>Pity Party People Interlude</td>\n",
              "      <td>spotify:album:2CnxsT3zuHV2rDSVqpKxde</td>\n",
              "      <td>19413</td>\n",
              "      <td>Anticon Label Sampler 1999 - 2004</td>\n",
              "      <td>songs286</td>\n",
              "    </tr>\n",
              "    <tr>\n",
              "      <th>39021982</th>\n",
              "      <td>544</td>\n",
              "      <td>20</td>\n",
              "      <td>NaN</td>\n",
              "      <td>spotify:track:5Uhh5hXCYGrONtz3xF5duc</td>\n",
              "      <td>NaN</td>\n",
              "      <td>Spoken Word: Minister Joseph Pace Ii God Be Wi...</td>\n",
              "      <td>spotify:album:2YPu9Pm0mA3p1VAB3EzUP5</td>\n",
              "      <td>57373</td>\n",
              "      <td>Joe Pace Presents Sunday Morning Service</td>\n",
              "      <td>songs204</td>\n",
              "    </tr>\n",
              "    <tr>\n",
              "      <th>55711352</th>\n",
              "      <td>895</td>\n",
              "      <td>80</td>\n",
              "      <td>NaN</td>\n",
              "      <td>spotify:track:0VffYn4XPllw50b5t8eyU9</td>\n",
              "      <td>NaN</td>\n",
              "      <td>Love Changes Everything - Track by Track</td>\n",
              "      <td>spotify:album:2ozA83nQINAfGWduklekFp</td>\n",
              "      <td>186786</td>\n",
              "      <td>A Musical Affair (Track by Track)</td>\n",
              "      <td>songs107</td>\n",
              "    </tr>\n",
              "    <tr>\n",
              "      <th>55711353</th>\n",
              "      <td>895</td>\n",
              "      <td>81</td>\n",
              "      <td>NaN</td>\n",
              "      <td>spotify:track:6e7I9PmXBHHmNzoHILhY5e</td>\n",
              "      <td>NaN</td>\n",
              "      <td>The Music of the Night - Track by Track</td>\n",
              "      <td>spotify:album:2ozA83nQINAfGWduklekFp</td>\n",
              "      <td>211080</td>\n",
              "      <td>A Musical Affair (Track by Track)</td>\n",
              "      <td>songs107</td>\n",
              "    </tr>\n",
              "    <tr>\n",
              "      <th>56663279</th>\n",
              "      <td>325</td>\n",
              "      <td>10</td>\n",
              "      <td>NaN</td>\n",
              "      <td>spotify:track:22ThCCIQ7xOUyqV3LBQIFT</td>\n",
              "      <td>NaN</td>\n",
              "      <td>Possession (From the Suite 'Perfume Set To Mus...</td>\n",
              "      <td>spotify:album:6EjL2Ebyplrid27Ch7BCND</td>\n",
              "      <td>198480</td>\n",
              "      <td>The Golden Age of Light Music: The Hall of Fam...</td>\n",
              "      <td>songs304</td>\n",
              "    </tr>\n",
              "  </tbody>\n",
              "</table>\n",
              "</div>"
            ],
            "text/plain": [
              "          pid  pos  ...                                         album_name file_name\n",
              "4293081   591    4  ...                                Opera Greatest Hits  songs246\n",
              "5572453   888   72  ...                  A Musical Affair (Track by Track)  songs708\n",
              "5572454   888   73  ...                  A Musical Affair (Track by Track)  songs708\n",
              "8820322   885  128  ...                  Anticon Label Sampler 1999 - 2004  songs286\n",
              "8820337   885  143  ...                  Anticon Label Sampler 1999 - 2004  songs286\n",
              "39021982  544   20  ...           Joe Pace Presents Sunday Morning Service  songs204\n",
              "55711352  895   80  ...                  A Musical Affair (Track by Track)  songs107\n",
              "55711353  895   81  ...                  A Musical Affair (Track by Track)  songs107\n",
              "56663279  325   10  ...  The Golden Age of Light Music: The Hall of Fam...  songs304\n",
              "\n",
              "[9 rows x 10 columns]"
            ]
          },
          "metadata": {
            "tags": []
          },
          "execution_count": 22
        }
      ]
    },
    {
      "cell_type": "markdown",
      "metadata": {
        "id": "yC6cLZf7unx-",
        "colab_type": "text"
      },
      "source": [
        "By referencing the **track_uri** in Spotify, it seems that 4 tracks in this category are classical music songs where the primary artist (writer) is listed as N/A. Two tracks are from the same indie rap album, where the primary artist is also N/A. In these cases, it seems that this is truly missing information. What is amusing is that the **artist_uri** for these songs actually points to a reggae group called 'N/A'. When you look at their discography, they have a vast number of classical and opera songs attributed to them...\n",
        "\n",
        "Besides that, there is one artist called 'NA' and one artist called 'null'. \n",
        "\n",
        "It doesn't seem that this will interfere with our collaborative filtering recommender system, just maybe make the song credit information a little more confusing. We will not filter these songs out in the mean time, but we will change the **artist_uri** to NaN to reflect this information for the songs with missing info, and update **artist_name** for those artists named 'NA' and 'null'.   "
      ]
    },
    {
      "cell_type": "code",
      "metadata": {
        "id": "P_CGGDMh73T0",
        "colab_type": "code",
        "colab": {}
      },
      "source": [
        "songs.loc[songs.artist_uri == 'spotify:artist:5acHYRoM4lpJIiHZ4Zi3Is', 'artist_name'] = ['NA']*3\n",
        "songs.loc[songs.artist_uri == 'spotify:artist:3fmUow9gSgOouUw2UnUtzg', 'artist_name'] = ['null']\n",
        "songs.loc[songs.artist_uri == 'spotify:artist:4oPYazJJ1o4rWBrTw9lm40', 'artist_uri'] = [np.nan]*8\n",
        "songs.loc[songs.artist_uri == 'spotify:artist:2uXBg2rcDk1gFkZXi73InJ', 'artist_uri'] = [np.nan]\n"
      ],
      "execution_count": 0,
      "outputs": []
    },
    {
      "cell_type": "code",
      "metadata": {
        "id": "-EZqKMAUwqM6",
        "colab_type": "code",
        "outputId": "249945e6-247e-4f13-c060-13b6809b5398",
        "colab": {
          "base_uri": "https://localhost:8080/",
          "height": 857
        }
      },
      "source": [
        "#we have some missing values in artist_name and album_name. \n",
        "#Let's take a look at them, maybe we can fill them in by hand using the uri info\n",
        "\n",
        "songs.loc[songs.album_name.isnull()]"
      ],
      "execution_count": 0,
      "outputs": [
        {
          "output_type": "execute_result",
          "data": {
            "text/html": [
              "<div>\n",
              "<style scoped>\n",
              "    .dataframe tbody tr th:only-of-type {\n",
              "        vertical-align: middle;\n",
              "    }\n",
              "\n",
              "    .dataframe tbody tr th {\n",
              "        vertical-align: top;\n",
              "    }\n",
              "\n",
              "    .dataframe thead th {\n",
              "        text-align: right;\n",
              "    }\n",
              "</style>\n",
              "<table border=\"1\" class=\"dataframe\">\n",
              "  <thead>\n",
              "    <tr style=\"text-align: right;\">\n",
              "      <th></th>\n",
              "      <th>pid</th>\n",
              "      <th>pos</th>\n",
              "      <th>artist_name</th>\n",
              "      <th>track_uri</th>\n",
              "      <th>artist_uri</th>\n",
              "      <th>track_name</th>\n",
              "      <th>album_uri</th>\n",
              "      <th>duration_ms</th>\n",
              "      <th>album_name</th>\n",
              "      <th>file_name</th>\n",
              "    </tr>\n",
              "  </thead>\n",
              "  <tbody>\n",
              "    <tr>\n",
              "      <th>2518856</th>\n",
              "      <td>957</td>\n",
              "      <td>0</td>\n",
              "      <td>Loop Garou</td>\n",
              "      <td>spotify:track:4LKXkaH6OTl5RMQ4Yfauem</td>\n",
              "      <td>spotify:artist:6ZcNVoWvuMRbhS789e6saA</td>\n",
              "      <td>The Beggar</td>\n",
              "      <td>spotify:album:4zLXjNbJaNvj8X97GAnr5i</td>\n",
              "      <td>165560</td>\n",
              "      <td>NaN</td>\n",
              "      <td>songs332</td>\n",
              "    </tr>\n",
              "    <tr>\n",
              "      <th>2518857</th>\n",
              "      <td>957</td>\n",
              "      <td>1</td>\n",
              "      <td>Loop Garou</td>\n",
              "      <td>spotify:track:5waP9OdTo3Wx5s4IfAq8OT</td>\n",
              "      <td>spotify:artist:6ZcNVoWvuMRbhS789e6saA</td>\n",
              "      <td>Darlin' Don't Go (feat. Sarah Summers)</td>\n",
              "      <td>spotify:album:4zLXjNbJaNvj8X97GAnr5i</td>\n",
              "      <td>261906</td>\n",
              "      <td>NaN</td>\n",
              "      <td>songs332</td>\n",
              "    </tr>\n",
              "    <tr>\n",
              "      <th>2518858</th>\n",
              "      <td>957</td>\n",
              "      <td>2</td>\n",
              "      <td>Loop Garou</td>\n",
              "      <td>spotify:track:4AgRKRRqDMlHUdApSka5YZ</td>\n",
              "      <td>spotify:artist:6ZcNVoWvuMRbhS789e6saA</td>\n",
              "      <td>Head in the Clouds</td>\n",
              "      <td>spotify:album:4zLXjNbJaNvj8X97GAnr5i</td>\n",
              "      <td>216706</td>\n",
              "      <td>NaN</td>\n",
              "      <td>songs332</td>\n",
              "    </tr>\n",
              "    <tr>\n",
              "      <th>4318114</th>\n",
              "      <td>978</td>\n",
              "      <td>63</td>\n",
              "      <td>Loop Garou</td>\n",
              "      <td>spotify:track:4AgRKRRqDMlHUdApSka5YZ</td>\n",
              "      <td>spotify:artist:6ZcNVoWvuMRbhS789e6saA</td>\n",
              "      <td>Head in the Clouds</td>\n",
              "      <td>spotify:album:4zLXjNbJaNvj8X97GAnr5i</td>\n",
              "      <td>216706</td>\n",
              "      <td>NaN</td>\n",
              "      <td>songs246</td>\n",
              "    </tr>\n",
              "    <tr>\n",
              "      <th>7069563</th>\n",
              "      <td>513</td>\n",
              "      <td>86</td>\n",
              "      <td>Loop Garou</td>\n",
              "      <td>spotify:track:5waP9OdTo3Wx5s4IfAq8OT</td>\n",
              "      <td>spotify:artist:6ZcNVoWvuMRbhS789e6saA</td>\n",
              "      <td>Darlin' Don't Go (feat. Sarah Summers)</td>\n",
              "      <td>spotify:album:4zLXjNbJaNvj8X97GAnr5i</td>\n",
              "      <td>261906</td>\n",
              "      <td>NaN</td>\n",
              "      <td>songs494</td>\n",
              "    </tr>\n",
              "    <tr>\n",
              "      <th>7293324</th>\n",
              "      <td>868</td>\n",
              "      <td>20</td>\n",
              "      <td>Loop Garou</td>\n",
              "      <td>spotify:track:5waP9OdTo3Wx5s4IfAq8OT</td>\n",
              "      <td>spotify:artist:6ZcNVoWvuMRbhS789e6saA</td>\n",
              "      <td>Darlin' Don't Go (feat. Sarah Summers)</td>\n",
              "      <td>spotify:album:4zLXjNbJaNvj8X97GAnr5i</td>\n",
              "      <td>261906</td>\n",
              "      <td>NaN</td>\n",
              "      <td>songs133</td>\n",
              "    </tr>\n",
              "    <tr>\n",
              "      <th>11813676</th>\n",
              "      <td>116</td>\n",
              "      <td>44</td>\n",
              "      <td>Loop Garou</td>\n",
              "      <td>spotify:track:5waP9OdTo3Wx5s4IfAq8OT</td>\n",
              "      <td>spotify:artist:6ZcNVoWvuMRbhS789e6saA</td>\n",
              "      <td>Darlin' Don't Go (feat. Sarah Summers)</td>\n",
              "      <td>spotify:album:4zLXjNbJaNvj8X97GAnr5i</td>\n",
              "      <td>261906</td>\n",
              "      <td>NaN</td>\n",
              "      <td>songs122</td>\n",
              "    </tr>\n",
              "    <tr>\n",
              "      <th>34634330</th>\n",
              "      <td>434</td>\n",
              "      <td>58</td>\n",
              "      <td>null</td>\n",
              "      <td>spotify:track:3uxxOSDWiBqKBnbU2eSAxI</td>\n",
              "      <td>spotify:artist:3fmUow9gSgOouUw2UnUtzg</td>\n",
              "      <td>NaN</td>\n",
              "      <td>spotify:album:0yiPGCcuMDakfqcmvY6Rk1</td>\n",
              "      <td>135427</td>\n",
              "      <td>NaN</td>\n",
              "      <td>songs744</td>\n",
              "    </tr>\n",
              "    <tr>\n",
              "      <th>51491367</th>\n",
              "      <td>94</td>\n",
              "      <td>64</td>\n",
              "      <td>Loop Garou</td>\n",
              "      <td>spotify:track:4AgRKRRqDMlHUdApSka5YZ</td>\n",
              "      <td>spotify:artist:6ZcNVoWvuMRbhS789e6saA</td>\n",
              "      <td>Head in the Clouds</td>\n",
              "      <td>spotify:album:4zLXjNbJaNvj8X97GAnr5i</td>\n",
              "      <td>216706</td>\n",
              "      <td>NaN</td>\n",
              "      <td>songs851</td>\n",
              "    </tr>\n",
              "    <tr>\n",
              "      <th>51491368</th>\n",
              "      <td>94</td>\n",
              "      <td>65</td>\n",
              "      <td>Loop Garou</td>\n",
              "      <td>spotify:track:6fsrBpOdX2v2UyhP0NfJAz</td>\n",
              "      <td>spotify:artist:6ZcNVoWvuMRbhS789e6saA</td>\n",
              "      <td>Merlot</td>\n",
              "      <td>spotify:album:4zLXjNbJaNvj8X97GAnr5i</td>\n",
              "      <td>196120</td>\n",
              "      <td>NaN</td>\n",
              "      <td>songs851</td>\n",
              "    </tr>\n",
              "    <tr>\n",
              "      <th>51491374</th>\n",
              "      <td>94</td>\n",
              "      <td>71</td>\n",
              "      <td>Loop Garou</td>\n",
              "      <td>spotify:track:4LKXkaH6OTl5RMQ4Yfauem</td>\n",
              "      <td>spotify:artist:6ZcNVoWvuMRbhS789e6saA</td>\n",
              "      <td>The Beggar</td>\n",
              "      <td>spotify:album:4zLXjNbJaNvj8X97GAnr5i</td>\n",
              "      <td>165560</td>\n",
              "      <td>NaN</td>\n",
              "      <td>songs851</td>\n",
              "    </tr>\n",
              "    <tr>\n",
              "      <th>51491375</th>\n",
              "      <td>94</td>\n",
              "      <td>72</td>\n",
              "      <td>Loop Garou</td>\n",
              "      <td>spotify:track:5waP9OdTo3Wx5s4IfAq8OT</td>\n",
              "      <td>spotify:artist:6ZcNVoWvuMRbhS789e6saA</td>\n",
              "      <td>Darlin' Don't Go (feat. Sarah Summers)</td>\n",
              "      <td>spotify:album:4zLXjNbJaNvj8X97GAnr5i</td>\n",
              "      <td>261906</td>\n",
              "      <td>NaN</td>\n",
              "      <td>songs851</td>\n",
              "    </tr>\n",
              "    <tr>\n",
              "      <th>51491376</th>\n",
              "      <td>94</td>\n",
              "      <td>73</td>\n",
              "      <td>Loop Garou</td>\n",
              "      <td>spotify:track:2UfbvQ7EHXXB04qZvfAGMF</td>\n",
              "      <td>spotify:artist:6ZcNVoWvuMRbhS789e6saA</td>\n",
              "      <td>Sister</td>\n",
              "      <td>spotify:album:4zLXjNbJaNvj8X97GAnr5i</td>\n",
              "      <td>164933</td>\n",
              "      <td>NaN</td>\n",
              "      <td>songs851</td>\n",
              "    </tr>\n",
              "    <tr>\n",
              "      <th>63601753</th>\n",
              "      <td>589</td>\n",
              "      <td>12</td>\n",
              "      <td>Loop Garou</td>\n",
              "      <td>spotify:track:6fsrBpOdX2v2UyhP0NfJAz</td>\n",
              "      <td>spotify:artist:6ZcNVoWvuMRbhS789e6saA</td>\n",
              "      <td>Merlot</td>\n",
              "      <td>spotify:album:4zLXjNbJaNvj8X97GAnr5i</td>\n",
              "      <td>196120</td>\n",
              "      <td>NaN</td>\n",
              "      <td>songs897</td>\n",
              "    </tr>\n",
              "    <tr>\n",
              "      <th>63635773</th>\n",
              "      <td>114</td>\n",
              "      <td>29</td>\n",
              "      <td>Loop Garou</td>\n",
              "      <td>spotify:track:4AgRKRRqDMlHUdApSka5YZ</td>\n",
              "      <td>spotify:artist:6ZcNVoWvuMRbhS789e6saA</td>\n",
              "      <td>Head in the Clouds</td>\n",
              "      <td>spotify:album:4zLXjNbJaNvj8X97GAnr5i</td>\n",
              "      <td>216706</td>\n",
              "      <td>NaN</td>\n",
              "      <td>songs883</td>\n",
              "    </tr>\n",
              "  </tbody>\n",
              "</table>\n",
              "</div>"
            ],
            "text/plain": [
              "          pid  pos artist_name  ... duration_ms album_name file_name\n",
              "2518856   957    0  Loop Garou  ...      165560        NaN  songs332\n",
              "2518857   957    1  Loop Garou  ...      261906        NaN  songs332\n",
              "2518858   957    2  Loop Garou  ...      216706        NaN  songs332\n",
              "4318114   978   63  Loop Garou  ...      216706        NaN  songs246\n",
              "7069563   513   86  Loop Garou  ...      261906        NaN  songs494\n",
              "7293324   868   20  Loop Garou  ...      261906        NaN  songs133\n",
              "11813676  116   44  Loop Garou  ...      261906        NaN  songs122\n",
              "34634330  434   58        null  ...      135427        NaN  songs744\n",
              "51491367   94   64  Loop Garou  ...      216706        NaN  songs851\n",
              "51491368   94   65  Loop Garou  ...      196120        NaN  songs851\n",
              "51491374   94   71  Loop Garou  ...      165560        NaN  songs851\n",
              "51491375   94   72  Loop Garou  ...      261906        NaN  songs851\n",
              "51491376   94   73  Loop Garou  ...      164933        NaN  songs851\n",
              "63601753  589   12  Loop Garou  ...      196120        NaN  songs897\n",
              "63635773  114   29  Loop Garou  ...      216706        NaN  songs883\n",
              "\n",
              "[15 rows x 10 columns]"
            ]
          },
          "metadata": {
            "tags": []
          },
          "execution_count": 23
        }
      ]
    },
    {
      "cell_type": "markdown",
      "metadata": {
        "id": "CLvfVmLDww80",
        "colab_type": "text"
      },
      "source": [
        "Loop Garou annoyingly named his album 'N/A' which got translated to a NaN in the pandas dataframe. Artist named 'null' also has a track and album named 'null' so that's great. Let's fix the labels. "
      ]
    },
    {
      "cell_type": "code",
      "metadata": {
        "id": "SWpuz6JT-ijk",
        "colab_type": "code",
        "colab": {}
      },
      "source": [
        "songs.loc[songs.album_uri == 'spotify:album:4zLXjNbJaNvj8X97GAnr5i', 'album_name'] = ['N/A']*14\n",
        "songs.loc[songs.album_uri == 'spotify:album:0yiPGCcuMDakfqcmvY6Rk1', 'album_name'] = ['null']"
      ],
      "execution_count": 0,
      "outputs": []
    },
    {
      "cell_type": "code",
      "metadata": {
        "id": "aCBeqEVY-5kS",
        "colab_type": "code",
        "outputId": "8aaff1e9-e76e-4b8e-f0d6-046bf468475e",
        "colab": {
          "base_uri": "https://localhost:8080/",
          "height": 148
        }
      },
      "source": [
        "#missing track names?\n",
        "songs.loc[songs.track_name.isnull()]"
      ],
      "execution_count": 0,
      "outputs": [
        {
          "output_type": "execute_result",
          "data": {
            "text/html": [
              "<div>\n",
              "<style scoped>\n",
              "    .dataframe tbody tr th:only-of-type {\n",
              "        vertical-align: middle;\n",
              "    }\n",
              "\n",
              "    .dataframe tbody tr th {\n",
              "        vertical-align: top;\n",
              "    }\n",
              "\n",
              "    .dataframe thead th {\n",
              "        text-align: right;\n",
              "    }\n",
              "</style>\n",
              "<table border=\"1\" class=\"dataframe\">\n",
              "  <thead>\n",
              "    <tr style=\"text-align: right;\">\n",
              "      <th></th>\n",
              "      <th>pid</th>\n",
              "      <th>pos</th>\n",
              "      <th>artist_name</th>\n",
              "      <th>track_uri</th>\n",
              "      <th>artist_uri</th>\n",
              "      <th>track_name</th>\n",
              "      <th>album_uri</th>\n",
              "      <th>duration_ms</th>\n",
              "      <th>album_name</th>\n",
              "      <th>file_name</th>\n",
              "    </tr>\n",
              "  </thead>\n",
              "  <tbody>\n",
              "    <tr>\n",
              "      <th>34634330</th>\n",
              "      <td>434</td>\n",
              "      <td>58</td>\n",
              "      <td>null</td>\n",
              "      <td>spotify:track:3uxxOSDWiBqKBnbU2eSAxI</td>\n",
              "      <td>spotify:artist:3fmUow9gSgOouUw2UnUtzg</td>\n",
              "      <td>NaN</td>\n",
              "      <td>spotify:album:0yiPGCcuMDakfqcmvY6Rk1</td>\n",
              "      <td>135427</td>\n",
              "      <td>null</td>\n",
              "      <td>songs744</td>\n",
              "    </tr>\n",
              "    <tr>\n",
              "      <th>55743117</th>\n",
              "      <td>376</td>\n",
              "      <td>86</td>\n",
              "      <td>Goodnight Gorillas</td>\n",
              "      <td>spotify:track:6sS0LpPTHX9HDZVD6yereF</td>\n",
              "      <td>spotify:artist:255bHJ60H4CaaOPpz1OWkY</td>\n",
              "      <td>NaN</td>\n",
              "      <td>spotify:album:6dNqYdtOpoC0p6pBTWbkGf</td>\n",
              "      <td>130589</td>\n",
              "      <td>Melt Velvet Dreams</td>\n",
              "      <td>songs113</td>\n",
              "    </tr>\n",
              "  </tbody>\n",
              "</table>\n",
              "</div>"
            ],
            "text/plain": [
              "          pid  pos  ...          album_name file_name\n",
              "34634330  434   58  ...                null  songs744\n",
              "55743117  376   86  ...  Melt Velvet Dreams  songs113\n",
              "\n",
              "[2 rows x 10 columns]"
            ]
          },
          "metadata": {
            "tags": []
          },
          "execution_count": 25
        }
      ]
    },
    {
      "cell_type": "markdown",
      "metadata": {
        "id": "bFXZQ7z3_KpA",
        "colab_type": "text"
      },
      "source": [
        "Once again, we have our null artist with null album and null song. We will fix that as well as the null song name for the other artist. "
      ]
    },
    {
      "cell_type": "code",
      "metadata": {
        "id": "d2MHfW5p_WGU",
        "colab_type": "code",
        "colab": {}
      },
      "source": [
        "songs.loc[songs.track_uri == 'spotify:track:3uxxOSDWiBqKBnbU2eSAxI', 'track_name'] = ['null']\n",
        "songs.loc[songs.track_uri == 'spotify:track:6sS0LpPTHX9HDZVD6yereF', 'track_name'] = ['null']"
      ],
      "execution_count": 0,
      "outputs": []
    },
    {
      "cell_type": "markdown",
      "metadata": {
        "id": "RWW4UzAq_w6h",
        "colab_type": "text"
      },
      "source": [
        "# EDA - PLEASE ADD MORE STUFF HERE"
      ]
    },
    {
      "cell_type": "code",
      "metadata": {
        "id": "hPeHKAurlCwP",
        "colab_type": "code",
        "colab": {}
      },
      "source": [
        "#what is the average length of a playlist - make sure to group by FILE NAME AND PID!!\n",
        "ax = songs.groupby(['pidfile_name']).count()['track_uri'].plot(kind = 'hist');\n",
        "ax.set_xlabel('Number of Songs in a Playlist')\n",
        "songs.groupby(['pidfile_name']).count()['track_uri'].describe()"
      ],
      "execution_count": 0,
      "outputs": []
    },
    {
      "cell_type": "markdown",
      "metadata": {
        "id": "P1Ug44bzNoK2",
        "colab_type": "text"
      },
      "source": [
        "# Playlist x Unique Songs Sparse Matrix"
      ]
    },
    {
      "cell_type": "markdown",
      "metadata": {
        "id": "BcEa2Z46OSVU",
        "colab_type": "text"
      },
      "source": [
        "For further model building, it will be helpful to have a sparse matrix that encodes our playlists in rows and our unique songs in columns. A 1 in a particular cell of the matrix means that playlist has that song. A 0 means it doesn't. We need to carefully look at sparsity here - a matrix that is too sparse means that using matrix factorization to learn latent variables wouldn't work very well because there aren't enough playlist/song interactions. \n",
        "\n",
        "references: https://www.ethanrosenthal.com/2016/10/19/implicit-mf-part-1/, https://jessesw.com/Rec-System/"
      ]
    },
    {
      "cell_type": "code",
      "metadata": {
        "id": "6oPimOn5Svg3",
        "colab_type": "code",
        "outputId": "5d73261b-2756-4ebc-bdfe-b2e892de7b31",
        "colab": {
          "base_uri": "https://localhost:8080/",
          "height": 68
        }
      },
      "source": [
        "#make sparse binary matrix of playlist x uniq song? 0 if song not in playlist, 1 if it is\n",
        "\n",
        "n_pls = songs.pidfile_name.unique().shape[0]\n",
        "n_songs = songs.track_uri.unique().shape[0]\n",
        "\n",
        "#calculate matrix sparsity\n",
        "print(f'Num playlists: {n_pls}')\n",
        "print(f'Num unique songs: {n_songs}')\n",
        "print(f'Sparsity: {100 - float(songs.shape[0]) /float(n_pls*n_songs) * 100:0.3f}%')\n"
      ],
      "execution_count": 6,
      "outputs": [
        {
          "output_type": "stream",
          "text": [
            "Num playlists: 1000000\n",
            "Num unique songs: 2262292\n",
            "Sparsity: 99.997%\n"
          ],
          "name": "stdout"
        }
      ]
    },
    {
      "cell_type": "markdown",
      "metadata": {
        "id": "48mAm0zqNY4r",
        "colab_type": "text"
      },
      "source": [
        "This is very high sparsity! It might be too low for us to make matrix factorization models work. We should try filtering out songs that appear less than N (N is our choice) times across the whole dataset and/or playlists with too few songs. This might serve to make our matrix more dense. We are aiming for a sparsity of 99.5% and below (https://jessesw.com/Rec-System/)\n",
        "\n",
        "*N.B. The reason for dropping 'in place' is that the RAM on the Google Collab GPU is insufficient for multiple instances of the whole 11GB dataset. To keep the RAM in check, we can't have two instances of the full or nearly full data.* "
      ]
    },
    {
      "cell_type": "code",
      "metadata": {
        "id": "neduFu1nYQRO",
        "colab_type": "code",
        "colab": {}
      },
      "source": [
        "n = 50\n",
        "track_cts = songs['track_uri'].value_counts()\n",
        "drop_idx = songs.loc[songs.track_uri.isin(track_cts[track_cts < n].index)].index\n",
        "songs.drop(drop_idx, inplace = True)"
      ],
      "execution_count": 0,
      "outputs": []
    },
    {
      "cell_type": "code",
      "metadata": {
        "id": "WDLjDkgR6Czl",
        "colab_type": "code",
        "colab": {}
      },
      "source": [
        "n = 20\n",
        "pid_cts = songs.pidfile_name.value_counts()\n",
        "drop_idx = songs.loc[songs.pidfile_name.isin(pid_cts[pid_cts < n].index)].index\n",
        "songs.drop(drop_idx, inplace = True)"
      ],
      "execution_count": 0,
      "outputs": []
    },
    {
      "cell_type": "code",
      "metadata": {
        "id": "5KygQ9XWy-7C",
        "colab_type": "code",
        "outputId": "374d6731-2928-4286-d561-6d6dea7a760c",
        "colab": {
          "base_uri": "https://localhost:8080/",
          "height": 68
        }
      },
      "source": [
        "n_pls = songs.groupby(\"file_name\").pid.nunique().sum()\n",
        "n_songs = songs.track_uri.unique().shape[0]\n",
        "\n",
        "#calculate matrix sparsity\n",
        "print(f'Num playlists: {n_pls}')\n",
        "print(f'Num unique songs: {n_songs}')\n",
        "print(f'Sparsity: {100 - float(songs.shape[0]) /float(n_pls*n_songs) * 100:0.5f}%')\n"
      ],
      "execution_count": 0,
      "outputs": [
        {
          "output_type": "stream",
          "text": [
            "Num playlists: 994379\n",
            "Num unique songs: 118512\n",
            "Sparsity: 99.95173%\n"
          ],
          "name": "stdout"
        }
      ]
    },
    {
      "cell_type": "code",
      "metadata": {
        "id": "h8JzYyI6L0_R",
        "colab_type": "code",
        "colab": {}
      },
      "source": [
        "#make sparse matrix\n",
        "rows = songs.pid.astype('category').cat.codes # make category codes/indices for each playlist\n",
        "cols = songs.track_uri.astype('category').cat.codes # make category codes/indices for each song\n",
        "likes = np.ones(rows.shape[0]) #1s if song is in playlist\n",
        "\n",
        "likes = sparse.csr_matrix((likes, (rows, cols)), dtype=np.float64) #make sparse matrix\n",
        "print(songs.groupby(by=['pid', 'track_uri']).count()['track_name'].shape)\n",
        "likes"
      ],
      "execution_count": 0,
      "outputs": []
    },
    {
      "cell_type": "markdown",
      "metadata": {
        "id": "rwdaeIPHCIsN",
        "colab_type": "text"
      },
      "source": [
        "# Popularity-based Model"
      ]
    },
    {
      "cell_type": "markdown",
      "metadata": {
        "id": "8wVepTqWCTZc",
        "colab_type": "text"
      },
      "source": [
        "A very simple song recommender would recommend the top K (K is up to us) most popular songs in the MPD regardless of the playlist we want song recommendations for. Since we are dealing with implicit ratings (basically, the presence and absence of a song in a playlist), song popularity can be measured by how many unique playlists it is featured in. We don't want our metric to be skewed by someone who made a playlist with 600 copies of Missy Elliot's 'Work It' (though I highly respect their vibes.)"
      ]
    },
    {
      "cell_type": "code",
      "metadata": {
        "id": "CCxE1n7YGnt0",
        "colab_type": "code",
        "colab": {}
      },
      "source": [
        "#we are using the popularity metrics from the entire dataset here? "
      ],
      "execution_count": 0,
      "outputs": []
    },
    {
      "cell_type": "markdown",
      "metadata": {
        "id": "fLgpwvmDCCFX",
        "colab_type": "text"
      },
      "source": [
        "# Collaborative Filtering Model"
      ]
    },
    {
      "cell_type": "markdown",
      "metadata": {
        "id": "W492gam3dW6o",
        "colab_type": "text"
      },
      "source": [
        "I am using the two websites here to figure out how to make a recommender from a sparse matrix:\n",
        "https://www.ethanrosenthal.com/2016/10/19/implicit-mf-part-1/\n",
        "https://jessesw.com/Rec-System/\n"
      ]
    }
  ]
}