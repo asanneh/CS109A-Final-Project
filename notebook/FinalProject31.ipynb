{
  "nbformat": 4,
  "nbformat_minor": 0,
  "metadata": {
    "colab": {
      "name": "FinalProject31.ipynb",
      "provenance": [],
      "collapsed_sections": [],
      "toc_visible": true,
      "machine_shape": "hm",
      "include_colab_link": true
    },
    "kernelspec": {
      "name": "python3",
      "display_name": "Python 3"
    },
    "accelerator": "GPU",
    "widgets": {
      "application/vnd.jupyter.widget-state+json": {
        "8bd3b5aef28e4d9595174109aa7512d7": {
          "model_module": "@jupyter-widgets/controls",
          "model_name": "HBoxModel",
          "state": {
            "_view_name": "HBoxView",
            "_dom_classes": [],
            "_model_name": "HBoxModel",
            "_view_module": "@jupyter-widgets/controls",
            "_model_module_version": "1.5.0",
            "_view_count": null,
            "_view_module_version": "1.5.0",
            "box_style": "",
            "layout": "IPY_MODEL_2e9f9f9aa22f4ddda2be429c5ebfb05d",
            "_model_module": "@jupyter-widgets/controls",
            "children": [
              "IPY_MODEL_7737026e6ca645f3b031819979635211",
              "IPY_MODEL_04daeea863044f24a68176254bfbd6ee"
            ]
          }
        },
        "2e9f9f9aa22f4ddda2be429c5ebfb05d": {
          "model_module": "@jupyter-widgets/base",
          "model_name": "LayoutModel",
          "state": {
            "_view_name": "LayoutView",
            "grid_template_rows": null,
            "right": null,
            "justify_content": null,
            "_view_module": "@jupyter-widgets/base",
            "overflow": null,
            "_model_module_version": "1.2.0",
            "_view_count": null,
            "flex_flow": null,
            "width": null,
            "min_width": null,
            "border": null,
            "align_items": null,
            "bottom": null,
            "_model_module": "@jupyter-widgets/base",
            "top": null,
            "grid_column": null,
            "overflow_y": null,
            "overflow_x": null,
            "grid_auto_flow": null,
            "grid_area": null,
            "grid_template_columns": null,
            "flex": null,
            "_model_name": "LayoutModel",
            "justify_items": null,
            "grid_row": null,
            "max_height": null,
            "align_content": null,
            "visibility": null,
            "align_self": null,
            "height": null,
            "min_height": null,
            "padding": null,
            "grid_auto_rows": null,
            "grid_gap": null,
            "max_width": null,
            "order": null,
            "_view_module_version": "1.2.0",
            "grid_template_areas": null,
            "object_position": null,
            "object_fit": null,
            "grid_auto_columns": null,
            "margin": null,
            "display": null,
            "left": null
          }
        },
        "7737026e6ca645f3b031819979635211": {
          "model_module": "@jupyter-widgets/controls",
          "model_name": "IntProgressModel",
          "state": {
            "_view_name": "ProgressView",
            "style": "IPY_MODEL_50391e929c79431ea3719b2952fd9699",
            "_dom_classes": [],
            "description": "",
            "_model_name": "IntProgressModel",
            "bar_style": "success",
            "max": 100,
            "_view_module": "@jupyter-widgets/controls",
            "_model_module_version": "1.5.0",
            "value": 100,
            "_view_count": null,
            "_view_module_version": "1.5.0",
            "orientation": "horizontal",
            "min": 0,
            "description_tooltip": null,
            "_model_module": "@jupyter-widgets/controls",
            "layout": "IPY_MODEL_d036cedde9e5456a8d4859025616015b"
          }
        },
        "04daeea863044f24a68176254bfbd6ee": {
          "model_module": "@jupyter-widgets/controls",
          "model_name": "HTMLModel",
          "state": {
            "_view_name": "HTMLView",
            "style": "IPY_MODEL_a2b0d8bdf2384498a87aaf3e3c860079",
            "_dom_classes": [],
            "description": "",
            "_model_name": "HTMLModel",
            "placeholder": "​",
            "_view_module": "@jupyter-widgets/controls",
            "_model_module_version": "1.5.0",
            "value": "100% 100/100 [00:21&lt;00:00,  4.65it/s]",
            "_view_count": null,
            "_view_module_version": "1.5.0",
            "description_tooltip": null,
            "_model_module": "@jupyter-widgets/controls",
            "layout": "IPY_MODEL_e1c3e7fb138b4a04b7d9f2736e23c6ba"
          }
        },
        "50391e929c79431ea3719b2952fd9699": {
          "model_module": "@jupyter-widgets/controls",
          "model_name": "ProgressStyleModel",
          "state": {
            "_view_name": "StyleView",
            "_model_name": "ProgressStyleModel",
            "description_width": "",
            "_view_module": "@jupyter-widgets/base",
            "_model_module_version": "1.5.0",
            "_view_count": null,
            "_view_module_version": "1.2.0",
            "bar_color": null,
            "_model_module": "@jupyter-widgets/controls"
          }
        },
        "d036cedde9e5456a8d4859025616015b": {
          "model_module": "@jupyter-widgets/base",
          "model_name": "LayoutModel",
          "state": {
            "_view_name": "LayoutView",
            "grid_template_rows": null,
            "right": null,
            "justify_content": null,
            "_view_module": "@jupyter-widgets/base",
            "overflow": null,
            "_model_module_version": "1.2.0",
            "_view_count": null,
            "flex_flow": null,
            "width": null,
            "min_width": null,
            "border": null,
            "align_items": null,
            "bottom": null,
            "_model_module": "@jupyter-widgets/base",
            "top": null,
            "grid_column": null,
            "overflow_y": null,
            "overflow_x": null,
            "grid_auto_flow": null,
            "grid_area": null,
            "grid_template_columns": null,
            "flex": null,
            "_model_name": "LayoutModel",
            "justify_items": null,
            "grid_row": null,
            "max_height": null,
            "align_content": null,
            "visibility": null,
            "align_self": null,
            "height": null,
            "min_height": null,
            "padding": null,
            "grid_auto_rows": null,
            "grid_gap": null,
            "max_width": null,
            "order": null,
            "_view_module_version": "1.2.0",
            "grid_template_areas": null,
            "object_position": null,
            "object_fit": null,
            "grid_auto_columns": null,
            "margin": null,
            "display": null,
            "left": null
          }
        },
        "a2b0d8bdf2384498a87aaf3e3c860079": {
          "model_module": "@jupyter-widgets/controls",
          "model_name": "DescriptionStyleModel",
          "state": {
            "_view_name": "StyleView",
            "_model_name": "DescriptionStyleModel",
            "description_width": "",
            "_view_module": "@jupyter-widgets/base",
            "_model_module_version": "1.5.0",
            "_view_count": null,
            "_view_module_version": "1.2.0",
            "_model_module": "@jupyter-widgets/controls"
          }
        },
        "e1c3e7fb138b4a04b7d9f2736e23c6ba": {
          "model_module": "@jupyter-widgets/base",
          "model_name": "LayoutModel",
          "state": {
            "_view_name": "LayoutView",
            "grid_template_rows": null,
            "right": null,
            "justify_content": null,
            "_view_module": "@jupyter-widgets/base",
            "overflow": null,
            "_model_module_version": "1.2.0",
            "_view_count": null,
            "flex_flow": null,
            "width": null,
            "min_width": null,
            "border": null,
            "align_items": null,
            "bottom": null,
            "_model_module": "@jupyter-widgets/base",
            "top": null,
            "grid_column": null,
            "overflow_y": null,
            "overflow_x": null,
            "grid_auto_flow": null,
            "grid_area": null,
            "grid_template_columns": null,
            "flex": null,
            "_model_name": "LayoutModel",
            "justify_items": null,
            "grid_row": null,
            "max_height": null,
            "align_content": null,
            "visibility": null,
            "align_self": null,
            "height": null,
            "min_height": null,
            "padding": null,
            "grid_auto_rows": null,
            "grid_gap": null,
            "max_width": null,
            "order": null,
            "_view_module_version": "1.2.0",
            "grid_template_areas": null,
            "object_position": null,
            "object_fit": null,
            "grid_auto_columns": null,
            "margin": null,
            "display": null,
            "left": null
          }
        },
        "9b03d905c5a24391b09f504270f45fc3": {
          "model_module": "@jupyter-widgets/controls",
          "model_name": "HBoxModel",
          "state": {
            "_view_name": "HBoxView",
            "_dom_classes": [],
            "_model_name": "HBoxModel",
            "_view_module": "@jupyter-widgets/controls",
            "_model_module_version": "1.5.0",
            "_view_count": null,
            "_view_module_version": "1.5.0",
            "box_style": "",
            "layout": "IPY_MODEL_6f09af6ec86d45cbbd81bf8111dc3c42",
            "_model_module": "@jupyter-widgets/controls",
            "children": [
              "IPY_MODEL_b3413f6268014b71b59360c671973fe3",
              "IPY_MODEL_935694c12b4c4f35aa5450ae21eee8e2"
            ]
          }
        },
        "6f09af6ec86d45cbbd81bf8111dc3c42": {
          "model_module": "@jupyter-widgets/base",
          "model_name": "LayoutModel",
          "state": {
            "_view_name": "LayoutView",
            "grid_template_rows": null,
            "right": null,
            "justify_content": null,
            "_view_module": "@jupyter-widgets/base",
            "overflow": null,
            "_model_module_version": "1.2.0",
            "_view_count": null,
            "flex_flow": null,
            "width": null,
            "min_width": null,
            "border": null,
            "align_items": null,
            "bottom": null,
            "_model_module": "@jupyter-widgets/base",
            "top": null,
            "grid_column": null,
            "overflow_y": null,
            "overflow_x": null,
            "grid_auto_flow": null,
            "grid_area": null,
            "grid_template_columns": null,
            "flex": null,
            "_model_name": "LayoutModel",
            "justify_items": null,
            "grid_row": null,
            "max_height": null,
            "align_content": null,
            "visibility": null,
            "align_self": null,
            "height": null,
            "min_height": null,
            "padding": null,
            "grid_auto_rows": null,
            "grid_gap": null,
            "max_width": null,
            "order": null,
            "_view_module_version": "1.2.0",
            "grid_template_areas": null,
            "object_position": null,
            "object_fit": null,
            "grid_auto_columns": null,
            "margin": null,
            "display": null,
            "left": null
          }
        },
        "b3413f6268014b71b59360c671973fe3": {
          "model_module": "@jupyter-widgets/controls",
          "model_name": "IntProgressModel",
          "state": {
            "_view_name": "ProgressView",
            "style": "IPY_MODEL_dcaff2dbf8e340f2bde9119e56b7dc9d",
            "_dom_classes": [],
            "description": "",
            "_model_name": "IntProgressModel",
            "bar_style": "success",
            "max": 188756,
            "_view_module": "@jupyter-widgets/controls",
            "_model_module_version": "1.5.0",
            "value": 188756,
            "_view_count": null,
            "_view_module_version": "1.5.0",
            "orientation": "horizontal",
            "min": 0,
            "description_tooltip": null,
            "_model_module": "@jupyter-widgets/controls",
            "layout": "IPY_MODEL_adeb1518e00b400281dc22e7d79783ac"
          }
        },
        "935694c12b4c4f35aa5450ae21eee8e2": {
          "model_module": "@jupyter-widgets/controls",
          "model_name": "HTMLModel",
          "state": {
            "_view_name": "HTMLView",
            "style": "IPY_MODEL_ee322255a84a47bf943ceb7aa89aaf6a",
            "_dom_classes": [],
            "description": "",
            "_model_name": "HTMLModel",
            "placeholder": "​",
            "_view_module": "@jupyter-widgets/controls",
            "_model_module_version": "1.5.0",
            "value": "100% 188756/188756 [01:07&lt;00:00, 2723.55it/s]",
            "_view_count": null,
            "_view_module_version": "1.5.0",
            "description_tooltip": null,
            "_model_module": "@jupyter-widgets/controls",
            "layout": "IPY_MODEL_22737a476de54e769dc80c2d64c75b64"
          }
        },
        "dcaff2dbf8e340f2bde9119e56b7dc9d": {
          "model_module": "@jupyter-widgets/controls",
          "model_name": "ProgressStyleModel",
          "state": {
            "_view_name": "StyleView",
            "_model_name": "ProgressStyleModel",
            "description_width": "",
            "_view_module": "@jupyter-widgets/base",
            "_model_module_version": "1.5.0",
            "_view_count": null,
            "_view_module_version": "1.2.0",
            "bar_color": null,
            "_model_module": "@jupyter-widgets/controls"
          }
        },
        "adeb1518e00b400281dc22e7d79783ac": {
          "model_module": "@jupyter-widgets/base",
          "model_name": "LayoutModel",
          "state": {
            "_view_name": "LayoutView",
            "grid_template_rows": null,
            "right": null,
            "justify_content": null,
            "_view_module": "@jupyter-widgets/base",
            "overflow": null,
            "_model_module_version": "1.2.0",
            "_view_count": null,
            "flex_flow": null,
            "width": null,
            "min_width": null,
            "border": null,
            "align_items": null,
            "bottom": null,
            "_model_module": "@jupyter-widgets/base",
            "top": null,
            "grid_column": null,
            "overflow_y": null,
            "overflow_x": null,
            "grid_auto_flow": null,
            "grid_area": null,
            "grid_template_columns": null,
            "flex": null,
            "_model_name": "LayoutModel",
            "justify_items": null,
            "grid_row": null,
            "max_height": null,
            "align_content": null,
            "visibility": null,
            "align_self": null,
            "height": null,
            "min_height": null,
            "padding": null,
            "grid_auto_rows": null,
            "grid_gap": null,
            "max_width": null,
            "order": null,
            "_view_module_version": "1.2.0",
            "grid_template_areas": null,
            "object_position": null,
            "object_fit": null,
            "grid_auto_columns": null,
            "margin": null,
            "display": null,
            "left": null
          }
        },
        "ee322255a84a47bf943ceb7aa89aaf6a": {
          "model_module": "@jupyter-widgets/controls",
          "model_name": "DescriptionStyleModel",
          "state": {
            "_view_name": "StyleView",
            "_model_name": "DescriptionStyleModel",
            "description_width": "",
            "_view_module": "@jupyter-widgets/base",
            "_model_module_version": "1.5.0",
            "_view_count": null,
            "_view_module_version": "1.2.0",
            "_model_module": "@jupyter-widgets/controls"
          }
        },
        "22737a476de54e769dc80c2d64c75b64": {
          "model_module": "@jupyter-widgets/base",
          "model_name": "LayoutModel",
          "state": {
            "_view_name": "LayoutView",
            "grid_template_rows": null,
            "right": null,
            "justify_content": null,
            "_view_module": "@jupyter-widgets/base",
            "overflow": null,
            "_model_module_version": "1.2.0",
            "_view_count": null,
            "flex_flow": null,
            "width": null,
            "min_width": null,
            "border": null,
            "align_items": null,
            "bottom": null,
            "_model_module": "@jupyter-widgets/base",
            "top": null,
            "grid_column": null,
            "overflow_y": null,
            "overflow_x": null,
            "grid_auto_flow": null,
            "grid_area": null,
            "grid_template_columns": null,
            "flex": null,
            "_model_name": "LayoutModel",
            "justify_items": null,
            "grid_row": null,
            "max_height": null,
            "align_content": null,
            "visibility": null,
            "align_self": null,
            "height": null,
            "min_height": null,
            "padding": null,
            "grid_auto_rows": null,
            "grid_gap": null,
            "max_width": null,
            "order": null,
            "_view_module_version": "1.2.0",
            "grid_template_areas": null,
            "object_position": null,
            "object_fit": null,
            "grid_auto_columns": null,
            "margin": null,
            "display": null,
            "left": null
          }
        },
        "937aad016213438f9bea9a1150e1cee0": {
          "model_module": "@jupyter-widgets/controls",
          "model_name": "HBoxModel",
          "state": {
            "_view_name": "HBoxView",
            "_dom_classes": [],
            "_model_name": "HBoxModel",
            "_view_module": "@jupyter-widgets/controls",
            "_model_module_version": "1.5.0",
            "_view_count": null,
            "_view_module_version": "1.5.0",
            "box_style": "",
            "layout": "IPY_MODEL_645302a571854ce5ad0f91f3a2540314",
            "_model_module": "@jupyter-widgets/controls",
            "children": [
              "IPY_MODEL_7a6e3f8ed98b4467898ccc69cbee2e41",
              "IPY_MODEL_92c44211adc34c9198644e3494ee1d5e"
            ]
          }
        },
        "645302a571854ce5ad0f91f3a2540314": {
          "model_module": "@jupyter-widgets/base",
          "model_name": "LayoutModel",
          "state": {
            "_view_name": "LayoutView",
            "grid_template_rows": null,
            "right": null,
            "justify_content": null,
            "_view_module": "@jupyter-widgets/base",
            "overflow": null,
            "_model_module_version": "1.2.0",
            "_view_count": null,
            "flex_flow": null,
            "width": null,
            "min_width": null,
            "border": null,
            "align_items": null,
            "bottom": null,
            "_model_module": "@jupyter-widgets/base",
            "top": null,
            "grid_column": null,
            "overflow_y": null,
            "overflow_x": null,
            "grid_auto_flow": null,
            "grid_area": null,
            "grid_template_columns": null,
            "flex": null,
            "_model_name": "LayoutModel",
            "justify_items": null,
            "grid_row": null,
            "max_height": null,
            "align_content": null,
            "visibility": null,
            "align_self": null,
            "height": null,
            "min_height": null,
            "padding": null,
            "grid_auto_rows": null,
            "grid_gap": null,
            "max_width": null,
            "order": null,
            "_view_module_version": "1.2.0",
            "grid_template_areas": null,
            "object_position": null,
            "object_fit": null,
            "grid_auto_columns": null,
            "margin": null,
            "display": null,
            "left": null
          }
        },
        "7a6e3f8ed98b4467898ccc69cbee2e41": {
          "model_module": "@jupyter-widgets/controls",
          "model_name": "IntProgressModel",
          "state": {
            "_view_name": "ProgressView",
            "style": "IPY_MODEL_d95866e2b56f4fdcb45dc37c5f46cbff",
            "_dom_classes": [],
            "description": "",
            "_model_name": "IntProgressModel",
            "bar_style": "success",
            "max": 188756,
            "_view_module": "@jupyter-widgets/controls",
            "_model_module_version": "1.5.0",
            "value": 188756,
            "_view_count": null,
            "_view_module_version": "1.5.0",
            "orientation": "horizontal",
            "min": 0,
            "description_tooltip": null,
            "_model_module": "@jupyter-widgets/controls",
            "layout": "IPY_MODEL_91ca613197e04070ba417b55164f45be"
          }
        },
        "92c44211adc34c9198644e3494ee1d5e": {
          "model_module": "@jupyter-widgets/controls",
          "model_name": "HTMLModel",
          "state": {
            "_view_name": "HTMLView",
            "style": "IPY_MODEL_6d0fc2e81b2241b5946a26c7f5d5ffed",
            "_dom_classes": [],
            "description": "",
            "_model_name": "HTMLModel",
            "placeholder": "​",
            "_view_module": "@jupyter-widgets/controls",
            "_model_module_version": "1.5.0",
            "value": "100% 188756/188756 [01:07&lt;00:00, 2496.96it/s]",
            "_view_count": null,
            "_view_module_version": "1.5.0",
            "description_tooltip": null,
            "_model_module": "@jupyter-widgets/controls",
            "layout": "IPY_MODEL_c05839c31cc545969b65d65b1b3a843a"
          }
        },
        "d95866e2b56f4fdcb45dc37c5f46cbff": {
          "model_module": "@jupyter-widgets/controls",
          "model_name": "ProgressStyleModel",
          "state": {
            "_view_name": "StyleView",
            "_model_name": "ProgressStyleModel",
            "description_width": "",
            "_view_module": "@jupyter-widgets/base",
            "_model_module_version": "1.5.0",
            "_view_count": null,
            "_view_module_version": "1.2.0",
            "bar_color": null,
            "_model_module": "@jupyter-widgets/controls"
          }
        },
        "91ca613197e04070ba417b55164f45be": {
          "model_module": "@jupyter-widgets/base",
          "model_name": "LayoutModel",
          "state": {
            "_view_name": "LayoutView",
            "grid_template_rows": null,
            "right": null,
            "justify_content": null,
            "_view_module": "@jupyter-widgets/base",
            "overflow": null,
            "_model_module_version": "1.2.0",
            "_view_count": null,
            "flex_flow": null,
            "width": null,
            "min_width": null,
            "border": null,
            "align_items": null,
            "bottom": null,
            "_model_module": "@jupyter-widgets/base",
            "top": null,
            "grid_column": null,
            "overflow_y": null,
            "overflow_x": null,
            "grid_auto_flow": null,
            "grid_area": null,
            "grid_template_columns": null,
            "flex": null,
            "_model_name": "LayoutModel",
            "justify_items": null,
            "grid_row": null,
            "max_height": null,
            "align_content": null,
            "visibility": null,
            "align_self": null,
            "height": null,
            "min_height": null,
            "padding": null,
            "grid_auto_rows": null,
            "grid_gap": null,
            "max_width": null,
            "order": null,
            "_view_module_version": "1.2.0",
            "grid_template_areas": null,
            "object_position": null,
            "object_fit": null,
            "grid_auto_columns": null,
            "margin": null,
            "display": null,
            "left": null
          }
        },
        "6d0fc2e81b2241b5946a26c7f5d5ffed": {
          "model_module": "@jupyter-widgets/controls",
          "model_name": "DescriptionStyleModel",
          "state": {
            "_view_name": "StyleView",
            "_model_name": "DescriptionStyleModel",
            "description_width": "",
            "_view_module": "@jupyter-widgets/base",
            "_model_module_version": "1.5.0",
            "_view_count": null,
            "_view_module_version": "1.2.0",
            "_model_module": "@jupyter-widgets/controls"
          }
        },
        "c05839c31cc545969b65d65b1b3a843a": {
          "model_module": "@jupyter-widgets/base",
          "model_name": "LayoutModel",
          "state": {
            "_view_name": "LayoutView",
            "grid_template_rows": null,
            "right": null,
            "justify_content": null,
            "_view_module": "@jupyter-widgets/base",
            "overflow": null,
            "_model_module_version": "1.2.0",
            "_view_count": null,
            "flex_flow": null,
            "width": null,
            "min_width": null,
            "border": null,
            "align_items": null,
            "bottom": null,
            "_model_module": "@jupyter-widgets/base",
            "top": null,
            "grid_column": null,
            "overflow_y": null,
            "overflow_x": null,
            "grid_auto_flow": null,
            "grid_area": null,
            "grid_template_columns": null,
            "flex": null,
            "_model_name": "LayoutModel",
            "justify_items": null,
            "grid_row": null,
            "max_height": null,
            "align_content": null,
            "visibility": null,
            "align_self": null,
            "height": null,
            "min_height": null,
            "padding": null,
            "grid_auto_rows": null,
            "grid_gap": null,
            "max_width": null,
            "order": null,
            "_view_module_version": "1.2.0",
            "grid_template_areas": null,
            "object_position": null,
            "object_fit": null,
            "grid_auto_columns": null,
            "margin": null,
            "display": null,
            "left": null
          }
        }
      }
    }
  },
  "cells": [
    {
      "cell_type": "markdown",
      "metadata": {
        "id": "view-in-github",
        "colab_type": "text"
      },
      "source": [
        "<a href=\"https://colab.research.google.com/github/asanneh/CS109A-Final-Project/blob/master/notebook/FinalProject31.ipynb\" target=\"_parent\"><img src=\"https://colab.research.google.com/assets/colab-badge.svg\" alt=\"Open In Colab\"/></a>"
      ]
    },
    {
      "cell_type": "markdown",
      "metadata": {
        "id": "8XCHHz75h1v9",
        "colab_type": "text"
      },
      "source": [
        "# Loading Libraries and Million Playlist Data"
      ]
    },
    {
      "cell_type": "code",
      "metadata": {
        "id": "93NQZ_wGQYSa",
        "colab_type": "code",
        "colab": {}
      },
      "source": [
        "#Import the relevant libraries\n",
        "import pandas as pd\n",
        "import numpy as np\n",
        "import scipy.sparse as sparse\n",
        "import random"
      ],
      "execution_count": 0,
      "outputs": []
    },
    {
      "cell_type": "markdown",
      "metadata": {
        "id": "frbDSklJBOrD",
        "colab_type": "text"
      },
      "source": [
        "Helpful guide to using Google Colab: https://towardsdatascience.com/getting-started-with-google-colab-f2fff97f594c. \n",
        "\n",
        "The Million Playlist Data (MPD) in its raw format is made up of CSVs 0 through 999, each with 1000 playlists. Each CSV is 11 MB, so the unzipped size of the data is 11 GB. For processing in a reasonable time frame, code can be run on the GPU (TPU) by going to Runtime > change runtime type > GPU (TPU). That should give more space. \n",
        "\n",
        "To get access to the data, first the Google Drive holding the dataset must be mounted. The raw MPD was merged into a single CSV file called 'combined_playlist.csv'. This CSV file has an extra row denoting what CSV file the playlists came from. "
      ]
    },
    {
      "cell_type": "code",
      "metadata": {
        "id": "G3StzX8MIves",
        "colab_type": "code",
        "outputId": "bab2bfeb-45de-431f-eb1d-5b66004025d2",
        "colab": {
          "base_uri": "https://localhost:8080/",
          "height": 122
        }
      },
      "source": [
        "from google.colab import drive\n",
        "drive.mount('/content/drive')# force_remount=True)"
      ],
      "execution_count": 2,
      "outputs": [
        {
          "output_type": "stream",
          "text": [
            "Go to this URL in a browser: https://accounts.google.com/o/oauth2/auth?client_id=947318989803-6bn6qk8qdgf4n4g3pfee6491hc0brc4i.apps.googleusercontent.com&redirect_uri=urn%3aietf%3awg%3aoauth%3a2.0%3aoob&response_type=code&scope=email%20https%3a%2f%2fwww.googleapis.com%2fauth%2fdocs.test%20https%3a%2f%2fwww.googleapis.com%2fauth%2fdrive%20https%3a%2f%2fwww.googleapis.com%2fauth%2fdrive.photos.readonly%20https%3a%2f%2fwww.googleapis.com%2fauth%2fpeopleapi.readonly\n",
            "\n",
            "Enter your authorization code:\n",
            "··········\n",
            "Mounted at /content/drive\n"
          ],
          "name": "stdout"
        }
      ]
    },
    {
      "cell_type": "code",
      "metadata": {
        "id": "ehMR48ojQWt_",
        "colab_type": "code",
        "outputId": "739db2fa-97b2-4951-9bb3-4709d227d083",
        "colab": {
          "base_uri": "https://localhost:8080/",
          "height": 34
        }
      },
      "source": [
        "#load entire playlist to dataframe, note there is a performance hit here since I/O can't be parallelized\n",
        "#You can limit how many rows you read in by including nrows\n",
        "#songs = pd.read_csv('/content/drive/My Drive/Spotify/combined_playlist_v2.csv') #nrows = 10000000\n",
        "songs = pd.read_csv('/content/drive/My Drive/Spotify/combined_playlist_v2.csv')\n",
        "print(f'dataset shape: {songs.shape}')"
      ],
      "execution_count": 0,
      "outputs": [
        {
          "output_type": "stream",
          "text": [
            "dataset shape: (66346428, 11)\n"
          ],
          "name": "stdout"
        }
      ]
    },
    {
      "cell_type": "code",
      "metadata": {
        "id": "LaL--bWnhdhY",
        "colab_type": "code",
        "outputId": "08d2f35b-a389-4d6e-a1d7-d32e2aeab8ac",
        "colab": {
          "base_uri": "https://localhost:8080/",
          "height": 360
        }
      },
      "source": [
        "print(f'unique CSV files: {len(songs.file_name.unique())}')\n",
        "print(f'number of playlists: {songs.pidfile_name.nunique()}')\n",
        "print(f'unique songs: {len(songs.track_uri.unique())}')\n",
        "songs.head()"
      ],
      "execution_count": 0,
      "outputs": [
        {
          "output_type": "stream",
          "text": [
            "unique CSV files: 1000\n",
            "number of playlists: 1000000\n",
            "unique songs: 2262292\n"
          ],
          "name": "stdout"
        },
        {
          "output_type": "execute_result",
          "data": {
            "text/html": [
              "<div>\n",
              "<style scoped>\n",
              "    .dataframe tbody tr th:only-of-type {\n",
              "        vertical-align: middle;\n",
              "    }\n",
              "\n",
              "    .dataframe tbody tr th {\n",
              "        vertical-align: top;\n",
              "    }\n",
              "\n",
              "    .dataframe thead th {\n",
              "        text-align: right;\n",
              "    }\n",
              "</style>\n",
              "<table border=\"1\" class=\"dataframe\">\n",
              "  <thead>\n",
              "    <tr style=\"text-align: right;\">\n",
              "      <th></th>\n",
              "      <th>pid</th>\n",
              "      <th>pos</th>\n",
              "      <th>artist_name</th>\n",
              "      <th>track_uri</th>\n",
              "      <th>artist_uri</th>\n",
              "      <th>track_name</th>\n",
              "      <th>album_uri</th>\n",
              "      <th>duration_ms</th>\n",
              "      <th>album_name</th>\n",
              "      <th>file_name</th>\n",
              "      <th>pidfile_name</th>\n",
              "    </tr>\n",
              "  </thead>\n",
              "  <tbody>\n",
              "    <tr>\n",
              "      <th>0</th>\n",
              "      <td>0</td>\n",
              "      <td>0</td>\n",
              "      <td>Sleeping At Last</td>\n",
              "      <td>spotify:track:2d7LPtieXdIYzf7yHPooWd</td>\n",
              "      <td>spotify:artist:0MeLMJJcouYXCymQSHPn8g</td>\n",
              "      <td>Chasing Cars</td>\n",
              "      <td>spotify:album:0UIIvTTWNB3gRQWFoxoEDh</td>\n",
              "      <td>242564</td>\n",
              "      <td>Covers, Vol. 2</td>\n",
              "      <td>songs284</td>\n",
              "      <td>0songs284</td>\n",
              "    </tr>\n",
              "    <tr>\n",
              "      <th>1</th>\n",
              "      <td>0</td>\n",
              "      <td>1</td>\n",
              "      <td>Rachael Yamagata</td>\n",
              "      <td>spotify:track:0y4TKcc7p2H6P0GJlt01EI</td>\n",
              "      <td>spotify:artist:7w0qj2HiAPIeUcoPogvOZ6</td>\n",
              "      <td>Elephants</td>\n",
              "      <td>spotify:album:6KzK9fDNmj7GHFbcE4gVJD</td>\n",
              "      <td>253701</td>\n",
              "      <td>Elephants...Teeth Sinking Into Heart</td>\n",
              "      <td>songs284</td>\n",
              "      <td>0songs284</td>\n",
              "    </tr>\n",
              "    <tr>\n",
              "      <th>2</th>\n",
              "      <td>0</td>\n",
              "      <td>2</td>\n",
              "      <td>The Cinematic Orchestra</td>\n",
              "      <td>spotify:track:6q4c1vPRZREh7nw3wG7Ixz</td>\n",
              "      <td>spotify:artist:32ogthv0BdaSMPml02X9YB</td>\n",
              "      <td>That Home</td>\n",
              "      <td>spotify:album:5cPHT4yMCfETLRYAoBFcOZ</td>\n",
              "      <td>103920</td>\n",
              "      <td>Ma Fleur</td>\n",
              "      <td>songs284</td>\n",
              "      <td>0songs284</td>\n",
              "    </tr>\n",
              "    <tr>\n",
              "      <th>3</th>\n",
              "      <td>0</td>\n",
              "      <td>3</td>\n",
              "      <td>The Cinematic Orchestra</td>\n",
              "      <td>spotify:track:54KFQB6N4pn926IUUYZGzK</td>\n",
              "      <td>spotify:artist:32ogthv0BdaSMPml02X9YB</td>\n",
              "      <td>To Build A Home</td>\n",
              "      <td>spotify:album:5cPHT4yMCfETLRYAoBFcOZ</td>\n",
              "      <td>371320</td>\n",
              "      <td>Ma Fleur</td>\n",
              "      <td>songs284</td>\n",
              "      <td>0songs284</td>\n",
              "    </tr>\n",
              "    <tr>\n",
              "      <th>4</th>\n",
              "      <td>0</td>\n",
              "      <td>4</td>\n",
              "      <td>Leon Bridges</td>\n",
              "      <td>spotify:track:0NeJjNlprGfZpeX2LQuN6c</td>\n",
              "      <td>spotify:artist:3qnGvpP8Yth1AqSBMqON5x</td>\n",
              "      <td>River</td>\n",
              "      <td>spotify:album:4svLfrPPk2npPVuI4kXPYg</td>\n",
              "      <td>238560</td>\n",
              "      <td>Coming Home</td>\n",
              "      <td>songs284</td>\n",
              "      <td>0songs284</td>\n",
              "    </tr>\n",
              "  </tbody>\n",
              "</table>\n",
              "</div>"
            ],
            "text/plain": [
              "   pid  pos  ... file_name pidfile_name\n",
              "0    0    0  ...  songs284    0songs284\n",
              "1    0    1  ...  songs284    0songs284\n",
              "2    0    2  ...  songs284    0songs284\n",
              "3    0    3  ...  songs284    0songs284\n",
              "4    0    4  ...  songs284    0songs284\n",
              "\n",
              "[5 rows x 11 columns]"
            ]
          },
          "metadata": {
            "tags": []
          },
          "execution_count": 3
        }
      ]
    },
    {
      "cell_type": "markdown",
      "metadata": {
        "id": "cr8tonx2nWVE",
        "colab_type": "text"
      },
      "source": [
        "The columns of the MPD are as follows:\n",
        "\n",
        "1.   **pid:** playlist ID within the original CSV\n",
        "2.   **pos:** position of song within the playlist\n",
        "3.   **artist_name:** name of the artist (string)\n",
        "4.   **track_uri:** unique track Spotify Identifier\n",
        "5.   **artist_uri:** unique artist Spotify Identifier\n",
        "6.   **track_name:** name of the track (string)\n",
        "7.   **album_uri:** unique album Spotify Identifier\n",
        "8.   **duration_ms:** track duration in ms\n",
        "9.   **album_name:** name of album\n",
        "10.  **file_name:** identifier of CSV where playlists came from \n",
        "11.  **pidfile_name:** unique playlist identifier\n",
        "\n",
        "In order to make recommendations for songs for a particular playlist, we will eventually need to create a matrix of playlists by all the unique songs in the MPD. For this, we will need to pick the appropriate song identifier to make sure we are capturing all the unique songs. We will compare **track_name** vs **track_uri** labels to see what is better. \n",
        "\n"
      ]
    },
    {
      "cell_type": "code",
      "metadata": {
        "id": "-YguQnSDTyn8",
        "colab_type": "code",
        "outputId": "43f924b6-855c-40c3-d21f-b0203e97547a",
        "colab": {
          "base_uri": "https://localhost:8080/",
          "height": 68
        }
      },
      "source": [
        "#what identifier should we use\n",
        "print(f'unique songs by uri: {len(songs.track_uri.unique())}')\n",
        "print(f'unique songs by name: {len(songs.track_name.unique())}\\n')\n",
        "#print(f'unique artist+track combos (uri):{len(songs.groupby([\"track_uri\", \"artist_uri\"]))}')\n",
        "#print(f'unique artist+track combos (name):{len(songs.groupby([\"track_name\", \"artist_name\"]))}\\n')\n"
      ],
      "execution_count": 0,
      "outputs": [
        {
          "output_type": "stream",
          "text": [
            "unique songs by uri: 2262292\n",
            "unique songs by name: 1483760\n",
            "\n"
          ],
          "name": "stdout"
        }
      ]
    },
    {
      "cell_type": "markdown",
      "metadata": {
        "id": "F4zovFVXqYg2",
        "colab_type": "text"
      },
      "source": [
        "We see here that the number of unique songs by **track_uri** is larger than what is given when using **track_name**. This fits well with our understanding that song names can repeated, but that Spotify has unique identifiers for the songs that can disambiguate songs of the same name. Let's take a look at several songs with the same name. "
      ]
    },
    {
      "cell_type": "code",
      "metadata": {
        "id": "woviHwvSpzvZ",
        "colab_type": "code",
        "outputId": "8905dace-8cf3-4632-82fa-eb11b8a83789",
        "colab": {
          "base_uri": "https://localhost:8080/",
          "height": 221
        }
      },
      "source": [
        "#drop duplicated songs and count occurences of song names\n",
        "songs.drop_duplicates(subset = 'track_uri')['track_name'].value_counts()"
      ],
      "execution_count": 0,
      "outputs": [
        {
          "output_type": "execute_result",
          "data": {
            "text/plain": [
              "Intro                                                1559\n",
              "Silent Night                                          946\n",
              "Home                                                  843\n",
              "White Christmas                                       617\n",
              "O Holy Night                                          554\n",
              "                                                     ... \n",
              "Burro Amarrado                                          1\n",
              "Appalachian Spring (Original Version): Meno mosso       1\n",
              "Messa da Requiem: 2. Lacrymosa                          1\n",
              "The Painters Portrait, Pt. 1                            1\n",
              "Show Me What You Got (feat. Trina)                      1\n",
              "Name: track_name, Length: 1483759, dtype: int64"
            ]
          },
          "metadata": {
            "tags": []
          },
          "execution_count": 7
        }
      ]
    },
    {
      "cell_type": "markdown",
      "metadata": {
        "id": "4h5QSvVJhjVC",
        "colab_type": "text"
      },
      "source": [
        "It seems that **track_uris** are a better way to go here - unique to each song and artist, regardless of name overlaps. Especially with cover songs - could be entirely different styles and belong in different playlists. "
      ]
    },
    {
      "cell_type": "markdown",
      "metadata": {
        "id": "zNpyXvdNbTPK",
        "colab_type": "text"
      },
      "source": [
        "# Data Wrangling"
      ]
    },
    {
      "cell_type": "markdown",
      "metadata": {
        "id": "PLX4bWHFaYqf",
        "colab_type": "text"
      },
      "source": [
        "Google Colab cannot do EDA on the whole file without running out of RAM on the GPU. To try and ameliorate this and to allow us enough RAM to do model building as well, we are choosing to randomly drop 50% of the playlists from our original file, leaving us with 500K playlists to work with. While we would like to be able to work with the whole dataset, we do not have nearly enough compute power available to us to effectively analyze it. "
      ]
    },
    {
      "cell_type": "code",
      "metadata": {
        "id": "XK06OWzVbpqn",
        "colab_type": "code",
        "colab": {}
      },
      "source": [
        "random.seed(0)\n",
        "pid_to_keep = np.random.choice(songs['pidfile_name'].unique(), 500000, replace = False)\n",
        "drop_idx = songs.loc[songs.pidfile_name.isin(pid_to_keep)].index"
      ],
      "execution_count": 0,
      "outputs": []
    },
    {
      "cell_type": "code",
      "metadata": {
        "id": "ZS7ixbXofEX4",
        "colab_type": "code",
        "colab": {}
      },
      "source": [
        "songs.drop(drop_idx, inplace = True)"
      ],
      "execution_count": 0,
      "outputs": []
    },
    {
      "cell_type": "code",
      "metadata": {
        "id": "aziqMXWDfyC2",
        "colab_type": "code",
        "outputId": "55ab9bd6-aee0-4ab0-fa42-ee3085f830cc",
        "colab": {
          "base_uri": "https://localhost:8080/",
          "height": 34
        }
      },
      "source": [
        "print(f'number of playlists: {songs.pidfile_name.nunique()}')"
      ],
      "execution_count": 0,
      "outputs": [
        {
          "output_type": "stream",
          "text": [
            "number of playlists: 500000\n"
          ],
          "name": "stdout"
        }
      ]
    },
    {
      "cell_type": "code",
      "metadata": {
        "id": "gN7XjFZhXKch",
        "colab_type": "code",
        "outputId": "89a29bff-9ca3-406d-cc98-1095acc6b070",
        "colab": {
          "base_uri": "https://localhost:8080/",
          "height": 34
        }
      },
      "source": [
        "#let's drop the unneeded columns pid and file_name and just keep pidfile_name\n",
        "songs.drop(columns = ['pid', 'file_name'], inplace=True)\n",
        "songs.shape"
      ],
      "execution_count": 0,
      "outputs": [
        {
          "output_type": "execute_result",
          "data": {
            "text/plain": [
              "(33143261, 9)"
            ]
          },
          "metadata": {
            "tags": []
          },
          "execution_count": 11
        }
      ]
    },
    {
      "cell_type": "code",
      "metadata": {
        "id": "NOqatbzudNbE",
        "colab_type": "code",
        "colab": {}
      },
      "source": [
        "songs.to_csv('500k_playlists.csv')"
      ],
      "execution_count": 0,
      "outputs": []
    },
    {
      "cell_type": "code",
      "metadata": {
        "id": "EFnbscBOeBWR",
        "colab_type": "code",
        "colab": {}
      },
      "source": [
        "!cp 500k_playlists.csv /content/drive/My\\ Drive/CS109A\\ project/Spotify"
      ],
      "execution_count": 0,
      "outputs": []
    },
    {
      "cell_type": "markdown",
      "metadata": {
        "id": "Iooirp-S_qkW",
        "colab_type": "text"
      },
      "source": [
        "# Data Cleaning"
      ]
    },
    {
      "cell_type": "markdown",
      "metadata": {
        "id": "Oug2j3c3r5Tu",
        "colab_type": "text"
      },
      "source": [
        "Before we proceed with further data analysis, we should make sure that our data is clean - no missingness, consistent types, etc. "
      ]
    },
    {
      "cell_type": "code",
      "metadata": {
        "id": "j5RCYLX1u-u3",
        "colab_type": "code",
        "colab": {}
      },
      "source": [
        "#Import the relevant libraries\n",
        "import pandas as pd\n",
        "import numpy as np\n",
        "import scipy.sparse as sparse\n",
        "import random"
      ],
      "execution_count": 0,
      "outputs": []
    },
    {
      "cell_type": "code",
      "metadata": {
        "id": "hNkJeP6JkOqw",
        "colab_type": "code",
        "outputId": "20352d34-8464-4c18-ae27-1532493f8800",
        "colab": {
          "base_uri": "https://localhost:8080/",
          "height": 365
        }
      },
      "source": [
        "songs = pd.read_csv('/content/drive/My Drive/Spotify/500k_playlists.csv', index_col=0)\n",
        "print(f'dataset shape: {songs.shape}')\n",
        "songs.head()"
      ],
      "execution_count": 0,
      "outputs": [
        {
          "output_type": "stream",
          "text": [
            "/usr/local/lib/python3.6/dist-packages/numpy/lib/arraysetops.py:568: FutureWarning: elementwise comparison failed; returning scalar instead, but in the future will perform elementwise comparison\n",
            "  mask |= (ar1 == a)\n"
          ],
          "name": "stderr"
        },
        {
          "output_type": "stream",
          "text": [
            "dataset shape: (33143261, 9)\n"
          ],
          "name": "stdout"
        },
        {
          "output_type": "execute_result",
          "data": {
            "text/html": [
              "<div>\n",
              "<style scoped>\n",
              "    .dataframe tbody tr th:only-of-type {\n",
              "        vertical-align: middle;\n",
              "    }\n",
              "\n",
              "    .dataframe tbody tr th {\n",
              "        vertical-align: top;\n",
              "    }\n",
              "\n",
              "    .dataframe thead th {\n",
              "        text-align: right;\n",
              "    }\n",
              "</style>\n",
              "<table border=\"1\" class=\"dataframe\">\n",
              "  <thead>\n",
              "    <tr style=\"text-align: right;\">\n",
              "      <th></th>\n",
              "      <th>pos</th>\n",
              "      <th>artist_name</th>\n",
              "      <th>track_uri</th>\n",
              "      <th>artist_uri</th>\n",
              "      <th>track_name</th>\n",
              "      <th>album_uri</th>\n",
              "      <th>duration_ms</th>\n",
              "      <th>album_name</th>\n",
              "      <th>pidfile_name</th>\n",
              "    </tr>\n",
              "  </thead>\n",
              "  <tbody>\n",
              "    <tr>\n",
              "      <th>0</th>\n",
              "      <td>0</td>\n",
              "      <td>Sleeping At Last</td>\n",
              "      <td>spotify:track:2d7LPtieXdIYzf7yHPooWd</td>\n",
              "      <td>spotify:artist:0MeLMJJcouYXCymQSHPn8g</td>\n",
              "      <td>Chasing Cars</td>\n",
              "      <td>spotify:album:0UIIvTTWNB3gRQWFoxoEDh</td>\n",
              "      <td>242564</td>\n",
              "      <td>Covers, Vol. 2</td>\n",
              "      <td>0songs284</td>\n",
              "    </tr>\n",
              "    <tr>\n",
              "      <th>1</th>\n",
              "      <td>1</td>\n",
              "      <td>Rachael Yamagata</td>\n",
              "      <td>spotify:track:0y4TKcc7p2H6P0GJlt01EI</td>\n",
              "      <td>spotify:artist:7w0qj2HiAPIeUcoPogvOZ6</td>\n",
              "      <td>Elephants</td>\n",
              "      <td>spotify:album:6KzK9fDNmj7GHFbcE4gVJD</td>\n",
              "      <td>253701</td>\n",
              "      <td>Elephants...Teeth Sinking Into Heart</td>\n",
              "      <td>0songs284</td>\n",
              "    </tr>\n",
              "    <tr>\n",
              "      <th>2</th>\n",
              "      <td>2</td>\n",
              "      <td>The Cinematic Orchestra</td>\n",
              "      <td>spotify:track:6q4c1vPRZREh7nw3wG7Ixz</td>\n",
              "      <td>spotify:artist:32ogthv0BdaSMPml02X9YB</td>\n",
              "      <td>That Home</td>\n",
              "      <td>spotify:album:5cPHT4yMCfETLRYAoBFcOZ</td>\n",
              "      <td>103920</td>\n",
              "      <td>Ma Fleur</td>\n",
              "      <td>0songs284</td>\n",
              "    </tr>\n",
              "    <tr>\n",
              "      <th>3</th>\n",
              "      <td>3</td>\n",
              "      <td>The Cinematic Orchestra</td>\n",
              "      <td>spotify:track:54KFQB6N4pn926IUUYZGzK</td>\n",
              "      <td>spotify:artist:32ogthv0BdaSMPml02X9YB</td>\n",
              "      <td>To Build A Home</td>\n",
              "      <td>spotify:album:5cPHT4yMCfETLRYAoBFcOZ</td>\n",
              "      <td>371320</td>\n",
              "      <td>Ma Fleur</td>\n",
              "      <td>0songs284</td>\n",
              "    </tr>\n",
              "    <tr>\n",
              "      <th>4</th>\n",
              "      <td>4</td>\n",
              "      <td>Leon Bridges</td>\n",
              "      <td>spotify:track:0NeJjNlprGfZpeX2LQuN6c</td>\n",
              "      <td>spotify:artist:3qnGvpP8Yth1AqSBMqON5x</td>\n",
              "      <td>River</td>\n",
              "      <td>spotify:album:4svLfrPPk2npPVuI4kXPYg</td>\n",
              "      <td>238560</td>\n",
              "      <td>Coming Home</td>\n",
              "      <td>0songs284</td>\n",
              "    </tr>\n",
              "  </tbody>\n",
              "</table>\n",
              "</div>"
            ],
            "text/plain": [
              "   pos  ... pidfile_name\n",
              "0    0  ...    0songs284\n",
              "1    1  ...    0songs284\n",
              "2    2  ...    0songs284\n",
              "3    3  ...    0songs284\n",
              "4    4  ...    0songs284\n",
              "\n",
              "[5 rows x 9 columns]"
            ]
          },
          "metadata": {
            "tags": []
          },
          "execution_count": 4
        }
      ]
    },
    {
      "cell_type": "code",
      "metadata": {
        "id": "s2Lj_oywr4ZU",
        "colab_type": "code",
        "outputId": "2b6a0232-0d00-4e89-92b0-c6f27d688897",
        "colab": {
          "base_uri": "https://localhost:8080/",
          "height": 191
        }
      },
      "source": [
        "#are there any missing values?\n",
        "songs.isnull().sum()"
      ],
      "execution_count": 0,
      "outputs": [
        {
          "output_type": "execute_result",
          "data": {
            "text/plain": [
              "pos             0\n",
              "artist_name     8\n",
              "track_uri       0\n",
              "artist_uri      0\n",
              "track_name      1\n",
              "album_uri       0\n",
              "duration_ms     0\n",
              "album_name      4\n",
              "pidfile_name    0\n",
              "dtype: int64"
            ]
          },
          "metadata": {
            "tags": []
          },
          "execution_count": 5
        }
      ]
    },
    {
      "cell_type": "code",
      "metadata": {
        "id": "cfZ0K6aE7C5j",
        "colab_type": "code",
        "outputId": "c5d7a420-b2e6-487a-d465-0abeea05be74",
        "colab": {
          "base_uri": "https://localhost:8080/",
          "height": 191
        }
      },
      "source": [
        "#what are the data types?\n",
        "songs.dtypes"
      ],
      "execution_count": 0,
      "outputs": [
        {
          "output_type": "execute_result",
          "data": {
            "text/plain": [
              "pos              int64\n",
              "artist_name     object\n",
              "track_uri       object\n",
              "artist_uri      object\n",
              "track_name      object\n",
              "album_uri       object\n",
              "duration_ms      int64\n",
              "album_name      object\n",
              "pidfile_name    object\n",
              "dtype: object"
            ]
          },
          "metadata": {
            "tags": []
          },
          "execution_count": 6
        }
      ]
    },
    {
      "cell_type": "code",
      "metadata": {
        "id": "sxZCnEtDscKU",
        "colab_type": "code",
        "outputId": "f78760e1-c46e-420b-937b-bda1647f9888",
        "colab": {
          "base_uri": "https://localhost:8080/",
          "height": 581
        }
      },
      "source": [
        "#we have some missing values in artist_name, album_name, and track_name\n",
        "#Let's take a look at them, maybe we can fill them in by hand using the uri info\n",
        "\n",
        "songs.loc[songs.artist_name.isnull()]"
      ],
      "execution_count": 0,
      "outputs": [
        {
          "output_type": "execute_result",
          "data": {
            "text/html": [
              "<div>\n",
              "<style scoped>\n",
              "    .dataframe tbody tr th:only-of-type {\n",
              "        vertical-align: middle;\n",
              "    }\n",
              "\n",
              "    .dataframe tbody tr th {\n",
              "        vertical-align: top;\n",
              "    }\n",
              "\n",
              "    .dataframe thead th {\n",
              "        text-align: right;\n",
              "    }\n",
              "</style>\n",
              "<table border=\"1\" class=\"dataframe\">\n",
              "  <thead>\n",
              "    <tr style=\"text-align: right;\">\n",
              "      <th></th>\n",
              "      <th>pos</th>\n",
              "      <th>artist_name</th>\n",
              "      <th>track_uri</th>\n",
              "      <th>artist_uri</th>\n",
              "      <th>track_name</th>\n",
              "      <th>album_uri</th>\n",
              "      <th>duration_ms</th>\n",
              "      <th>album_name</th>\n",
              "      <th>pidfile_name</th>\n",
              "    </tr>\n",
              "  </thead>\n",
              "  <tbody>\n",
              "    <tr>\n",
              "      <th>4293081</th>\n",
              "      <td>4</td>\n",
              "      <td>NaN</td>\n",
              "      <td>spotify:track:4eUsRojrbcfPsdUD7qZZo7</td>\n",
              "      <td>spotify:artist:4oPYazJJ1o4rWBrTw9lm40</td>\n",
              "      <td>Brindisi Ver. 1</td>\n",
              "      <td>spotify:album:5iVF4oYu6lVTOQj2iu6b2b</td>\n",
              "      <td>194386</td>\n",
              "      <td>Opera Greatest Hits</td>\n",
              "      <td>591songs246</td>\n",
              "    </tr>\n",
              "    <tr>\n",
              "      <th>8820322</th>\n",
              "      <td>128</td>\n",
              "      <td>NaN</td>\n",
              "      <td>spotify:track:14sdk4mdW6KzKfa8tk0hnn</td>\n",
              "      <td>spotify:artist:4oPYazJJ1o4rWBrTw9lm40</td>\n",
              "      <td>Hello</td>\n",
              "      <td>spotify:album:2CnxsT3zuHV2rDSVqpKxde</td>\n",
              "      <td>18706</td>\n",
              "      <td>Anticon Label Sampler 1999 - 2004</td>\n",
              "      <td>885songs286</td>\n",
              "    </tr>\n",
              "    <tr>\n",
              "      <th>8820337</th>\n",
              "      <td>143</td>\n",
              "      <td>NaN</td>\n",
              "      <td>spotify:track:0zyLruNSGOBFsYvVKIrhHo</td>\n",
              "      <td>spotify:artist:4oPYazJJ1o4rWBrTw9lm40</td>\n",
              "      <td>Pity Party People Interlude</td>\n",
              "      <td>spotify:album:2CnxsT3zuHV2rDSVqpKxde</td>\n",
              "      <td>19413</td>\n",
              "      <td>Anticon Label Sampler 1999 - 2004</td>\n",
              "      <td>885songs286</td>\n",
              "    </tr>\n",
              "    <tr>\n",
              "      <th>32306209</th>\n",
              "      <td>103</td>\n",
              "      <td>NaN</td>\n",
              "      <td>spotify:track:1x4tbfq3ywvTvJVwgVsSHN</td>\n",
              "      <td>spotify:artist:5acHYRoM4lpJIiHZ4Zi3Is</td>\n",
              "      <td>Menace</td>\n",
              "      <td>spotify:album:63T4BKB9CwXzfMuUBE8RWX</td>\n",
              "      <td>232551</td>\n",
              "      <td>Cellar</td>\n",
              "      <td>63songs816</td>\n",
              "    </tr>\n",
              "    <tr>\n",
              "      <th>34634330</th>\n",
              "      <td>58</td>\n",
              "      <td>NaN</td>\n",
              "      <td>spotify:track:3uxxOSDWiBqKBnbU2eSAxI</td>\n",
              "      <td>spotify:artist:3fmUow9gSgOouUw2UnUtzg</td>\n",
              "      <td>NaN</td>\n",
              "      <td>spotify:album:0yiPGCcuMDakfqcmvY6Rk1</td>\n",
              "      <td>135427</td>\n",
              "      <td>NaN</td>\n",
              "      <td>434songs744</td>\n",
              "    </tr>\n",
              "    <tr>\n",
              "      <th>55711352</th>\n",
              "      <td>80</td>\n",
              "      <td>NaN</td>\n",
              "      <td>spotify:track:0VffYn4XPllw50b5t8eyU9</td>\n",
              "      <td>spotify:artist:4oPYazJJ1o4rWBrTw9lm40</td>\n",
              "      <td>Love Changes Everything - Track by Track</td>\n",
              "      <td>spotify:album:2ozA83nQINAfGWduklekFp</td>\n",
              "      <td>186786</td>\n",
              "      <td>A Musical Affair (Track by Track)</td>\n",
              "      <td>895songs107</td>\n",
              "    </tr>\n",
              "    <tr>\n",
              "      <th>55711353</th>\n",
              "      <td>81</td>\n",
              "      <td>NaN</td>\n",
              "      <td>spotify:track:6e7I9PmXBHHmNzoHILhY5e</td>\n",
              "      <td>spotify:artist:4oPYazJJ1o4rWBrTw9lm40</td>\n",
              "      <td>The Music of the Night - Track by Track</td>\n",
              "      <td>spotify:album:2ozA83nQINAfGWduklekFp</td>\n",
              "      <td>211080</td>\n",
              "      <td>A Musical Affair (Track by Track)</td>\n",
              "      <td>895songs107</td>\n",
              "    </tr>\n",
              "    <tr>\n",
              "      <th>61851152</th>\n",
              "      <td>45</td>\n",
              "      <td>NaN</td>\n",
              "      <td>spotify:track:0hxxhWW4v5dFTTzudq6BT8</td>\n",
              "      <td>spotify:artist:5acHYRoM4lpJIiHZ4Zi3Is</td>\n",
              "      <td>Flute Gasp</td>\n",
              "      <td>spotify:album:5Us2V8uDxjNnlAqpS5olMr</td>\n",
              "      <td>236191</td>\n",
              "      <td>Xtreme Tremble</td>\n",
              "      <td>141songs261</td>\n",
              "    </tr>\n",
              "  </tbody>\n",
              "</table>\n",
              "</div>"
            ],
            "text/plain": [
              "          pos artist_name  ...                         album_name pidfile_name\n",
              "4293081     4         NaN  ...                Opera Greatest Hits  591songs246\n",
              "8820322   128         NaN  ...  Anticon Label Sampler 1999 - 2004  885songs286\n",
              "8820337   143         NaN  ...  Anticon Label Sampler 1999 - 2004  885songs286\n",
              "32306209  103         NaN  ...                             Cellar   63songs816\n",
              "34634330   58         NaN  ...                                NaN  434songs744\n",
              "55711352   80         NaN  ...  A Musical Affair (Track by Track)  895songs107\n",
              "55711353   81         NaN  ...  A Musical Affair (Track by Track)  895songs107\n",
              "61851152   45         NaN  ...                     Xtreme Tremble  141songs261\n",
              "\n",
              "[8 rows x 9 columns]"
            ]
          },
          "metadata": {
            "tags": []
          },
          "execution_count": 7
        }
      ]
    },
    {
      "cell_type": "markdown",
      "metadata": {
        "id": "yC6cLZf7unx-",
        "colab_type": "text"
      },
      "source": [
        "By referencing the **track_uri** in Spotify, it seems that 4 tracks in this category are classical music songs where the primary artist (writer) is listed as N/A. Two tracks are from the same indie rap album, where the primary artist is also N/A. In these cases, it seems that this is truly missing information. What is amusing is that the **artist_uri** for these songs actually points to a reggae group called 'N/A'. When you look at their discography, they have a vast number of classical and opera songs attributed to them...\n",
        "\n",
        "Besides that, there is one artist called 'NA' and one artist called 'null'. \n",
        "\n",
        "It doesn't seem that this will interfere with our collaborative filtering recommender system, just maybe make the song credit information a little more confusing. We will not filter these songs out in the mean time, but we will change the **artist_uri** to NaN to reflect this information for the songs with missing info, and update **artist_name** for those artists named 'NA' and 'null'.   "
      ]
    },
    {
      "cell_type": "code",
      "metadata": {
        "id": "P_CGGDMh73T0",
        "colab_type": "code",
        "colab": {}
      },
      "source": [
        "songs.loc[songs.artist_uri == 'spotify:artist:5acHYRoM4lpJIiHZ4Zi3Is', 'artist_name'] = ['NA']*2\n",
        "songs.loc[songs.artist_uri == 'spotify:artist:3fmUow9gSgOouUw2UnUtzg', 'artist_name'] = ['null']\n",
        "songs.loc[songs.artist_uri == 'spotify:artist:4oPYazJJ1o4rWBrTw9lm40', 'artist_uri'] = [np.nan]*5\n"
      ],
      "execution_count": 0,
      "outputs": []
    },
    {
      "cell_type": "code",
      "metadata": {
        "id": "-EZqKMAUwqM6",
        "colab_type": "code",
        "outputId": "f385f227-6a8b-4b67-adff-ca5c34def2a0",
        "colab": {
          "base_uri": "https://localhost:8080/",
          "height": 351
        }
      },
      "source": [
        "#we have some missing values in artist_name and album_name. \n",
        "#Let's take a look at them, maybe we can fill them in by hand using the uri info\n",
        "\n",
        "songs.loc[songs.album_name.isnull()]"
      ],
      "execution_count": 0,
      "outputs": [
        {
          "output_type": "execute_result",
          "data": {
            "text/html": [
              "<div>\n",
              "<style scoped>\n",
              "    .dataframe tbody tr th:only-of-type {\n",
              "        vertical-align: middle;\n",
              "    }\n",
              "\n",
              "    .dataframe tbody tr th {\n",
              "        vertical-align: top;\n",
              "    }\n",
              "\n",
              "    .dataframe thead th {\n",
              "        text-align: right;\n",
              "    }\n",
              "</style>\n",
              "<table border=\"1\" class=\"dataframe\">\n",
              "  <thead>\n",
              "    <tr style=\"text-align: right;\">\n",
              "      <th></th>\n",
              "      <th>pos</th>\n",
              "      <th>artist_name</th>\n",
              "      <th>track_uri</th>\n",
              "      <th>artist_uri</th>\n",
              "      <th>track_name</th>\n",
              "      <th>album_uri</th>\n",
              "      <th>duration_ms</th>\n",
              "      <th>album_name</th>\n",
              "      <th>pidfile_name</th>\n",
              "    </tr>\n",
              "  </thead>\n",
              "  <tbody>\n",
              "    <tr>\n",
              "      <th>7069563</th>\n",
              "      <td>86</td>\n",
              "      <td>Loop Garou</td>\n",
              "      <td>spotify:track:5waP9OdTo3Wx5s4IfAq8OT</td>\n",
              "      <td>spotify:artist:6ZcNVoWvuMRbhS789e6saA</td>\n",
              "      <td>Darlin' Don't Go (feat. Sarah Summers)</td>\n",
              "      <td>spotify:album:4zLXjNbJaNvj8X97GAnr5i</td>\n",
              "      <td>261906</td>\n",
              "      <td>NaN</td>\n",
              "      <td>513songs494</td>\n",
              "    </tr>\n",
              "    <tr>\n",
              "      <th>7293324</th>\n",
              "      <td>20</td>\n",
              "      <td>Loop Garou</td>\n",
              "      <td>spotify:track:5waP9OdTo3Wx5s4IfAq8OT</td>\n",
              "      <td>spotify:artist:6ZcNVoWvuMRbhS789e6saA</td>\n",
              "      <td>Darlin' Don't Go (feat. Sarah Summers)</td>\n",
              "      <td>spotify:album:4zLXjNbJaNvj8X97GAnr5i</td>\n",
              "      <td>261906</td>\n",
              "      <td>NaN</td>\n",
              "      <td>868songs133</td>\n",
              "    </tr>\n",
              "    <tr>\n",
              "      <th>11813676</th>\n",
              "      <td>44</td>\n",
              "      <td>Loop Garou</td>\n",
              "      <td>spotify:track:5waP9OdTo3Wx5s4IfAq8OT</td>\n",
              "      <td>spotify:artist:6ZcNVoWvuMRbhS789e6saA</td>\n",
              "      <td>Darlin' Don't Go (feat. Sarah Summers)</td>\n",
              "      <td>spotify:album:4zLXjNbJaNvj8X97GAnr5i</td>\n",
              "      <td>261906</td>\n",
              "      <td>NaN</td>\n",
              "      <td>116songs122</td>\n",
              "    </tr>\n",
              "    <tr>\n",
              "      <th>34634330</th>\n",
              "      <td>58</td>\n",
              "      <td>null</td>\n",
              "      <td>spotify:track:3uxxOSDWiBqKBnbU2eSAxI</td>\n",
              "      <td>spotify:artist:3fmUow9gSgOouUw2UnUtzg</td>\n",
              "      <td>NaN</td>\n",
              "      <td>spotify:album:0yiPGCcuMDakfqcmvY6Rk1</td>\n",
              "      <td>135427</td>\n",
              "      <td>NaN</td>\n",
              "      <td>434songs744</td>\n",
              "    </tr>\n",
              "  </tbody>\n",
              "</table>\n",
              "</div>"
            ],
            "text/plain": [
              "          pos artist_name  ... album_name pidfile_name\n",
              "7069563    86  Loop Garou  ...        NaN  513songs494\n",
              "7293324    20  Loop Garou  ...        NaN  868songs133\n",
              "11813676   44  Loop Garou  ...        NaN  116songs122\n",
              "34634330   58        null  ...        NaN  434songs744\n",
              "\n",
              "[4 rows x 9 columns]"
            ]
          },
          "metadata": {
            "tags": []
          },
          "execution_count": 9
        }
      ]
    },
    {
      "cell_type": "markdown",
      "metadata": {
        "id": "CLvfVmLDww80",
        "colab_type": "text"
      },
      "source": [
        "Loop Garou annoyingly named his album 'N/A' which got translated to a NaN in the pandas dataframe. Artist named 'null' also has a track and album named 'null' so that's great. Let's fix the labels. "
      ]
    },
    {
      "cell_type": "code",
      "metadata": {
        "id": "SWpuz6JT-ijk",
        "colab_type": "code",
        "colab": {}
      },
      "source": [
        "songs.loc[songs.album_uri == 'spotify:album:4zLXjNbJaNvj8X97GAnr5i', 'album_name'] = ['N/A']*3\n",
        "songs.loc[songs.album_uri == 'spotify:album:0yiPGCcuMDakfqcmvY6Rk1', 'album_name'] = ['null']"
      ],
      "execution_count": 0,
      "outputs": []
    },
    {
      "cell_type": "code",
      "metadata": {
        "id": "aCBeqEVY-5kS",
        "colab_type": "code",
        "outputId": "2bb8baea-9c1e-44fd-b687-dd7f910ecb4f",
        "colab": {
          "base_uri": "https://localhost:8080/",
          "height": 101
        }
      },
      "source": [
        "#missing track names?\n",
        "songs.loc[songs.track_name.isnull()]"
      ],
      "execution_count": 0,
      "outputs": [
        {
          "output_type": "execute_result",
          "data": {
            "text/html": [
              "<div>\n",
              "<style scoped>\n",
              "    .dataframe tbody tr th:only-of-type {\n",
              "        vertical-align: middle;\n",
              "    }\n",
              "\n",
              "    .dataframe tbody tr th {\n",
              "        vertical-align: top;\n",
              "    }\n",
              "\n",
              "    .dataframe thead th {\n",
              "        text-align: right;\n",
              "    }\n",
              "</style>\n",
              "<table border=\"1\" class=\"dataframe\">\n",
              "  <thead>\n",
              "    <tr style=\"text-align: right;\">\n",
              "      <th></th>\n",
              "      <th>pos</th>\n",
              "      <th>artist_name</th>\n",
              "      <th>track_uri</th>\n",
              "      <th>artist_uri</th>\n",
              "      <th>track_name</th>\n",
              "      <th>album_uri</th>\n",
              "      <th>duration_ms</th>\n",
              "      <th>album_name</th>\n",
              "      <th>pidfile_name</th>\n",
              "    </tr>\n",
              "  </thead>\n",
              "  <tbody>\n",
              "    <tr>\n",
              "      <th>34634330</th>\n",
              "      <td>58</td>\n",
              "      <td>null</td>\n",
              "      <td>spotify:track:3uxxOSDWiBqKBnbU2eSAxI</td>\n",
              "      <td>spotify:artist:3fmUow9gSgOouUw2UnUtzg</td>\n",
              "      <td>NaN</td>\n",
              "      <td>spotify:album:0yiPGCcuMDakfqcmvY6Rk1</td>\n",
              "      <td>135427</td>\n",
              "      <td>null</td>\n",
              "      <td>434songs744</td>\n",
              "    </tr>\n",
              "  </tbody>\n",
              "</table>\n",
              "</div>"
            ],
            "text/plain": [
              "          pos artist_name  ... album_name pidfile_name\n",
              "34634330   58        null  ...       null  434songs744\n",
              "\n",
              "[1 rows x 9 columns]"
            ]
          },
          "metadata": {
            "tags": []
          },
          "execution_count": 11
        }
      ]
    },
    {
      "cell_type": "markdown",
      "metadata": {
        "id": "bFXZQ7z3_KpA",
        "colab_type": "text"
      },
      "source": [
        "Once again, we have our null artist with null album and null song. We will fix that as well as the null song name for the other artist. "
      ]
    },
    {
      "cell_type": "code",
      "metadata": {
        "id": "d2MHfW5p_WGU",
        "colab_type": "code",
        "colab": {}
      },
      "source": [
        "songs.loc[songs.track_uri == 'spotify:track:3uxxOSDWiBqKBnbU2eSAxI', 'track_name'] = ['null']"
      ],
      "execution_count": 0,
      "outputs": []
    },
    {
      "cell_type": "markdown",
      "metadata": {
        "id": "RWW4UzAq_w6h",
        "colab_type": "text"
      },
      "source": [
        "# Exploratory Data Analysis (EDA)"
      ]
    },
    {
      "cell_type": "code",
      "metadata": {
        "id": "hPeHKAurlCwP",
        "colab_type": "code",
        "outputId": "28e484e9-b5cf-46da-b6f6-fd8233d65a77",
        "colab": {
          "base_uri": "https://localhost:8080/",
          "height": 173
        }
      },
      "source": [
        "#playlist statistics grouped by pid & filename\n",
        "songs.groupby(['pidfile_name']).count()['track_uri'].describe()"
      ],
      "execution_count": 0,
      "outputs": [
        {
          "output_type": "execute_result",
          "data": {
            "text/plain": [
              "count    500000.000000\n",
              "mean         66.286522\n",
              "std          53.645746\n",
              "min           5.000000\n",
              "25%          26.000000\n",
              "50%          49.000000\n",
              "75%          91.000000\n",
              "max         250.000000\n",
              "Name: track_uri, dtype: float64"
            ]
          },
          "metadata": {
            "tags": []
          },
          "execution_count": 112
        }
      ]
    },
    {
      "cell_type": "code",
      "metadata": {
        "id": "gRR5kRhfbVzx",
        "colab_type": "code",
        "outputId": "256151db-dc6c-4c3c-bf5d-99f733ab3d35",
        "colab": {
          "base_uri": "https://localhost:8080/",
          "height": 404
        }
      },
      "source": [
        "#what is the average length of a playlist - make sure to group by FILE NAME AND PID!!\n",
        "plt.figure(figsize=(15,6))\n",
        "ax = songs.groupby(['pidfile_name']).count()['track_uri'].plot(kind = 'hist');\n",
        "ax.set_xlabel('Number of Songs in a Playlist')\n",
        "ax.set_title('Distribution of the Average Length of a Playlist in the 500K Sample');"
      ],
      "execution_count": 0,
      "outputs": [
        {
          "output_type": "display_data",
          "data": {
            "image/png": "[encoded data removed]",
            "text/plain": [
              "<Figure size 1080x432 with 1 Axes>"
            ]
          },
          "metadata": {
            "tags": []
          }
        }
      ]
    },
    {
      "cell_type": "code",
      "metadata": {
        "id": "jZX38KsUxUfL",
        "colab_type": "code",
        "colab": {}
      },
      "source": [
        "#calculate the duration in minutes\n",
        "songs['duration_min']=(songs.duration_ms/(1000*60))%60"
      ],
      "execution_count": 0,
      "outputs": []
    },
    {
      "cell_type": "code",
      "metadata": {
        "id": "O0_RmsCbxsfN",
        "colab_type": "code",
        "outputId": "e69487de-70ea-4c8f-e85a-a46bd9661e2e",
        "colab": {
          "base_uri": "https://localhost:8080/",
          "height": 173
        }
      },
      "source": [
        "#stats on song duration\n",
        "songs.duration_min.describe()"
      ],
      "execution_count": 0,
      "outputs": [
        {
          "output_type": "execute_result",
          "data": {
            "text/plain": [
              "count    3.314326e+07\n",
              "mean     3.911850e+00\n",
              "std      1.145048e+00\n",
              "min      0.000000e+00\n",
              "25%      3.308433e+00\n",
              "50%      3.751750e+00\n",
              "75%      4.322217e+00\n",
              "max      5.999998e+01\n",
              "Name: duration_min, dtype: float64"
            ]
          },
          "metadata": {
            "tags": []
          },
          "execution_count": 16
        }
      ]
    },
    {
      "cell_type": "code",
      "metadata": {
        "id": "o27BRcEKxzUM",
        "colab_type": "code",
        "outputId": "ebf106ff-80b3-44c7-a66d-8076882eb877",
        "colab": {
          "base_uri": "https://localhost:8080/",
          "height": 52
        }
      },
      "source": [
        "#lets find the index of the longest song\n",
        "longest_duration = songs.duration_min.nlargest(1)\n",
        "longest_duration\n"
      ],
      "execution_count": 0,
      "outputs": [
        {
          "output_type": "execute_result",
          "data": {
            "text/plain": [
              "35639171    59.999983\n",
              "Name: duration_min, dtype: float64"
            ]
          },
          "metadata": {
            "tags": []
          },
          "execution_count": 19
        }
      ]
    },
    {
      "cell_type": "code",
      "metadata": {
        "id": "CPgI-GQgx6PH",
        "colab_type": "code",
        "outputId": "989599df-9a1c-42da-883f-2710357ed19d",
        "colab": {
          "base_uri": "https://localhost:8080/",
          "height": 208
        }
      },
      "source": [
        "#what is the longest song based on the index\n",
        "songs.loc[35639171]"
      ],
      "execution_count": 0,
      "outputs": [
        {
          "output_type": "execute_result",
          "data": {
            "text/plain": [
              "pos                                                            28\n",
              "artist_name                               Halloween Sound Effects\n",
              "track_uri                    spotify:track:1ms3hLP7f2mLlSzCuxwv1C\n",
              "artist_uri                  spotify:artist:0xdm6Qolge99Rs4OAdz0LB\n",
              "track_name                Smash 3 - Scary Halloween Sound Effects\n",
              "album_uri                    spotify:album:4yh1SX3FF3zoXd3skJi7a5\n",
              "duration_ms                                                    -1\n",
              "album_name      Halloween Shuffle Play - 150 Scary Sounds and ...\n",
              "pidfile_name                                          591songs563\n",
              "duration_min                                                   60\n",
              "Name: 35639171, dtype: object"
            ]
          },
          "metadata": {
            "tags": []
          },
          "execution_count": 21
        }
      ]
    },
    {
      "cell_type": "code",
      "metadata": {
        "id": "QfgyUZG2yZXd",
        "colab_type": "code",
        "outputId": "550c29c8-c95e-48d2-cf18-2d89735633b6",
        "colab": {
          "base_uri": "https://localhost:8080/",
          "height": 218
        }
      },
      "source": [
        "#categorize songs' durations\n",
        "songs['duration_cat']=pd.cut(x=songs.duration_min, \n",
        "                                 bins=[-.1,0.5,1.5,2.5,3.5,4.5,5.5,6.5,7.5,8.5,9.5,10.5,\n",
        "                                       11.5,12.5,13.5,14.5,15.5,16.5,17.5,18.5,19.5,20.5,60], \n",
        "                                 labels=['0min','1min','2min','3min','4min','5min','6min','7min','8min','9min','10min',\n",
        "                                         '11min','12min','13min','14min','15min','16min','17min','18min','19min','20min','>20min'])\n",
        "songs.isnull().sum()"
      ],
      "execution_count": 0,
      "outputs": [
        {
          "output_type": "execute_result",
          "data": {
            "text/plain": [
              "pos             0\n",
              "artist_name     5\n",
              "track_uri       0\n",
              "artist_uri      5\n",
              "track_name      0\n",
              "album_uri       0\n",
              "duration_ms     0\n",
              "album_name      0\n",
              "pidfile_name    0\n",
              "duration_min    0\n",
              "duration_cat    0\n",
              "dtype: int64"
            ]
          },
          "metadata": {
            "tags": []
          },
          "execution_count": 30
        }
      ]
    },
    {
      "cell_type": "markdown",
      "metadata": {
        "id": "2oXPZpq_1CoR",
        "colab_type": "text"
      },
      "source": [
        ""
      ]
    },
    {
      "cell_type": "code",
      "metadata": {
        "id": "Vq9PotGu0jKk",
        "colab_type": "code",
        "colab": {}
      },
      "source": [
        "#Categorical labels for songs'durations\n",
        "labels_cat=['0min','1min','2min','3min','4min','5min','6min','7min','8min','9min','10min',\n",
        "        '11min','12min','13min','14min','15min','16min','17min','18min','19min','20min','>20min']\n",
        "#Calculate the number of each categories\n",
        "counts=[]\n",
        "for cat in labels_cat:\n",
        "  counts.append(songs[songs.duration_cat==cat].count().values[-1])"
      ],
      "execution_count": 0,
      "outputs": []
    },
    {
      "cell_type": "code",
      "metadata": {
        "id": "PR6KgxNz39Fq",
        "colab_type": "code",
        "outputId": "bddcb26c-37ea-4b25-ffad-04402b33601e",
        "colab": {
          "base_uri": "https://localhost:8080/",
          "height": 404
        }
      },
      "source": [
        "#Plot song duration vs. distribution\n",
        "plt.figure(figsize=(18,6))\n",
        "x=np.arange(22)\n",
        "plt.bar(x,counts)\n",
        "plt.xticks(x,labels_cat)\n",
        "plt.xlabel('Duration of a Song')\n",
        "plt.ylabel('Distribution')\n",
        "plt.title('The Distribution of Duration of a Song in the sample 500k_playlist')\n",
        "plt.show()"
      ],
      "execution_count": 0,
      "outputs": [
        {
          "output_type": "display_data",
          "data": {
            "image/png": "[encoded data removed]",
            "text/plain": [
              "<Figure size 1296x432 with 1 Axes>"
            ]
          },
          "metadata": {
            "tags": []
          }
        }
      ]
    },
    {
      "cell_type": "code",
      "metadata": {
        "id": "h3NQ2VGRDfh5",
        "colab_type": "code",
        "outputId": "104b5a97-ff69-4bc1-db13-2e1e35cbc4a3",
        "colab": {
          "base_uri": "https://localhost:8080/",
          "height": 404
        }
      },
      "source": [
        "#get the top 10 artists'names \n",
        "top10_artists=songs.artist_name.value_counts().index[:10]\n",
        "#calculate frequencies of their names in a single playlist\n",
        "freq=[]\n",
        "for artist in top10_artists:\n",
        "  freq.append(songs[songs.artist_name==artist].pidfile_name.nunique()/500000)\n",
        "#plot artists'names vs frequencies\n",
        "plt.figure(figsize=(18,6))\n",
        "x=np.arange(10)\n",
        "plt.bar(x,freq)\n",
        "plt.xticks(x,top10_artists)\n",
        "plt.xlabel('Artist Names')\n",
        "plt.ylabel('Frequencies of Their Names')\n",
        "plt.title('Frequencies of Top 10 Artists Appearance in a Single Playlist in the sample 500k_playlist')\n",
        "plt.show()"
      ],
      "execution_count": 0,
      "outputs": [
        {
          "output_type": "display_data",
          "data": {
            "image/png": "[encoded data removed]",
            "text/plain": [
              "<Figure size 1296x432 with 1 Axes>"
            ]
          },
          "metadata": {
            "tags": []
          }
        }
      ]
    },
    {
      "cell_type": "markdown",
      "metadata": {
        "id": "P1Ug44bzNoK2",
        "colab_type": "text"
      },
      "source": [
        "# Playlist x Unique Songs Sparse Matrix"
      ]
    },
    {
      "cell_type": "markdown",
      "metadata": {
        "id": "BcEa2Z46OSVU",
        "colab_type": "text"
      },
      "source": [
        "For further model building, it will be helpful to have a sparse matrix that encodes our playlists in rows and our unique songs in columns. A 1 in a particular cell of the matrix means that playlist has that song. A 0 means it doesn't. We need to carefully look at sparsity here - a matrix that is too sparse means that using matrix factorization to learn latent variables wouldn't work very well because there aren't enough playlist/song interactions. \n",
        "\n",
        "references: https://www.ethanrosenthal.com/2016/10/19/implicit-mf-part-1/, https://jessesw.com/Rec-System/"
      ]
    },
    {
      "cell_type": "code",
      "metadata": {
        "id": "6oPimOn5Svg3",
        "colab_type": "code",
        "outputId": "247311bd-01bd-448b-a2a8-bc8e020fc3ec",
        "colab": {
          "base_uri": "https://localhost:8080/",
          "height": 68
        }
      },
      "source": [
        "#make sparse binary matrix of playlist x uniq song? 0 if song not in playlist, 1 if it is\n",
        "\n",
        "n_pls = songs.pidfile_name.unique().shape[0]\n",
        "n_songs = songs.track_uri.unique().shape[0]\n",
        "\n",
        "#calculate matrix sparsity\n",
        "print(f'Num playlists: {n_pls}')\n",
        "print(f'Num unique songs: {n_songs}')\n",
        "print(f'Sparsity: {100 - float(songs.shape[0]) /float(n_pls*n_songs) * 100:0.3f}%')\n"
      ],
      "execution_count": 0,
      "outputs": [
        {
          "output_type": "stream",
          "text": [
            "Num playlists: 500000\n",
            "Num unique songs: 1607449\n",
            "Sparsity: 99.996%\n"
          ],
          "name": "stdout"
        }
      ]
    },
    {
      "cell_type": "markdown",
      "metadata": {
        "id": "48mAm0zqNY4r",
        "colab_type": "text"
      },
      "source": [
        "This is very high sparsity! It might be too low for us to make matrix factorization models work. We should try filtering out songs that appear less than N (N is our choice) times across the whole dataset and playlists with too few songs. This might serve to make our matrix more dense. We are aiming for a sparsity of 99.5% and below (https://jessesw.com/Rec-System/)\n",
        "\n",
        "*N.B. The reason for dropping 'in place' is that the RAM on the Google Collab GPU is insufficient for multiple instances of the whole 11GB dataset. To keep the RAM in check, we can't have two instances of the full or nearly full data.* "
      ]
    },
    {
      "cell_type": "code",
      "metadata": {
        "id": "EzvZob27oD4c",
        "colab_type": "code",
        "colab": {}
      },
      "source": [
        "def threshold_data(songs, min_pid_length, min_track_cts):\n",
        "  '''drops all playlists with length less than min_pid_length and all tracks featured \n",
        "  less than min_track_cts in the data. Does so iteratively until data size remains stable.\n",
        "  Inspired by code from https://www.ethanrosenthal.com/2016/10/19/implicit-mf-part-1/'''\n",
        "\n",
        "  done = False\n",
        "  while not done:\n",
        "    starting_shape = songs.shape[0] #print starting num rows\n",
        "    #filter playlists\n",
        "    pid_cts = songs['pidfile_name'].value_counts()\n",
        "    drop_idx = songs.loc[songs.pidfile_name.isin(pid_cts[pid_cts < min_pid_length].index)].index\n",
        "    songs.drop(drop_idx, inplace = True)\n",
        "    #filter songs\n",
        "    track_cts = songs['track_uri'].value_counts()\n",
        "    drop_idx = songs.loc[songs.track_uri.isin(track_cts[track_cts < min_track_cts].index)].index\n",
        "    songs.drop(drop_idx, inplace = True)\n",
        "    #print ending num rows\n",
        "    ending_shape = songs.shape[0]\n",
        "    #break out of while loop if no more rows filtered out\n",
        "    if starting_shape == ending_shape:\n",
        "      done = True\n",
        "\n",
        "  n_pls = songs.pidfile_name.unique().shape[0]\n",
        "  n_songs = songs.track_uri.unique().shape[0]\n",
        "\n",
        "  #calculate new matrix sparsity\n",
        "  print(f'Num playlists: {n_pls}')\n",
        "  print(f'Num unique songs: {n_songs}')\n",
        "  print(f'Sparsity: {100 - float(songs.shape[0]) /float(n_pls*n_songs) * 100:0.5f}%')\n"
      ],
      "execution_count": 0,
      "outputs": []
    },
    {
      "cell_type": "code",
      "metadata": {
        "id": "yihVYPIwpomp",
        "colab_type": "code",
        "outputId": "7fcab623-d98c-458f-eef4-bc704bc919b7",
        "colab": {
          "base_uri": "https://localhost:8080/",
          "height": 68
        }
      },
      "source": [
        "threshold_data(songs, 50, 50)"
      ],
      "execution_count": 0,
      "outputs": [
        {
          "output_type": "stream",
          "text": [
            "Num playlists: 188756\n",
            "Num unique songs: 48131\n",
            "Sparsity: 99.79794%\n"
          ],
          "name": "stdout"
        }
      ]
    },
    {
      "cell_type": "code",
      "metadata": {
        "id": "joZaxPeyqS25",
        "colab_type": "code",
        "colab": {}
      },
      "source": [
        "songs.to_csv('dense_playlists.csv')"
      ],
      "execution_count": 0,
      "outputs": []
    },
    {
      "cell_type": "code",
      "metadata": {
        "id": "9n5VSs8dqc2g",
        "colab_type": "code",
        "colab": {}
      },
      "source": [
        "!cp dense_playlists.csv /content/drive/My\\ Drive/CS109A\\ project/Spotify"
      ],
      "execution_count": 0,
      "outputs": []
    },
    {
      "cell_type": "markdown",
      "metadata": {
        "id": "pEgkKO3I2TA-",
        "colab_type": "text"
      },
      "source": [
        "While 99.5% sparsity was the target range recommended by the author of https://jessesw.com/Rec-System/, we expressed hesitation in filtering out too much data to get a dense matrix. We were hesitant that our model would perform well on playlists with few songs, so we decided that a sparsity of 99.8% would be acceptable for further analysis. For reference, Ethan Rosenthal (https://www.ethanrosenthal.com/2016/10/19/implicit-mf-part-1/) used a sparsity of 99.86% with some degree of success. "
      ]
    },
    {
      "cell_type": "markdown",
      "metadata": {
        "id": "4ojOQlGHDsl5",
        "colab_type": "text"
      },
      "source": [
        "# Train-Test Split"
      ]
    },
    {
      "cell_type": "markdown",
      "metadata": {
        "id": "PW6ykovTDvsO",
        "colab_type": "text"
      },
      "source": [
        "We want to be able to assess the performance of our model, but it would be erroneous to drop whole playlists from the dataset, since our collaborative filtering models will eventually need all the playlists (or as many of them as we retained) to learn the latent factors. Therefore, by recommendation of these two websites (https://www.ethanrosenthal.com/2016/10/19/implicit-mf-part-1/, https://jessesw.com/Rec-System/), we will instead use a training set where a certain number of playlist-song interactions are masked from us. \n",
        "\n",
        "To do this, we first want to make a sparse matrix that contains a 1 if the playlist has a particular song and a 0 if it doesn't. We will save the full sparse matrix as 'item_user_matrix' and that will be our test set. In this scenario, there will be playlists that have cells with 1+ if they feature the same song multiple times. We have decided to leave these playlists in for our training as these correspond to unique usage patterns. \n",
        "\n",
        "To make our train set, we will take the full sparse matrix and mask 10 random cells containg a '1' (or more) for each playlist. For those playlists with less than 50 unique songs, we will not take any songs for the test set if the number of unique songs is less than 20 (max test split is 50%). \n",
        "\n",
        "These masked ratings will then be moved to the test set (validation set) sparse matrix. "
      ]
    },
    {
      "cell_type": "code",
      "metadata": {
        "id": "CCxE1n7YGnt0",
        "colab_type": "code",
        "outputId": "68c42333-5e57-44c2-983f-93a398fe3f53",
        "colab": {
          "base_uri": "https://localhost:8080/",
          "height": 51
        }
      },
      "source": [
        "#songs = pd.read_csv('/content/drive/My Drive/CS109A project/Spotify/dense_playlists.csv', index_col=0)\n",
        "print(f'min playlist length: {songs.pidfile_name.value_counts().min()}')\n",
        "print(f'min track counts: {songs.track_uri.value_counts().min()}')\n",
        "songs.reset_index(drop=True, inplace=True)"
      ],
      "execution_count": 0,
      "outputs": [
        {
          "output_type": "stream",
          "text": [
            "min playlist length: 50\n",
            "min track counts: 50\n"
          ],
          "name": "stdout"
        }
      ]
    },
    {
      "cell_type": "code",
      "metadata": {
        "id": "h8JzYyI6L0_R",
        "colab_type": "code",
        "colab": {}
      },
      "source": [
        "#make sparse matrix\n",
        "cols = songs.pidfile_name.astype('category').cat.codes # make category codes/indices for each playlist\n",
        "rows = songs.track_uri.astype('category').cat.codes # make category codes/indices for each song\n",
        "likes = np.ones(songs.shape[0]) #1s if song is in playlist"
      ],
      "execution_count": 0,
      "outputs": []
    },
    {
      "cell_type": "code",
      "metadata": {
        "id": "g4NQE8wh_AkM",
        "colab_type": "code",
        "outputId": "93f90908-2213-4a98-e66e-08ee72cc9eb7",
        "colab": {
          "base_uri": "https://localhost:8080/",
          "height": 68
        }
      },
      "source": [
        "likes = sparse.csr_matrix((likes, (rows, cols)), dtype=np.float64) #make sparse matrix\n",
        "print(songs.groupby(by=['pidfile_name', 'track_uri']).count()['track_name'].shape)\n",
        "likes"
      ],
      "execution_count": 0,
      "outputs": [
        {
          "output_type": "stream",
          "text": [
            "(18078662,)\n"
          ],
          "name": "stdout"
        },
        {
          "output_type": "execute_result",
          "data": {
            "text/plain": [
              "<48131x188756 sparse matrix of type '<class 'numpy.float64'>'\n",
              "\twith 18078662 stored elements in Compressed Sparse Row format>"
            ]
          },
          "metadata": {
            "tags": []
          },
          "execution_count": 19
        }
      ]
    },
    {
      "cell_type": "markdown",
      "metadata": {
        "id": "sfpxEvbiCNbW",
        "colab_type": "text"
      },
      "source": [
        "For later model fitting with the implicit library, we saved the dataset as a sparse row matrix with the items (tracks) as rows and users (playlists) as columns. We can see that we have ~18 million unique interactions between playlist and song. "
      ]
    },
    {
      "cell_type": "code",
      "metadata": {
        "id": "1dvsJUuPBVXI",
        "colab_type": "code",
        "colab": {}
      },
      "source": [
        "sparse.save_npz('item_user_matrix.npz', likes)"
      ],
      "execution_count": 0,
      "outputs": []
    },
    {
      "cell_type": "code",
      "metadata": {
        "id": "pljn-WFDB-l_",
        "colab_type": "code",
        "colab": {}
      },
      "source": [
        "!cp item_user_matrix.npz /content/drive/My\\ Drive/CS109A\\ project/Spotify"
      ],
      "execution_count": 0,
      "outputs": []
    },
    {
      "cell_type": "code",
      "metadata": {
        "id": "C0m3pGI9Fn0n",
        "colab_type": "code",
        "outputId": "37ad9eca-05ac-499a-acef-3ae572413735",
        "colab": {
          "base_uri": "https://localhost:8080/",
          "height": 51
        }
      },
      "source": [
        "#check that the min number of interactions for both songs and playlists is 50\n",
        "print(f'min num songs in playlist: {likes.sum(axis=1).min()}')\n",
        "print(f'min num playlists song is featured in: {likes.sum(axis=0).min()}')"
      ],
      "execution_count": 0,
      "outputs": [
        {
          "output_type": "stream",
          "text": [
            "min num songs in playlist: 50.0\n",
            "min num playlists song is featured in: 50.0\n"
          ],
          "name": "stdout"
        }
      ]
    },
    {
      "cell_type": "code",
      "metadata": {
        "id": "jbf2qkPpfxSn",
        "colab_type": "code",
        "colab": {}
      },
      "source": [
        "#reload data if needed\n",
        "likes = sparse.load_npz('/content/drive/My Drive/Spotify/item_user_matrix.npz')"
      ],
      "execution_count": 0,
      "outputs": []
    },
    {
      "cell_type": "code",
      "metadata": {
        "id": "HopVOtQNIr32",
        "colab_type": "code",
        "colab": {}
      },
      "source": [
        "#for faster column indexing, change csr to csc\n",
        "likes = likes.tocsc()"
      ],
      "execution_count": 0,
      "outputs": []
    },
    {
      "cell_type": "code",
      "metadata": {
        "id": "6f5tKbRlFE0x",
        "colab_type": "code",
        "colab": {}
      },
      "source": [
        "def train_test_split(likes, num_to_mask, rd_seed=random.seed(0)):\n",
        "  '''\n",
        "  Make training set with masked interactions\n",
        "\n",
        "  likes: the full sparse matrix of playlist-song interactions\n",
        "  num_to_mask: how many interactions we will mask for our training set\n",
        "  rd_seed: random.seed to use, default 0\n",
        "\n",
        "  Inspired by: https://www.ethanrosenthal.com/2016/10/19/implicit-mf-part-1/\n",
        "  '''\n",
        "  #make the train and test matrices\n",
        "  #use lil matrix for efficiency\n",
        "  train = likes.copy().tolil() #copy all the data to train for later masking\n",
        "  test = likes.copy().tolil()\n",
        "  #test = sparse.lil_matrix(likes.shape, dtype=np.float64) #initialize an empty matrix\n",
        "\n",
        "  for pl in np.arange(0, likes.shape[1]): #for each playlist\n",
        "    if len(likes.getcol(pl).indices) >= 20: #playlist must have 20+ unique songs\n",
        "      #mask a random subset of 10 'likes' (1s)\n",
        "      masked_likes = np.random.choice(likes.getcol(pl).indices, \n",
        "                                        size=num_to_mask, \n",
        "                                        replace=False)\n",
        "      train[masked_likes, pl] = 0.\n",
        "\n",
        "      #mask everything but these likes in the test set\n",
        "      #scipy has shape assignment mismatch when trying to assign column values\n",
        "      #from likes matrix to test matrix, even though shapes are equivalent\n",
        "      cells_to_mask = likes.getcol(pl).indices[~np.isin(likes.getcol(pl).indices, masked_likes)]\n",
        "      test[cells_to_mask, pl] = 0.\n",
        "\n",
        "    else: #mask everything from the test set if playlist is under 20 unique songs\n",
        "      cells_to_mask = likes.getcol(pl).indices\n",
        "      test[cells_to_mask, pl] = 0.\n",
        "\n",
        "  return train.tocsc(), test.tocsc()"
      ],
      "execution_count": 0,
      "outputs": []
    },
    {
      "cell_type": "code",
      "metadata": {
        "id": "XHidyvTmLx6e",
        "colab_type": "code",
        "colab": {}
      },
      "source": [
        "train_set, val_set = train_test_split(likes, 10)"
      ],
      "execution_count": 0,
      "outputs": []
    },
    {
      "cell_type": "code",
      "metadata": {
        "id": "_qkWz5UohPkl",
        "colab_type": "code",
        "outputId": "ead2c452-baee-4a5a-b003-e760121a180b",
        "colab": {
          "base_uri": "https://localhost:8080/",
          "height": 85
        }
      },
      "source": [
        "train_set, val_set"
      ],
      "execution_count": 0,
      "outputs": [
        {
          "output_type": "execute_result",
          "data": {
            "text/plain": [
              "(<48131x188756 sparse matrix of type '<class 'numpy.float64'>'\n",
              " \twith 16191252 stored elements in Compressed Sparse Column format>,\n",
              " <48131x188756 sparse matrix of type '<class 'numpy.float64'>'\n",
              " \twith 1887410 stored elements in Compressed Sparse Column format>)"
            ]
          },
          "metadata": {
            "tags": []
          },
          "execution_count": 11
        }
      ]
    },
    {
      "cell_type": "code",
      "metadata": {
        "id": "XZ0UOWNGjT2x",
        "colab_type": "code",
        "outputId": "4be8f2f4-3a94-4842-ad38-20643099c52b",
        "colab": {
          "base_uri": "https://localhost:8080/",
          "height": 51
        }
      },
      "source": [
        "likes"
      ],
      "execution_count": 0,
      "outputs": [
        {
          "output_type": "execute_result",
          "data": {
            "text/plain": [
              "<48131x188756 sparse matrix of type '<class 'numpy.float64'>'\n",
              "\twith 18078662 stored elements in Compressed Sparse Column format>"
            ]
          },
          "metadata": {
            "tags": []
          },
          "execution_count": 12
        }
      ]
    },
    {
      "cell_type": "code",
      "metadata": {
        "id": "DOXB_qlThgNB",
        "colab_type": "code",
        "colab": {}
      },
      "source": [
        "sparse.save_npz('train_set.npz', train_set)\n",
        "sparse.save_npz('test_set.npz', val_set)"
      ],
      "execution_count": 0,
      "outputs": []
    },
    {
      "cell_type": "code",
      "metadata": {
        "id": "UGihJ48RjhIY",
        "colab_type": "code",
        "colab": {}
      },
      "source": [
        "!cp train_set.npz /content/drive/My\\ Drive/CS109A\\ project/Spotify"
      ],
      "execution_count": 0,
      "outputs": []
    },
    {
      "cell_type": "code",
      "metadata": {
        "id": "5Ab0vID8jjt5",
        "colab_type": "code",
        "colab": {}
      },
      "source": [
        "!cp test_set.npz /content/drive/My\\ Drive/CS109A\\ project/Spotify"
      ],
      "execution_count": 0,
      "outputs": []
    },
    {
      "cell_type": "markdown",
      "metadata": {
        "id": "rwdaeIPHCIsN",
        "colab_type": "text"
      },
      "source": [
        "# Popularity-based Model"
      ]
    },
    {
      "cell_type": "markdown",
      "metadata": {
        "id": "W492gam3dW6o",
        "colab_type": "text"
      },
      "source": [
        "I am using the two websites here to figure out how to make a recommender from a sparse matrix:\n",
        "https://www.ethanrosenthal.com/2016/10/19/implicit-mf-part-1/\n",
        "https://jessesw.com/Rec-System/\n"
      ]
    },
    {
      "cell_type": "markdown",
      "metadata": {
        "id": "8wVepTqWCTZc",
        "colab_type": "text"
      },
      "source": [
        "A very simple song recommender would recommend the top K (K is up to us) most popular songs in the MPD regardless of the playlist we want song recommendations for. Since we are dealing with implicit ratings (basically, the presence and absence of a song in a playlist), song popularity can be measured by how many times it is featured. Even though there is a risk of duplicate songs within a playlist, these playlists are 1% of our total data, and therefore we will not worry about this caveat now.  "
      ]
    },
    {
      "cell_type": "code",
      "metadata": {
        "id": "jufNGBbGg5jo",
        "colab_type": "code",
        "colab": {}
      },
      "source": [
        "#load train and validation sets\n",
        "train_set = sparse.load_npz('/content/drive/My Drive/Spotify/train_set.npz')\n",
        "val_set = sparse.load_npz('/content/drive/My Drive/Spotify/test_set.npz')"
      ],
      "execution_count": 0,
      "outputs": []
    },
    {
      "cell_type": "code",
      "metadata": {
        "id": "XMqMzmoOoc32",
        "colab_type": "code",
        "outputId": "ddb442ed-ba19-4bbd-cf61-970a26412e2c",
        "colab": {
          "base_uri": "https://localhost:8080/",
          "height": 204
        }
      },
      "source": [
        "#what are the most popular songs in the training set?\n",
        "#let's get the indices for these songs\n",
        "songs_cts = np.ravel(train_set.sum(axis=1))\n",
        "songs_idx = np.arange(0, len(songs_cts))\n",
        "popular_songs = pd.DataFrame({'idx': songs_idx, 'cts': songs_cts}).sort_values(by=['cts'], ascending=False)\n",
        "popular_songs.head()"
      ],
      "execution_count": 0,
      "outputs": [
        {
          "output_type": "execute_result",
          "data": {
            "text/html": [
              "<div>\n",
              "<style scoped>\n",
              "    .dataframe tbody tr th:only-of-type {\n",
              "        vertical-align: middle;\n",
              "    }\n",
              "\n",
              "    .dataframe tbody tr th {\n",
              "        vertical-align: top;\n",
              "    }\n",
              "\n",
              "    .dataframe thead th {\n",
              "        text-align: right;\n",
              "    }\n",
              "</style>\n",
              "<table border=\"1\" class=\"dataframe\">\n",
              "  <thead>\n",
              "    <tr style=\"text-align: right;\">\n",
              "      <th></th>\n",
              "      <th>idx</th>\n",
              "      <th>cts</th>\n",
              "    </tr>\n",
              "  </thead>\n",
              "  <tbody>\n",
              "    <tr>\n",
              "      <th>45284</th>\n",
              "      <td>45284</td>\n",
              "      <td>14985.0</td>\n",
              "    </tr>\n",
              "    <tr>\n",
              "      <th>12075</th>\n",
              "      <td>12075</td>\n",
              "      <td>14120.0</td>\n",
              "    </tr>\n",
              "    <tr>\n",
              "      <th>48016</th>\n",
              "      <td>48016</td>\n",
              "      <td>13404.0</td>\n",
              "    </tr>\n",
              "    <tr>\n",
              "      <th>44411</th>\n",
              "      <td>44411</td>\n",
              "      <td>13042.0</td>\n",
              "    </tr>\n",
              "    <tr>\n",
              "      <th>22005</th>\n",
              "      <td>22005</td>\n",
              "      <td>13002.0</td>\n",
              "    </tr>\n",
              "  </tbody>\n",
              "</table>\n",
              "</div>"
            ],
            "text/plain": [
              "         idx      cts\n",
              "45284  45284  14985.0\n",
              "12075  12075  14120.0\n",
              "48016  48016  13404.0\n",
              "44411  44411  13042.0\n",
              "22005  22005  13002.0"
            ]
          },
          "metadata": {
            "tags": []
          },
          "execution_count": 30
        }
      ]
    },
    {
      "cell_type": "markdown",
      "metadata": {
        "id": "kEEIuPj9s8Bd",
        "colab_type": "text"
      },
      "source": [
        "A way to measure performance of a recommendation model is to use precision@K (https://medium.com/@m_n_malaeb/recall-and-precision-at-k-for-recommender-systems-618483226c54). Precision@K evaluates the proportion of K recommended items that are relevant to the user. In our case, this means what proportion of K recommended songs are 1+ in the train/test matrix. We will choose K of 10 to evaluate both the train and test matrices. "
      ]
    },
    {
      "cell_type": "code",
      "metadata": {
        "id": "TDFDho8_rfpY",
        "colab_type": "code",
        "colab": {}
      },
      "source": [
        "def precision_at_k(recs, mat, k, pl_index):\n",
        "  '''\n",
        "  recs: array of recommended items, sorted in descending order\n",
        "  \n",
        "  model: matrix factorization model that has been fit on training set (default=None)\n",
        "  \n",
        "  mat: song-playlist matrix (train or test)\n",
        "  \n",
        "  k: what k to calculate precision@k for\n",
        "  \n",
        "  pl_index: index of playlists to calculate precision@k for\n",
        "\n",
        "  returns: mean precision@k across all playlists\n",
        "\n",
        "  Inspired by: https://www.ethanrosenthal.com/2016/10/19/implicit-mf-part-1/\n",
        "  '''\n",
        "  if len(recs.shape)==1: #if there is only one list of recs for all playlists\n",
        "    top_k_recs = recs[:k] #same recs for all playlists\n",
        "    precision = []\n",
        "    for pl in pl_index:\n",
        "        relevant_songs = mat.getcol(pl).indices\n",
        "        precision.append(float(len(np.intersect1d(top_k_recs, relevant_songs)))/float(k))\n",
        "  elif len(recs.shape)==2: #if the recs is an array of playlists by recced songs\n",
        "    precision = []\n",
        "    for pl in pl_index:\n",
        "      top_k_recs = recs[pl, :k] #take recs for a particular playlist\n",
        "      relevant_songs = mat.getcol(pl).indices\n",
        "      precision.append(float(len(np.intersect1d(top_k_recs, relevant_songs)))/float(k))\n",
        "  else:\n",
        "    print('Recs must be either a 1D or 2D array')\n",
        "\n",
        "  return np.mean(precision)"
      ],
      "execution_count": 0,
      "outputs": []
    },
    {
      "cell_type": "code",
      "metadata": {
        "id": "9JYG82SYzO6o",
        "colab_type": "code",
        "colab": {}
      },
      "source": [
        "#make pl_index - filter out playlists that did not get any values in the test set\n",
        "def make_pl_index(train_set):\n",
        "  '''\n",
        "  returns array of indices of playlists that have interactions in the test set\n",
        "  '''\n",
        "  pl_index = []\n",
        "  for pl in np.arange(0, train_set.shape[1]): #for each playlist\n",
        "    if len(train_set.getcol(pl).indices) >= 10: #playlist in train_set must have 10+ songs remaining\n",
        "      pl_index.append(pl)\n",
        "\n",
        "  return np.array(pl_index)"
      ],
      "execution_count": 0,
      "outputs": []
    },
    {
      "cell_type": "code",
      "metadata": {
        "id": "rZk-uiwAyTBe",
        "colab_type": "code",
        "colab": {}
      },
      "source": [
        "#make array of popular songs indices\n",
        "recs = np.array(popular_songs['idx'])"
      ],
      "execution_count": 0,
      "outputs": []
    },
    {
      "cell_type": "code",
      "metadata": {
        "id": "WFnpll-R0oA7",
        "colab_type": "code",
        "outputId": "bb7be566-3cd5-467a-bd15-0a947e7568eb",
        "colab": {
          "base_uri": "https://localhost:8080/",
          "height": 34
        }
      },
      "source": [
        "#make pl_index to iterate over\n",
        "pl_index = make_pl_index(train_set)\n",
        "pl_index.shape"
      ],
      "execution_count": 0,
      "outputs": [
        {
          "output_type": "execute_result",
          "data": {
            "text/plain": [
              "(188748,)"
            ]
          },
          "metadata": {
            "tags": []
          },
          "execution_count": 44
        }
      ]
    },
    {
      "cell_type": "code",
      "metadata": {
        "id": "aXFqEyHFyJES",
        "colab_type": "code",
        "outputId": "377c6acb-39bb-4472-e769-bc4a184b4384",
        "colab": {
          "base_uri": "https://localhost:8080/",
          "height": 34
        }
      },
      "source": [
        "mean_precision = precision_at_k(recs, train_set, 10, pl_index)\n",
        "print(f'Average precision@(k=10) for the training set: {mean_precision:0.4f}')"
      ],
      "execution_count": 0,
      "outputs": [
        {
          "output_type": "stream",
          "text": [
            "Average precision@(k=10) for the training set: 0.0650\n"
          ],
          "name": "stdout"
        }
      ]
    },
    {
      "cell_type": "code",
      "metadata": {
        "id": "djNRqdde1zuV",
        "colab_type": "code",
        "outputId": "b3f176f6-ff5a-4639-af69-115501a59c2f",
        "colab": {
          "base_uri": "https://localhost:8080/",
          "height": 34
        }
      },
      "source": [
        "mean_precision = precision_at_k(recs, val_set, 10, pl_index)\n",
        "print(f'Average precision@(k=10) for the test set: {mean_precision:0.4f}')"
      ],
      "execution_count": 0,
      "outputs": [
        {
          "output_type": "stream",
          "text": [
            "Average precision@(k=10) for the test set: 0.0075\n"
          ],
          "name": "stdout"
        }
      ]
    },
    {
      "cell_type": "markdown",
      "metadata": {
        "id": "9dtWQV-C2Mq0",
        "colab_type": "text"
      },
      "source": [
        "Given the top 10 popular songs as our blanket recommendation for all playlists, our precision on the training set is 6.5% and on the test set 0.75%. Not great, but hopefully collaborative filtering will improve this!"
      ]
    },
    {
      "cell_type": "markdown",
      "metadata": {
        "id": "fLgpwvmDCCFX",
        "colab_type": "text"
      },
      "source": [
        "# Collaborative Filtering Model"
      ]
    },
    {
      "cell_type": "markdown",
      "metadata": {
        "id": "0Q2RB0sl2nYO",
        "colab_type": "text"
      },
      "source": [
        "Our goal with collaborative filtering is to use a matrix factorization algorithm to learn the latent features of the playlist-song matrix to be able to give more playlist-specific recommendations.\n",
        "\n",
        "We will try to implement the Alternating Least Squares Recommender model in the implicit python library. This is a model that does Weighted Regularized Matrix Factorization using Alternating Least Squares to find the proper factorization of a sparse matrix. \n",
        "\n",
        "We will try to optimize the following to get the best precision@k:\n",
        "\n",
        "1. Number of latent features\n",
        "2. Confidence in the values of the playlist-song matrix - a scaling term that is multiplied by all non-zero values of the matrix\n",
        "3. Iterations used in optimization\n",
        "4. Regularization of the latent features\n",
        "\n",
        "We are using the following sources for reference:\n",
        "\n",
        "Implicit Rec System Tutorial: https://www.ethanrosenthal.com/2016/10/19/implicit-mf-part-1/\n",
        "\n",
        "Implicit Library Docs: https://implicit.readthedocs.io/en/latest/quickstart.html"
      ]
    },
    {
      "cell_type": "code",
      "metadata": {
        "id": "2M6hK_qE4Qt0",
        "colab_type": "code",
        "colab": {
          "base_uri": "https://localhost:8080/",
          "height": 258
        },
        "outputId": "55286c92-4d22-4c2b-d3fa-9867f3ef72f1"
      },
      "source": [
        "#install library\n",
        "!pip install implicit"
      ],
      "execution_count": 5,
      "outputs": [
        {
          "output_type": "stream",
          "text": [
            "Collecting implicit\n",
            "\u001b[?25l  Downloading https://files.pythonhosted.org/packages/5a/d8/6b4f1374ffa2647b72ac76960c71b984c6f3238090359fb419d03827d87a/implicit-0.4.2.tar.gz (1.1MB)\n",
            "\r\u001b[K     |▎                               | 10kB 25.2MB/s eta 0:00:01\r\u001b[K     |▋                               | 20kB 3.0MB/s eta 0:00:01\r\u001b[K     |▉                               | 30kB 4.4MB/s eta 0:00:01\r\u001b[K     |█▏                              | 40kB 2.9MB/s eta 0:00:01\r\u001b[K     |█▌                              | 51kB 3.6MB/s eta 0:00:01\r\u001b[K     |█▊                              | 61kB 4.3MB/s eta 0:00:01\r\u001b[K     |██                              | 71kB 4.9MB/s eta 0:00:01\r\u001b[K     |██▍                             | 81kB 5.5MB/s eta 0:00:01\r\u001b[K     |██▋                             | 92kB 6.1MB/s eta 0:00:01\r\u001b[K     |███                             | 102kB 4.8MB/s eta 0:00:01\r\u001b[K     |███▎                            | 112kB 4.8MB/s eta 0:00:01\r\u001b[K     |███▌                            | 122kB 4.8MB/s eta 0:00:01\r\u001b[K     |███▉                            | 133kB 4.8MB/s eta 0:00:01\r\u001b[K     |████▏                           | 143kB 4.8MB/s eta 0:00:01\r\u001b[K     |████▍                           | 153kB 4.8MB/s eta 0:00:01\r\u001b[K     |████▊                           | 163kB 4.8MB/s eta 0:00:01\r\u001b[K     |█████                           | 174kB 4.8MB/s eta 0:00:01\r\u001b[K     |█████▎                          | 184kB 4.8MB/s eta 0:00:01\r\u001b[K     |█████▋                          | 194kB 4.8MB/s eta 0:00:01\r\u001b[K     |█████▉                          | 204kB 4.8MB/s eta 0:00:01\r\u001b[K     |██████▏                         | 215kB 4.8MB/s eta 0:00:01\r\u001b[K     |██████▌                         | 225kB 4.8MB/s eta 0:00:01\r\u001b[K     |██████▊                         | 235kB 4.8MB/s eta 0:00:01\r\u001b[K     |███████                         | 245kB 4.8MB/s eta 0:00:01\r\u001b[K     |███████▍                        | 256kB 4.8MB/s eta 0:00:01\r\u001b[K     |███████▋                        | 266kB 4.8MB/s eta 0:00:01\r\u001b[K     |████████                        | 276kB 4.8MB/s eta 0:00:01\r\u001b[K     |████████▎                       | 286kB 4.8MB/s eta 0:00:01\r\u001b[K     |████████▌                       | 296kB 4.8MB/s eta 0:00:01\r\u001b[K     |████████▉                       | 307kB 4.8MB/s eta 0:00:01\r\u001b[K     |█████████                       | 317kB 4.8MB/s eta 0:00:01\r\u001b[K     |█████████▍                      | 327kB 4.8MB/s eta 0:00:01\r\u001b[K     |█████████▊                      | 337kB 4.8MB/s eta 0:00:01\r\u001b[K     |██████████                      | 348kB 4.8MB/s eta 0:00:01\r\u001b[K     |██████████▎                     | 358kB 4.8MB/s eta 0:00:01\r\u001b[K     |██████████▋                     | 368kB 4.8MB/s eta 0:00:01\r\u001b[K     |██████████▉                     | 378kB 4.8MB/s eta 0:00:01\r\u001b[K     |███████████▏                    | 389kB 4.8MB/s eta 0:00:01\r\u001b[K     |███████████▌                    | 399kB 4.8MB/s eta 0:00:01\r\u001b[K     |███████████▊                    | 409kB 4.8MB/s eta 0:00:01\r\u001b[K     |████████████                    | 419kB 4.8MB/s eta 0:00:01\r\u001b[K     |████████████▍                   | 430kB 4.8MB/s eta 0:00:01\r\u001b[K     |████████████▋                   | 440kB 4.8MB/s eta 0:00:01\r\u001b[K     |█████████████                   | 450kB 4.8MB/s eta 0:00:01\r\u001b[K     |█████████████▏                  | 460kB 4.8MB/s eta 0:00:01\r\u001b[K     |█████████████▌                  | 471kB 4.8MB/s eta 0:00:01\r\u001b[K     |█████████████▉                  | 481kB 4.8MB/s eta 0:00:01\r\u001b[K     |██████████████                  | 491kB 4.8MB/s eta 0:00:01\r\u001b[K     |██████████████▍                 | 501kB 4.8MB/s eta 0:00:01\r\u001b[K     |██████████████▊                 | 512kB 4.8MB/s eta 0:00:01\r\u001b[K     |███████████████                 | 522kB 4.8MB/s eta 0:00:01\r\u001b[K     |███████████████▎                | 532kB 4.8MB/s eta 0:00:01\r\u001b[K     |███████████████▋                | 542kB 4.8MB/s eta 0:00:01\r\u001b[K     |███████████████▉                | 552kB 4.8MB/s eta 0:00:01\r\u001b[K     |████████████████▏               | 563kB 4.8MB/s eta 0:00:01\r\u001b[K     |████████████████▌               | 573kB 4.8MB/s eta 0:00:01\r\u001b[K     |████████████████▊               | 583kB 4.8MB/s eta 0:00:01\r\u001b[K     |█████████████████               | 593kB 4.8MB/s eta 0:00:01\r\u001b[K     |█████████████████▍              | 604kB 4.8MB/s eta 0:00:01\r\u001b[K     |█████████████████▋              | 614kB 4.8MB/s eta 0:00:01\r\u001b[K     |██████████████████              | 624kB 4.8MB/s eta 0:00:01\r\u001b[K     |██████████████████▏             | 634kB 4.8MB/s eta 0:00:01\r\u001b[K     |██████████████████▌             | 645kB 4.8MB/s eta 0:00:01\r\u001b[K     |██████████████████▉             | 655kB 4.8MB/s eta 0:00:01\r\u001b[K     |███████████████████             | 665kB 4.8MB/s eta 0:00:01\r\u001b[K     |███████████████████▍            | 675kB 4.8MB/s eta 0:00:01\r\u001b[K     |███████████████████▊            | 686kB 4.8MB/s eta 0:00:01\r\u001b[K     |████████████████████            | 696kB 4.8MB/s eta 0:00:01\r\u001b[K     |████████████████████▎           | 706kB 4.8MB/s eta 0:00:01\r\u001b[K     |████████████████████▋           | 716kB 4.8MB/s eta 0:00:01\r\u001b[K     |████████████████████▉           | 727kB 4.8MB/s eta 0:00:01\r\u001b[K     |█████████████████████▏          | 737kB 4.8MB/s eta 0:00:01\r\u001b[K     |█████████████████████▌          | 747kB 4.8MB/s eta 0:00:01\r\u001b[K     |█████████████████████▊          | 757kB 4.8MB/s eta 0:00:01\r\u001b[K     |██████████████████████          | 768kB 4.8MB/s eta 0:00:01\r\u001b[K     |██████████████████████▎         | 778kB 4.8MB/s eta 0:00:01\r\u001b[K     |██████████████████████▋         | 788kB 4.8MB/s eta 0:00:01\r\u001b[K     |███████████████████████         | 798kB 4.8MB/s eta 0:00:01\r\u001b[K     |███████████████████████▏        | 808kB 4.8MB/s eta 0:00:01\r\u001b[K     |███████████████████████▌        | 819kB 4.8MB/s eta 0:00:01\r\u001b[K     |███████████████████████▉        | 829kB 4.8MB/s eta 0:00:01\r\u001b[K     |████████████████████████        | 839kB 4.8MB/s eta 0:00:01\r\u001b[K     |████████████████████████▍       | 849kB 4.8MB/s eta 0:00:01\r\u001b[K     |████████████████████████▊       | 860kB 4.8MB/s eta 0:00:01\r\u001b[K     |█████████████████████████       | 870kB 4.8MB/s eta 0:00:01\r\u001b[K     |█████████████████████████▎      | 880kB 4.8MB/s eta 0:00:01\r\u001b[K     |█████████████████████████▋      | 890kB 4.8MB/s eta 0:00:01\r\u001b[K     |█████████████████████████▉      | 901kB 4.8MB/s eta 0:00:01\r\u001b[K     |██████████████████████████▏     | 911kB 4.8MB/s eta 0:00:01\r\u001b[K     |██████████████████████████▍     | 921kB 4.8MB/s eta 0:00:01\r\u001b[K     |██████████████████████████▊     | 931kB 4.8MB/s eta 0:00:01\r\u001b[K     |███████████████████████████     | 942kB 4.8MB/s eta 0:00:01\r\u001b[K     |███████████████████████████▎    | 952kB 4.8MB/s eta 0:00:01\r\u001b[K     |███████████████████████████▋    | 962kB 4.8MB/s eta 0:00:01\r\u001b[K     |████████████████████████████    | 972kB 4.8MB/s eta 0:00:01\r\u001b[K     |████████████████████████████▏   | 983kB 4.8MB/s eta 0:00:01\r\u001b[K     |████████████████████████████▌   | 993kB 4.8MB/s eta 0:00:01\r\u001b[K     |████████████████████████████▉   | 1.0MB 4.8MB/s eta 0:00:01\r\u001b[K     |█████████████████████████████   | 1.0MB 4.8MB/s eta 0:00:01\r\u001b[K     |█████████████████████████████▍  | 1.0MB 4.8MB/s eta 0:00:01\r\u001b[K     |█████████████████████████████▊  | 1.0MB 4.8MB/s eta 0:00:01\r\u001b[K     |██████████████████████████████  | 1.0MB 4.8MB/s eta 0:00:01\r\u001b[K     |██████████████████████████████▎ | 1.1MB 4.8MB/s eta 0:00:01\r\u001b[K     |██████████████████████████████▌ | 1.1MB 4.8MB/s eta 0:00:01\r\u001b[K     |██████████████████████████████▉ | 1.1MB 4.8MB/s eta 0:00:01\r\u001b[K     |███████████████████████████████▏| 1.1MB 4.8MB/s eta 0:00:01\r\u001b[K     |███████████████████████████████▍| 1.1MB 4.8MB/s eta 0:00:01\r\u001b[K     |███████████████████████████████▊| 1.1MB 4.8MB/s eta 0:00:01\r\u001b[K     |████████████████████████████████| 1.1MB 4.8MB/s \n",
            "\u001b[?25hRequirement already satisfied: numpy in /usr/local/lib/python3.6/dist-packages (from implicit) (1.17.4)\n",
            "Requirement already satisfied: scipy>=0.16 in /usr/local/lib/python3.6/dist-packages (from implicit) (1.3.2)\n",
            "Requirement already satisfied: tqdm>=4.27 in /usr/local/lib/python3.6/dist-packages (from implicit) (4.28.1)\n",
            "Building wheels for collected packages: implicit\n",
            "  Building wheel for implicit (setup.py) ... \u001b[?25l\u001b[?25hdone\n",
            "  Created wheel for implicit: filename=implicit-0.4.2-cp36-cp36m-linux_x86_64.whl size=3471607 sha256=13f5aeffeb7271375c4149875bd8800cd8d859310046e22ca2386377d9b177c8\n",
            "  Stored in directory: /root/.cache/pip/wheels/1b/48/b1/1aebe3acc3afb5589e72d3e7c3ffc3f637dc4721c1a974dff7\n",
            "Successfully built implicit\n",
            "Installing collected packages: implicit\n",
            "Successfully installed implicit-0.4.2\n"
          ],
          "name": "stdout"
        }
      ]
    },
    {
      "cell_type": "code",
      "metadata": {
        "id": "ySE-WKyQ6_Hn",
        "colab_type": "code",
        "colab": {}
      },
      "source": [
        "import implicit"
      ],
      "execution_count": 0,
      "outputs": []
    },
    {
      "cell_type": "code",
      "metadata": {
        "id": "ax1c_6pZGMrE",
        "colab_type": "code",
        "colab": {}
      },
      "source": [
        "#load validation and train sets\n",
        "train_set = sparse.load_npz('/content/drive/My Drive/Spotify/train_set.npz')\n",
        "val_set = sparse.load_npz('/content/drive/My Drive/Spotify/test_set.npz')"
      ],
      "execution_count": 0,
      "outputs": []
    },
    {
      "cell_type": "code",
      "metadata": {
        "id": "cHzZ6Ks7hK0e",
        "colab_type": "code",
        "colab": {
          "base_uri": "https://localhost:8080/",
          "height": 34
        },
        "outputId": "1985f9f3-83b6-4a7a-f6d0-196b11f4fd68"
      },
      "source": [
        "#need to multiply train set by alpha factor for confidence matrix to put in model\n",
        "alpha = 10\n",
        "conf_train_set = (train_set*alpha).tocsr()\n",
        "conf_train_set.dtype"
      ],
      "execution_count": 10,
      "outputs": [
        {
          "output_type": "execute_result",
          "data": {
            "text/plain": [
              "dtype('float64')"
            ]
          },
          "metadata": {
            "tags": []
          },
          "execution_count": 10
        }
      ]
    },
    {
      "cell_type": "code",
      "metadata": {
        "id": "R3zdCwgThLAw",
        "colab_type": "code",
        "colab": {}
      },
      "source": [
        "#initialize model\n",
        "!export OPENBLAS_NUM_THREADS=1\n",
        "mf_model = implicit.als.AlternatingLeastSquares(factors=32, iterations=50)"
      ],
      "execution_count": 0,
      "outputs": []
    },
    {
      "cell_type": "code",
      "metadata": {
        "id": "VC1dC5zkj8LW",
        "colab_type": "code",
        "colab": {
          "base_uri": "https://localhost:8080/",
          "height": 66,
          "referenced_widgets": [
            "8bd3b5aef28e4d9595174109aa7512d7",
            "2e9f9f9aa22f4ddda2be429c5ebfb05d",
            "7737026e6ca645f3b031819979635211",
            "04daeea863044f24a68176254bfbd6ee",
            "50391e929c79431ea3719b2952fd9699",
            "d036cedde9e5456a8d4859025616015b",
            "a2b0d8bdf2384498a87aaf3e3c860079",
            "e1c3e7fb138b4a04b7d9f2736e23c6ba"
          ]
        },
        "outputId": "303f742a-3914-4892-d9cd-fdb7d6687858"
      },
      "source": [
        "#fit model (fast)\n",
        "mf_model.fit(conf_train_set)"
      ],
      "execution_count": 63,
      "outputs": [
        {
          "output_type": "display_data",
          "data": {
            "application/vnd.jupyter.widget-view+json": {
              "model_id": "8bd3b5aef28e4d9595174109aa7512d7",
              "version_minor": 0,
              "version_major": 2
            },
            "text/plain": [
              "HBox(children=(IntProgress(value=0), HTML(value='')))"
            ]
          },
          "metadata": {
            "tags": []
          }
        },
        {
          "output_type": "stream",
          "text": [
            "\n"
          ],
          "name": "stdout"
        }
      ]
    },
    {
      "cell_type": "code",
      "metadata": {
        "id": "NWtnlcg8krRd",
        "colab_type": "code",
        "colab": {
          "base_uri": "https://localhost:8080/",
          "height": 66,
          "referenced_widgets": [
            "9b03d905c5a24391b09f504270f45fc3",
            "6f09af6ec86d45cbbd81bf8111dc3c42",
            "b3413f6268014b71b59360c671973fe3",
            "935694c12b4c4f35aa5450ae21eee8e2",
            "dcaff2dbf8e340f2bde9119e56b7dc9d",
            "adeb1518e00b400281dc22e7d79783ac",
            "ee322255a84a47bf943ceb7aa89aaf6a",
            "22737a476de54e769dc80c2d64c75b64"
          ]
        },
        "outputId": "a7057d9e-daf1-4b17-94a5-bd4c21107091"
      },
      "source": [
        "#get recommendations from fit model - training set (slow)\n",
        "recs_train = mf_model.recommend_all(train_set.T.tocsr(), filter_already_liked_items=False)"
      ],
      "execution_count": 64,
      "outputs": [
        {
          "output_type": "display_data",
          "data": {
            "application/vnd.jupyter.widget-view+json": {
              "model_id": "9b03d905c5a24391b09f504270f45fc3",
              "version_minor": 0,
              "version_major": 2
            },
            "text/plain": [
              "HBox(children=(IntProgress(value=0, max=188756), HTML(value='')))"
            ]
          },
          "metadata": {
            "tags": []
          }
        },
        {
          "output_type": "stream",
          "text": [
            "\n"
          ],
          "name": "stdout"
        }
      ]
    },
    {
      "cell_type": "code",
      "metadata": {
        "id": "OerAu08wmbZX",
        "colab_type": "code",
        "colab": {
          "base_uri": "https://localhost:8080/",
          "height": 34
        },
        "outputId": "638c0b2b-4c1c-49cc-9162-c0747cfc83b1"
      },
      "source": [
        "#make pl_index to iterate over\n",
        "pl_index = make_pl_index(train_set)\n",
        "pl_index.shape"
      ],
      "execution_count": 21,
      "outputs": [
        {
          "output_type": "execute_result",
          "data": {
            "text/plain": [
              "(188748,)"
            ]
          },
          "metadata": {
            "tags": []
          },
          "execution_count": 21
        }
      ]
    },
    {
      "cell_type": "code",
      "metadata": {
        "id": "t8NOGhHIlZD-",
        "colab_type": "code",
        "colab": {
          "base_uri": "https://localhost:8080/",
          "height": 34
        },
        "outputId": "7c92632d-d92d-45ae-ecaf-1c291e3ea056"
      },
      "source": [
        "#calculate precision@k for training set\n",
        "mean_precision = precision_at_k(recs_train, train_set, 10, pl_index)\n",
        "print(f'Average precision@(k=10) for the training set: {mean_precision:0.4f}')"
      ],
      "execution_count": 65,
      "outputs": [
        {
          "output_type": "stream",
          "text": [
            "Average precision@(k=10) for the training set: 0.4338\n"
          ],
          "name": "stdout"
        }
      ]
    },
    {
      "cell_type": "code",
      "metadata": {
        "id": "5cBUvMnWnNNs",
        "colab_type": "code",
        "colab": {
          "base_uri": "https://localhost:8080/",
          "height": 66,
          "referenced_widgets": [
            "937aad016213438f9bea9a1150e1cee0",
            "645302a571854ce5ad0f91f3a2540314",
            "7a6e3f8ed98b4467898ccc69cbee2e41",
            "92c44211adc34c9198644e3494ee1d5e",
            "d95866e2b56f4fdcb45dc37c5f46cbff",
            "91ca613197e04070ba417b55164f45be",
            "6d0fc2e81b2241b5946a26c7f5d5ffed",
            "c05839c31cc545969b65d65b1b3a843a"
          ]
        },
        "outputId": "f26d8839-6d11-4194-f15f-27128abc6606"
      },
      "source": [
        "#get recommendations from fit model - test set (slow)\n",
        "recsv_val = mf_model.recommend_all(val_set.T.tocsr(), filter_already_liked_items=False)"
      ],
      "execution_count": 66,
      "outputs": [
        {
          "output_type": "display_data",
          "data": {
            "application/vnd.jupyter.widget-view+json": {
              "model_id": "937aad016213438f9bea9a1150e1cee0",
              "version_minor": 0,
              "version_major": 2
            },
            "text/plain": [
              "HBox(children=(IntProgress(value=0, max=188756), HTML(value='')))"
            ]
          },
          "metadata": {
            "tags": []
          }
        },
        {
          "output_type": "stream",
          "text": [
            "\n"
          ],
          "name": "stdout"
        }
      ]
    },
    {
      "cell_type": "code",
      "metadata": {
        "id": "ZmCYkwevnWB3",
        "colab_type": "code",
        "colab": {
          "base_uri": "https://localhost:8080/",
          "height": 34
        },
        "outputId": "48c9d6e7-5ffd-4998-8da6-c2c3d34c2ad5"
      },
      "source": [
        "mean_precision = precision_at_k(recs_val, val_set, 10, pl_index)\n",
        "print(f'Average precision@(k=10) for the test set: {mean_precision:0.4f}')"
      ],
      "execution_count": 67,
      "outputs": [
        {
          "output_type": "stream",
          "text": [
            "Average precision@(k=10) for the test set: 0.0508\n"
          ],
          "name": "stdout"
        }
      ]
    },
    {
      "cell_type": "markdown",
      "metadata": {
        "id": "gI6WVk4couQJ",
        "colab_type": "text"
      },
      "source": [
        "Yay! We did it - we improved in our precision@k metric on both training and validation sets from the baseline model performance. Now we should look at whether we can optimize hyperparameters for better performance."
      ]
    },
    {
      "cell_type": "code",
      "metadata": {
        "id": "VQUAqROupduE",
        "colab_type": "code",
        "colab": {}
      },
      "source": [
        "#grid search"
      ],
      "execution_count": 0,
      "outputs": []
    }
  ]
}