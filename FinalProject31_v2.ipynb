{
  "nbformat": 4,
  "nbformat_minor": 0,
  "metadata": {
    "colab": {
      "name": "FinalProject31.ipynb",
      "provenance": [],
      "collapsed_sections": [],
      "toc_visible": true,
      "include_colab_link": true
    },
    "kernelspec": {
      "name": "python3",
      "display_name": "Python 3"
    },
    "accelerator": "GPU"
  },
  "cells": [
    {
      "cell_type": "markdown",
      "metadata": {
        "id": "view-in-github",
        "colab_type": "text"
      },
      "source": [
        "<a href=\"https://colab.research.google.com/github/asanneh/CS109A_2019_GR31_FINAL_PROJECT/blob/master/FinalProject31_v2.ipynb\" target=\"_parent\"><img src=\"https://colab.research.google.com/assets/colab-badge.svg\" alt=\"Open In Colab\"/></a>"
      ]
    },
    {
      "cell_type": "code",
      "metadata": {
        "id": "93NQZ_wGQYSa",
        "colab_type": "code",
        "colab": {}
      },
      "source": [
        "import pandas as pd\n",
        "import numpy as np\n",
        "import scipy.sparse as sparse"
      ],
      "execution_count": 0,
      "outputs": []
    },
    {
      "cell_type": "markdown",
      "metadata": {
        "id": "BwBYpLEyBSYE",
        "colab_type": "text"
      },
      "source": [
        "# New Section"
      ]
    },
    {
      "cell_type": "markdown",
      "metadata": {
        "id": "frbDSklJBOrD",
        "colab_type": "text"
      },
      "source": [
        "Helpful guide: https://towardsdatascience.com/getting-started-with-google-colab-f2fff97f594c. I mounted my google drive and then unzipped the Spotify Data. I think I got everything (CSVs from 0-999). Each CSV is 11 MB, so the unzipped size of the data is 11 GB (not too terrible?). We can always run things on the GPU by going to Runtime > change runtime type > GPU. That should give more space. "
      ]
    },
    {
      "cell_type": "code",
      "metadata": {
        "id": "G3StzX8MIves",
        "colab_type": "code",
        "outputId": "50e89c78-fa71-4e49-c4e0-92f49129da3a",
        "colab": {
          "base_uri": "https://localhost:8080/",
          "height": 122
        }
      },
      "source": [
        "from google.colab import drive\n",
        "drive.mount('/content/drive')"
      ],
      "execution_count": 2,
      "outputs": [
        {
          "output_type": "stream",
          "text": [
            "Go to this URL in a browser: https://accounts.google.com/o/oauth2/auth?client_id=947318989803-6bn6qk8qdgf4n4g3pfee6491hc0brc4i.apps.googleusercontent.com&redirect_uri=urn%3Aietf%3Awg%3Aoauth%3A2.0%3Aoob&scope=email%20https%3A%2F%2Fwww.googleapis.com%2Fauth%2Fdocs.test%20https%3A%2F%2Fwww.googleapis.com%2Fauth%2Fdrive%20https%3A%2F%2Fwww.googleapis.com%2Fauth%2Fdrive.photos.readonly%20https%3A%2F%2Fwww.googleapis.com%2Fauth%2Fpeopleapi.readonly&response_type=code\n",
            "\n",
            "Enter your authorization code:\n",
            "··········\n",
            "Mounted at /content/drive\n"
          ],
          "name": "stdout"
        }
      ]
    },
    {
      "cell_type": "code",
      "metadata": {
        "id": "iIvE1EukKhw4",
        "colab_type": "code",
        "outputId": "b6146796-b2c3-4cf2-f643-525636f55f9e",
        "colab": {
          "base_uri": "https://localhost:8080/",
          "height": 121
        }
      },
      "source": [
        "#  !unzip -q \"/content/drive/My Drive/CS109A project/Spotify.zip\" -d \"/content/drive/My Drive/CS109A project\""
      ],
      "execution_count": 0,
      "outputs": [
        {
          "output_type": "stream",
          "text": [
            "warning [/content/drive/My Drive/CS109A project/Spotify.zip]:  4294967296 extra bytes at beginning or within zipfile\n",
            "  (attempting to process anyway)\n",
            "file #1:  bad zipfile offset (local header sig):  4294967296\n",
            "  (attempting to re-compensate)\n",
            "file #882:  bad zipfile offset (local header sig):  868912\n",
            "  (attempting to re-compensate)\n"
          ],
          "name": "stdout"
        }
      ]
    },
    {
      "cell_type": "code",
      "metadata": {
        "id": "ehMR48ojQWt_",
        "colab_type": "code",
        "outputId": "4adc829e-8991-4d9c-9127-a72e385b424e",
        "colab": {
          "base_uri": "https://localhost:8080/",
          "height": 394
        }
      },
      "source": [
        "#look at 1000 playlists from the first file\n",
        "songs0 = pd.read_csv('/content/drive/My Drive/CS109A project/Songs/songs0.csv')\n",
        "print(f'dataset shape: {songs0.shape}')\n",
        "len(songs0['pid'].unique())\n",
        "print(f'unique playlists: {len(songs0.pid.unique())}')\n",
        "print(f'unique songs: {len(songs0.track_uri.unique())}')\n",
        "songs0.head()"
      ],
      "execution_count": 5,
      "outputs": [
        {
          "output_type": "stream",
          "text": [
            "dataset shape: (67503, 9)\n",
            "unique playlists: 1000\n",
            "unique songs: 34443\n"
          ],
          "name": "stdout"
        },
        {
          "output_type": "execute_result",
          "data": {
            "text/html": [
              "<div>\n",
              "<style scoped>\n",
              "    .dataframe tbody tr th:only-of-type {\n",
              "        vertical-align: middle;\n",
              "    }\n",
              "\n",
              "    .dataframe tbody tr th {\n",
              "        vertical-align: top;\n",
              "    }\n",
              "\n",
              "    .dataframe thead th {\n",
              "        text-align: right;\n",
              "    }\n",
              "</style>\n",
              "<table border=\"1\" class=\"dataframe\">\n",
              "  <thead>\n",
              "    <tr style=\"text-align: right;\">\n",
              "      <th></th>\n",
              "      <th>pid</th>\n",
              "      <th>pos</th>\n",
              "      <th>artist_name</th>\n",
              "      <th>track_uri</th>\n",
              "      <th>artist_uri</th>\n",
              "      <th>track_name</th>\n",
              "      <th>album_uri</th>\n",
              "      <th>duration_ms</th>\n",
              "      <th>album_name</th>\n",
              "    </tr>\n",
              "  </thead>\n",
              "  <tbody>\n",
              "    <tr>\n",
              "      <th>0</th>\n",
              "      <td>0</td>\n",
              "      <td>0</td>\n",
              "      <td>Missy Elliott</td>\n",
              "      <td>spotify:track:0UaMYEvWZi0ZqiDOoHU3YI</td>\n",
              "      <td>spotify:artist:2wIVse2owClT7go1WT98tk</td>\n",
              "      <td>Lose Control (feat. Ciara &amp; Fat Man Scoop)</td>\n",
              "      <td>spotify:album:6vV5UrXcfyQD1wu4Qo2I9K</td>\n",
              "      <td>226863</td>\n",
              "      <td>The Cookbook</td>\n",
              "    </tr>\n",
              "    <tr>\n",
              "      <th>1</th>\n",
              "      <td>0</td>\n",
              "      <td>1</td>\n",
              "      <td>Britney Spears</td>\n",
              "      <td>spotify:track:6I9VzXrHxO9rA9A5euc8Ak</td>\n",
              "      <td>spotify:artist:26dSoYclwsYLMAKD3tpOr4</td>\n",
              "      <td>Toxic</td>\n",
              "      <td>spotify:album:0z7pVBGOD7HCIB7S8eLkLI</td>\n",
              "      <td>198800</td>\n",
              "      <td>In The Zone</td>\n",
              "    </tr>\n",
              "    <tr>\n",
              "      <th>2</th>\n",
              "      <td>0</td>\n",
              "      <td>2</td>\n",
              "      <td>Beyoncé</td>\n",
              "      <td>spotify:track:0WqIKmW4BTrj3eJFmnCKMv</td>\n",
              "      <td>spotify:artist:6vWDO969PvNqNYHIOW5v0m</td>\n",
              "      <td>Crazy In Love</td>\n",
              "      <td>spotify:album:25hVFAxTlDvXbx2X2QkUkE</td>\n",
              "      <td>235933</td>\n",
              "      <td>Dangerously In Love (Alben für die Ewigkeit)</td>\n",
              "    </tr>\n",
              "    <tr>\n",
              "      <th>3</th>\n",
              "      <td>0</td>\n",
              "      <td>3</td>\n",
              "      <td>Justin Timberlake</td>\n",
              "      <td>spotify:track:1AWQoqb9bSvzTjaLralEkT</td>\n",
              "      <td>spotify:artist:31TPClRtHm23RisEBtV3X7</td>\n",
              "      <td>Rock Your Body</td>\n",
              "      <td>spotify:album:6QPkyl04rXwTGlGlcYaRoW</td>\n",
              "      <td>267266</td>\n",
              "      <td>Justified</td>\n",
              "    </tr>\n",
              "    <tr>\n",
              "      <th>4</th>\n",
              "      <td>0</td>\n",
              "      <td>4</td>\n",
              "      <td>Shaggy</td>\n",
              "      <td>spotify:track:1lzr43nnXAijIGYnCT8M8H</td>\n",
              "      <td>spotify:artist:5EvFsr3kj42KNv97ZEnqij</td>\n",
              "      <td>It Wasn't Me</td>\n",
              "      <td>spotify:album:6NmFmPX56pcLBOFMhIiKvF</td>\n",
              "      <td>227600</td>\n",
              "      <td>Hot Shot</td>\n",
              "    </tr>\n",
              "  </tbody>\n",
              "</table>\n",
              "</div>"
            ],
            "text/plain": [
              "   pid  pos  ... duration_ms                                    album_name\n",
              "0    0    0  ...      226863                                  The Cookbook\n",
              "1    0    1  ...      198800                                   In The Zone\n",
              "2    0    2  ...      235933  Dangerously In Love (Alben für die Ewigkeit)\n",
              "3    0    3  ...      267266                                     Justified\n",
              "4    0    4  ...      227600                                      Hot Shot\n",
              "\n",
              "[5 rows x 9 columns]"
            ]
          },
          "metadata": {
            "tags": []
          },
          "execution_count": 5
        }
      ]
    },
    {
      "cell_type": "code",
      "metadata": {
        "id": "-YguQnSDTyn8",
        "colab_type": "code",
        "outputId": "ca44ab59-d90e-4677-849e-ca3f52e5fe19",
        "colab": {
          "base_uri": "https://localhost:8080/",
          "height": 295
        }
      },
      "source": [
        "#what identifier should we use\n",
        "print(f'unique songs by uri: {len(songs0.track_uri.unique())}')\n",
        "print(f'unique songs by name: {len(songs0.track_name.unique())}')\n",
        "print('unique artist+track combos (uri):', len(songs0.groupby(['track_uri', 'artist_uri'])))\n",
        "print('unique artist+track combos (name):', len(songs0.groupby(['track_name', 'artist_name'])))\n",
        "songs0.isnull().sum()\n",
        "songs0_nodup = songs0.drop_duplicates(subset = 'track_uri') #drop all duplicated songs\n",
        "\n",
        "counts = songs0_nodup['track_name'].value_counts() #count up occurences of song names\n",
        "counts\n"
      ],
      "execution_count": 0,
      "outputs": [
        {
          "output_type": "stream",
          "text": [
            "unique songs by uri: 34443\n",
            "unique songs by name: 30049\n",
            "unique artist+track combos (uri): 34443\n",
            "unique artist+track combos (name): 34250\n"
          ],
          "name": "stdout"
        },
        {
          "output_type": "execute_result",
          "data": {
            "text/plain": [
              "Silent Night          21\n",
              "Home                  20\n",
              "Closer                18\n",
              "Smile                 16\n",
              "Hallelujah            16\n",
              "                      ..\n",
              "Beauty School          1\n",
              "Reggae Music Lives     1\n",
              "Donna Lee              1\n",
              "Gitana                 1\n",
              "Guinevere              1\n",
              "Name: track_name, Length: 30049, dtype: int64"
            ]
          },
          "metadata": {
            "tags": []
          },
          "execution_count": 5
        }
      ]
    },
    {
      "cell_type": "code",
      "metadata": {
        "id": "8M08694jgEci",
        "colab_type": "code",
        "outputId": "b1eed324-1d66-4a94-ff44-826ecca3b879",
        "colab": {
          "base_uri": "https://localhost:8080/",
          "height": 363
        }
      },
      "source": [
        "# look at the first 5 unique songs named 'Home' - we have different uris for each of them. \n",
        "songs0_nodup.loc[songs0_nodup['track_name']=='Home'][0:5]\n"
      ],
      "execution_count": 0,
      "outputs": [
        {
          "output_type": "execute_result",
          "data": {
            "text/html": [
              "<div>\n",
              "<style scoped>\n",
              "    .dataframe tbody tr th:only-of-type {\n",
              "        vertical-align: middle;\n",
              "    }\n",
              "\n",
              "    .dataframe tbody tr th {\n",
              "        vertical-align: top;\n",
              "    }\n",
              "\n",
              "    .dataframe thead th {\n",
              "        text-align: right;\n",
              "    }\n",
              "</style>\n",
              "<table border=\"1\" class=\"dataframe\">\n",
              "  <thead>\n",
              "    <tr style=\"text-align: right;\">\n",
              "      <th></th>\n",
              "      <th>pid</th>\n",
              "      <th>pos</th>\n",
              "      <th>artist_name</th>\n",
              "      <th>track_uri</th>\n",
              "      <th>artist_uri</th>\n",
              "      <th>track_name</th>\n",
              "      <th>album_uri</th>\n",
              "      <th>duration_ms</th>\n",
              "      <th>album_name</th>\n",
              "    </tr>\n",
              "  </thead>\n",
              "  <tbody>\n",
              "    <tr>\n",
              "      <th>1750</th>\n",
              "      <td>32</td>\n",
              "      <td>9</td>\n",
              "      <td>Johnnyswim</td>\n",
              "      <td>spotify:track:2BX2njwutbKutDcLVFiqUU</td>\n",
              "      <td>spotify:artist:4igDSX1kgfWbVTDCywcBGm</td>\n",
              "      <td>Home</td>\n",
              "      <td>spotify:album:2y2pzedHjln9MbTHCq99qP</td>\n",
              "      <td>211106</td>\n",
              "      <td>Diamonds</td>\n",
              "    </tr>\n",
              "    <tr>\n",
              "      <th>2630</th>\n",
              "      <td>42</td>\n",
              "      <td>130</td>\n",
              "      <td>Billy Crudup</td>\n",
              "      <td>spotify:track:3JWkxuQyYKzdMr5yBHUnWR</td>\n",
              "      <td>spotify:artist:6OKX0ui8juGXVOOW02uCbm</td>\n",
              "      <td>Home</td>\n",
              "      <td>spotify:album:54a0lBXG3n0YEI32pyPwA1</td>\n",
              "      <td>236373</td>\n",
              "      <td>Rudderless (Original Motion Picture Soundtrack)</td>\n",
              "    </tr>\n",
              "    <tr>\n",
              "      <th>2643</th>\n",
              "      <td>42</td>\n",
              "      <td>143</td>\n",
              "      <td>Edward Sharpe &amp; The Magnetic Zeros</td>\n",
              "      <td>spotify:track:7w5cxTEzp1rfV3KCy0Bd5N</td>\n",
              "      <td>spotify:artist:7giUHu5pv6YTZgSkxxCcgh</td>\n",
              "      <td>Home</td>\n",
              "      <td>spotify:album:39xrkt8RILtwa9DMyLkv32</td>\n",
              "      <td>303200</td>\n",
              "      <td>Up from Below</td>\n",
              "    </tr>\n",
              "    <tr>\n",
              "      <th>6771</th>\n",
              "      <td>108</td>\n",
              "      <td>46</td>\n",
              "      <td>The Piano Guys</td>\n",
              "      <td>spotify:track:6aE6m5NGfzSZtC5gmpo4d3</td>\n",
              "      <td>spotify:artist:0jW6R8CVyVohuUJVcuweDI</td>\n",
              "      <td>Home</td>\n",
              "      <td>spotify:album:5vInnbRSNVuhkF8HpMwVVS</td>\n",
              "      <td>277560</td>\n",
              "      <td>Wonders</td>\n",
              "    </tr>\n",
              "    <tr>\n",
              "      <th>9530</th>\n",
              "      <td>146</td>\n",
              "      <td>12</td>\n",
              "      <td>Three Days Grace</td>\n",
              "      <td>spotify:track:11RUCSAgpexhJSMmcuO4h2</td>\n",
              "      <td>spotify:artist:2xiIXseIJcq3nG7C8fHeBj</td>\n",
              "      <td>Home</td>\n",
              "      <td>spotify:album:13topfW33NjnACjnRiZBX7</td>\n",
              "      <td>260680</td>\n",
              "      <td>Three Days Grace</td>\n",
              "    </tr>\n",
              "  </tbody>\n",
              "</table>\n",
              "</div>"
            ],
            "text/plain": [
              "      pid  pos  ... duration_ms                                       album_name\n",
              "1750   32    9  ...      211106                                         Diamonds\n",
              "2630   42  130  ...      236373  Rudderless (Original Motion Picture Soundtrack)\n",
              "2643   42  143  ...      303200                                    Up from Below\n",
              "6771  108   46  ...      277560                                          Wonders\n",
              "9530  146   12  ...      260680                                 Three Days Grace\n",
              "\n",
              "[5 rows x 9 columns]"
            ]
          },
          "metadata": {
            "tags": []
          },
          "execution_count": 6
        }
      ]
    },
    {
      "cell_type": "markdown",
      "metadata": {
        "id": "4h5QSvVJhjVC",
        "colab_type": "text"
      },
      "source": [
        "I think URIs are a better way to go here - unique to each song and artist, regardless of name overlaps. Especially with cover songs - could be entirely different styles and belong in different playlists. "
      ]
    },
    {
      "cell_type": "code",
      "metadata": {
        "id": "hPeHKAurlCwP",
        "colab_type": "code",
        "outputId": "53949e53-f968-40b8-ca4a-31b9dfd54ba4",
        "colab": {
          "base_uri": "https://localhost:8080/",
          "height": 424
        }
      },
      "source": [
        "#what is the average length of a playlist\n",
        "num_songs_in_pl = songs0.groupby(by='pid').count()['track_uri']\n",
        "num_songs_in_pl.plot(kind = 'hist');\n",
        "\n",
        "num_songs_in_pl.describe()"
      ],
      "execution_count": 0,
      "outputs": [
        {
          "output_type": "execute_result",
          "data": {
            "text/plain": [
              "count    1000.00000\n",
              "mean       67.50300\n",
              "std        55.00334\n",
              "min         5.00000\n",
              "25%        25.00000\n",
              "50%        50.00000\n",
              "75%        92.50000\n",
              "max       245.00000\n",
              "Name: track_uri, dtype: float64"
            ]
          },
          "metadata": {
            "tags": []
          },
          "execution_count": 7
        },
        {
          "output_type": "display_data",
          "data": {
            "image/png": "[encoded data removed]",
            "text/plain": [
              "<Figure size 432x288 with 1 Axes>"
            ]
          },
          "metadata": {
            "tags": []
          }
        }
      ]
    },
    {
      "cell_type": "markdown",
      "metadata": {
        "id": "W492gam3dW6o",
        "colab_type": "text"
      },
      "source": [
        "I am using the two websites here to figure out how to make a recommender from a sparse matrix:\n",
        "https://www.ethanrosenthal.com/2016/10/19/implicit-mf-part-1/\n",
        "https://jessesw.com/Rec-System/\n"
      ]
    },
    {
      "cell_type": "code",
      "metadata": {
        "id": "6oPimOn5Svg3",
        "colab_type": "code",
        "outputId": "fa691b03-6094-466a-ff6e-d9d22befd7c7",
        "colab": {
          "base_uri": "https://localhost:8080/",
          "height": 119
        }
      },
      "source": [
        "#make sparse binary matrix of playlist x uniq song? 0 if song not in playlist, 1 if it is\n",
        "#play_song_mat = np.zeros([len(songs0.pid.unique()), len(songs0.track_uri.unique())])\n",
        "#play_song_mat.shape\n",
        "\n",
        "n_pls = songs0.pid.unique().shape[0]\n",
        "n_songs = songs0.track_uri.unique().shape[0]\n",
        "\n",
        "#calculate matrix sparsity\n",
        "print(f'Num playlists: {n_pls}')\n",
        "print(f'Num unique songs: {n_songs}')\n",
        "print(f'Sparsity: {float(songs0.shape[0]) /float(n_pls*n_songs) * 100:0.3f}%')\n",
        "\n",
        "#make sparse matrix\n",
        "rows = songs0.pid.astype('category').cat.codes # make category codes/indices for each playlist\n",
        "cols = songs0.track_uri.astype('category').cat.codes # make category codes/indices for each song\n",
        "likes = np.ones(rows.shape[0]) #1s if song is in playlist\n",
        "\n",
        "likes = sparse.csr_matrix((likes, (rows, cols)), dtype=np.float64) #make sparse matrix\n",
        "print(songs0.groupby(by=['pid', 'track_uri']).count()['track_name'].shape)\n",
        "likes"
      ],
      "execution_count": 8,
      "outputs": [
        {
          "output_type": "stream",
          "text": [
            "Num playlists: 1000\n",
            "Num unique songs: 34443\n",
            "Sparsity: 0.196%\n",
            "(66721,)\n"
          ],
          "name": "stdout"
        },
        {
          "output_type": "execute_result",
          "data": {
            "text/plain": [
              "<1000x34443 sparse matrix of type '<class 'numpy.float64'>'\n",
              "\twith 66721 stored elements in Compressed Sparse Row format>"
            ]
          },
          "metadata": {
            "tags": []
          },
          "execution_count": 8
        }
      ]
    },
    {
      "cell_type": "code",
      "metadata": {
        "id": "5yN8NxM9Y-Qe",
        "colab_type": "code",
        "outputId": "27b5a77c-cb3c-4369-d7ce-cf21722a2d09",
        "colab": {
          "base_uri": "https://localhost:8080/",
          "height": 121
        }
      },
      "source": [
        "!wget -cq  https://cs109a-group31-final-project.s3.amazonaws.com/Spotify.zip \n",
        "!unzip -qq Spotify.zip"
      ],
      "execution_count": 0,
      "outputs": [
        {
          "output_type": "stream",
          "text": [
            "warning [Spotify.zip]:  4294967296 extra bytes at beginning or within zipfile\n",
            "  (attempting to process anyway)\n",
            "file #1:  bad zipfile offset (local header sig):  4294967296\n",
            "  (attempting to re-compensate)\n",
            "file #882:  bad zipfile offset (local header sig):  868912\n",
            "  (attempting to re-compensate)\n"
          ],
          "name": "stdout"
        }
      ]
    },
    {
      "cell_type": "code",
      "metadata": {
        "id": "YvrzB4WoZ2QN",
        "colab_type": "code",
        "outputId": "28aa05a2-7249-4d21-bd22-db2070c4aefd",
        "colab": {
          "base_uri": "https://localhost:8080/",
          "height": 400
        }
      },
      "source": [
        "songs_temp = pd.read_csv('/content/Songs/songs100.csv')\n",
        "print(f'dataset shape: {songs_temp.shape}')\n",
        "len(songs_temp['pid'].unique())\n",
        "print(f'unique playlists: {len(songs_temp.pid.unique())}')\n",
        "print(f'unique songs: {len(songs_temp.track_uri.unique())}')\n",
        "songs_temp.head()"
      ],
      "execution_count": 0,
      "outputs": [
        {
          "output_type": "stream",
          "text": [
            "dataset shape: (68750, 9)\n",
            "unique playlists: 1000\n",
            "unique songs: 36685\n"
          ],
          "name": "stdout"
        },
        {
          "output_type": "execute_result",
          "data": {
            "text/html": [
              "<div>\n",
              "<style scoped>\n",
              "    .dataframe tbody tr th:only-of-type {\n",
              "        vertical-align: middle;\n",
              "    }\n",
              "\n",
              "    .dataframe tbody tr th {\n",
              "        vertical-align: top;\n",
              "    }\n",
              "\n",
              "    .dataframe thead th {\n",
              "        text-align: right;\n",
              "    }\n",
              "</style>\n",
              "<table border=\"1\" class=\"dataframe\">\n",
              "  <thead>\n",
              "    <tr style=\"text-align: right;\">\n",
              "      <th></th>\n",
              "      <th>pid</th>\n",
              "      <th>pos</th>\n",
              "      <th>artist_name</th>\n",
              "      <th>track_uri</th>\n",
              "      <th>artist_uri</th>\n",
              "      <th>track_name</th>\n",
              "      <th>album_uri</th>\n",
              "      <th>duration_ms</th>\n",
              "      <th>album_name</th>\n",
              "    </tr>\n",
              "  </thead>\n",
              "  <tbody>\n",
              "    <tr>\n",
              "      <th>0</th>\n",
              "      <td>0</td>\n",
              "      <td>0</td>\n",
              "      <td>ZAYN</td>\n",
              "      <td>spotify:track:3NdDpSvN911VPGivFlV5d0</td>\n",
              "      <td>spotify:artist:5ZsFI1h6hIdQRw2ti0hz81</td>\n",
              "      <td>I Don’t Wanna Live Forever (Fifty Shades Darke...</td>\n",
              "      <td>spotify:album:5MxXY7DbFMUiHFTPUabgJJ</td>\n",
              "      <td>245200</td>\n",
              "      <td>I Don’t Wanna Live Forever (Fifty Shades Darker)</td>\n",
              "    </tr>\n",
              "    <tr>\n",
              "      <th>1</th>\n",
              "      <td>0</td>\n",
              "      <td>1</td>\n",
              "      <td>Halsey</td>\n",
              "      <td>spotify:track:1uoL9GX45dTnmrWQ7Ii1Ft</td>\n",
              "      <td>spotify:artist:26VFTg2z8YR0cCuwLzESi2</td>\n",
              "      <td>Not Afraid Anymore</td>\n",
              "      <td>spotify:album:4HLA2Fsva7IJafJrhG5u52</td>\n",
              "      <td>226800</td>\n",
              "      <td>Not Afraid Anymore</td>\n",
              "    </tr>\n",
              "    <tr>\n",
              "      <th>2</th>\n",
              "      <td>0</td>\n",
              "      <td>2</td>\n",
              "      <td>Bryson Tiller</td>\n",
              "      <td>spotify:track:43PuMrRfbyyuz4QpZ3oAwN</td>\n",
              "      <td>spotify:artist:2EMAnMvWE2eb56ToJVfCWs</td>\n",
              "      <td>Exchange</td>\n",
              "      <td>spotify:album:6eZdwrhB97A3EYx9QppGfl</td>\n",
              "      <td>194613</td>\n",
              "      <td>T R A P S O U L</td>\n",
              "    </tr>\n",
              "    <tr>\n",
              "      <th>3</th>\n",
              "      <td>0</td>\n",
              "      <td>3</td>\n",
              "      <td>PARTYNEXTDOOR</td>\n",
              "      <td>spotify:track:1wZqJM5FGDEl3FjHDxDyQd</td>\n",
              "      <td>spotify:artist:2HPaUgqeutzr3jx5a9WyDV</td>\n",
              "      <td>Come and See Me (feat. Drake)</td>\n",
              "      <td>spotify:album:2FXGUAESmG5l9YPrzWPvHI</td>\n",
              "      <td>235477</td>\n",
              "      <td>PARTYNEXTDOOR 3 (P3)</td>\n",
              "    </tr>\n",
              "    <tr>\n",
              "      <th>4</th>\n",
              "      <td>0</td>\n",
              "      <td>4</td>\n",
              "      <td>Bryson Tiller</td>\n",
              "      <td>spotify:track:3pXF1nA74528Edde4of9CC</td>\n",
              "      <td>spotify:artist:2EMAnMvWE2eb56ToJVfCWs</td>\n",
              "      <td>Don't</td>\n",
              "      <td>spotify:album:6eZdwrhB97A3EYx9QppGfl</td>\n",
              "      <td>198293</td>\n",
              "      <td>T R A P S O U L</td>\n",
              "    </tr>\n",
              "  </tbody>\n",
              "</table>\n",
              "</div>"
            ],
            "text/plain": [
              "   pid  pos  ... duration_ms                                        album_name\n",
              "0    0    0  ...      245200  I Don’t Wanna Live Forever (Fifty Shades Darker)\n",
              "1    0    1  ...      226800                                Not Afraid Anymore\n",
              "2    0    2  ...      194613                                   T R A P S O U L\n",
              "3    0    3  ...      235477                              PARTYNEXTDOOR 3 (P3)\n",
              "4    0    4  ...      198293                                   T R A P S O U L\n",
              "\n",
              "[5 rows x 9 columns]"
            ]
          },
          "metadata": {
            "tags": []
          },
          "execution_count": 13
        }
      ]
    }
  ]
}